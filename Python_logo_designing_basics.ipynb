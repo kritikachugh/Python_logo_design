{
  "nbformat": 4,
  "nbformat_minor": 0,
  "metadata": {
    "colab": {
      "name": "Python_logo_designing_basics.ipynb",
      "provenance": [],
      "toc_visible": true,
      "include_colab_link": true
    },
    "kernelspec": {
      "name": "python3",
      "display_name": "Python 3"
    }
  },
  "cells": [
    {
      "cell_type": "markdown",
      "metadata": {
        "id": "view-in-github",
        "colab_type": "text"
      },
      "source": [
        "<a href=\"https://colab.research.google.com/github/kritikachugh/Python_logo_design/blob/master/Python_logo_designing_basics.ipynb\" target=\"_parent\"><img src=\"https://colab.research.google.com/assets/colab-badge.svg\" alt=\"Open In Colab\"/></a>"
      ]
    },
    {
      "cell_type": "markdown",
      "metadata": {
        "id": "pNx2Uj_ro2-7",
        "colab_type": "text"
      },
      "source": [
        "#PYTHON TURTLE"
      ]
    },
    {
      "cell_type": "markdown",
      "metadata": {
        "id": "6-4Q0-yMpAc-",
        "colab_type": "text"
      },
      "source": [
        "Python has a drawing tool called 'Turtle' in it's library. Turtle allows users to create various types of shapes and images. For example, we can draw any geometric figure by initializing turtle and giving inputs for moving the turtle.\n",
        "\n",
        "For details about the function, please refer to this web-link:\n",
        "**https://github.com/tolgaatam/ColabTurtle/blob/master/ColabTurtle/Turtle.py**"
      ]
    },
    {
      "cell_type": "markdown",
      "metadata": {
        "id": "w5ZzWbgCL5ET",
        "colab_type": "text"
      },
      "source": [
        "# INSTALLING A TURTLE"
      ]
    },
    {
      "cell_type": "code",
      "metadata": {
        "id": "6VmoylN4L3Pl",
        "colab_type": "code",
        "colab": {
          "base_uri": "https://localhost:8080/",
          "height": 190
        },
        "outputId": "cfc7c81b-dc5e-4a92-e008-d10eaf7ac050"
      },
      "source": [
        "## The command to install a turtle\n",
        "!pip3 install ColabTurtle\n",
        "from ColabTurtle.Turtle import *"
      ],
      "execution_count": null,
      "outputs": [
        {
          "output_type": "stream",
          "text": [
            "Collecting ColabTurtle\n",
            "  Downloading https://files.pythonhosted.org/packages/49/01/6da7091c2c6c917cce99c000b89acb6aa27b66ef6eafc0c0ccf59b98694f/ColabTurtle-2.0.0.tar.gz\n",
            "Building wheels for collected packages: ColabTurtle\n",
            "  Building wheel for ColabTurtle (setup.py) ... \u001b[?25l\u001b[?25hdone\n",
            "  Created wheel for ColabTurtle: filename=ColabTurtle-2.0.0-cp36-none-any.whl size=4032 sha256=ff7890b3da77bc4481192b6c232bbdeae7e0b1c843f8c278199b28717668aa1f\n",
            "  Stored in directory: /root/.cache/pip/wheels/a8/29/ec/ad346f0042ae467cc74f4378916348faf975b07890651dcae7\n",
            "Successfully built ColabTurtle\n",
            "Installing collected packages: ColabTurtle\n",
            "Successfully installed ColabTurtle-2.0.0\n"
          ],
          "name": "stdout"
        }
      ]
    },
    {
      "cell_type": "markdown",
      "metadata": {
        "id": "_cSP2-E-qBpd",
        "colab_type": "text"
      },
      "source": [
        "# FUNCTIONS IN PYTHON TURTLE"
      ]
    },
    {
      "cell_type": "markdown",
      "metadata": {
        "id": "E4S0im20qiH-",
        "colab_type": "text"
      },
      "source": [
        "## FUNCTIONS\n",
        "\n",
        "Functions are used to break down large program into small segments which makes program easy to understand, maintain and debug. </br> The information that is passed into a function is called argument or parameter.</br> \n",
        "\n",
        "**def function_name(argument):**     ## This is how a function is defined.\n",
        "\n",
        "\n"
      ]
    },
    {
      "cell_type": "markdown",
      "metadata": {
        "id": "tpBclCaKVTE2",
        "colab_type": "text"
      },
      "source": [
        "### Functions for directions\n",
        "There are four directions in which a turtle can move. This includes forward, backward, left and right.\n",
        "\n"
      ]
    },
    {
      "cell_type": "markdown",
      "metadata": {
        "id": "ygXGMoEKVfx7",
        "colab_type": "text"
      },
      "source": [
        "#### **forward() and backward()**\n",
        "\n",
        "forward() moves the turtle in forward direction by a certain distance and draws a line behind the turtle.</br>backward() turns the turtle in backward direction by a specified distance and draws a line along the path taken.\n",
        "\n",
        "Input can be integer(positive or negative) or float"
      ]
    },
    {
      "cell_type": "markdown",
      "metadata": {
        "id": "ZRm0QqfkLK2a",
        "colab_type": "text"
      },
      "source": [
        "**For instance: Let's move a turtle forward by a distance of 90 units.**"
      ]
    },
    {
      "cell_type": "code",
      "metadata": {
        "id": "JzDxxjoSMEbu",
        "colab_type": "code",
        "colab": {
          "base_uri": "https://localhost:8080/",
          "height": 541
        },
        "outputId": "5f04bfe6-2174-4e58-a0f9-693cb73b692c"
      },
      "source": [
        "initializeTurtle()\n",
        "## Moving the turtle forward\n",
        "forward(units=90)"
      ],
      "execution_count": null,
      "outputs": [
        {
          "output_type": "display_data",
          "data": {
            "text/html": [
              "\n",
              "      <svg width=\"800\" height=\"500\">\n",
              "        <rect width=\"100%\" height=\"100%\" fill=\"black\"/>\n",
              "        <line x1=\"400\" y1=\"250\" x2=\"400.0\" y2=\"160.0\" stroke-linecap=\"round\" style=\"stroke:white;stroke-width:4\"/>\n",
              "        \n",
              "      <g visibility=visible transform=\"rotate(180,400.0,160.0) translate(400.0, 160.0)\">\n",
              "        <circle stroke=\"white\" stroke-width=\"3\" fill=\"transparent\" r=\"12\" cx=\"0\" cy=\"0\"/>\n",
              "        <polygon points=\"0,19 3,16 -3,16\" style=\"fill:white;stroke:white;stroke-width:2\"/>\n",
              "      </g>\n",
              "    \n",
              "      </svg>\n",
              "    "
            ],
            "text/plain": [
              "<IPython.core.display.HTML object>"
            ]
          },
          "metadata": {
            "tags": []
          }
        }
      ]
    },
    {
      "cell_type": "markdown",
      "metadata": {
        "id": "JHUA-2CsRb91",
        "colab_type": "text"
      },
      "source": [
        "**Move a turtle forward by a distance of 90 units.**"
      ]
    },
    {
      "cell_type": "code",
      "metadata": {
        "id": "UUAElSufRn_d",
        "colab_type": "code",
        "colab": {
          "base_uri": "https://localhost:8080/",
          "height": 541
        },
        "outputId": "ed7ad215-8ef2-4dc5-a8fe-59964eb7337e"
      },
      "source": [
        "initializeTurtle()\n",
        "## Moving the turtle backward\n",
        "backward(units=90)"
      ],
      "execution_count": null,
      "outputs": [
        {
          "output_type": "display_data",
          "data": {
            "text/html": [
              "\n",
              "      <svg width=\"800\" height=\"500\">\n",
              "        <rect width=\"100%\" height=\"100%\" fill=\"black\"/>\n",
              "        <line x1=\"400\" y1=\"250\" x2=\"400.0\" y2=\"340.0\" stroke-linecap=\"round\" style=\"stroke:white;stroke-width:4\"/>\n",
              "        \n",
              "      <g visibility=visible transform=\"rotate(180,400.0,340.0) translate(400.0, 340.0)\">\n",
              "        <circle stroke=\"white\" stroke-width=\"3\" fill=\"transparent\" r=\"12\" cx=\"0\" cy=\"0\"/>\n",
              "        <polygon points=\"0,19 3,16 -3,16\" style=\"fill:white;stroke:white;stroke-width:2\"/>\n",
              "      </g>\n",
              "    \n",
              "      </svg>\n",
              "    "
            ],
            "text/plain": [
              "<IPython.core.display.HTML object>"
            ]
          },
          "metadata": {
            "tags": []
          }
        }
      ]
    },
    {
      "cell_type": "markdown",
      "metadata": {
        "id": "PnG5JfwFLGKI",
        "colab_type": "text"
      },
      "source": [
        "#### **left() and right()**\n",
        "\n",
        "left() rotates the turtle in the left direction by a certain degree and right() orients the turtle in right direction by a defined degree. "
      ]
    },
    {
      "cell_type": "markdown",
      "metadata": {
        "id": "Fc3nVcN8Suml",
        "colab_type": "text"
      },
      "source": [
        "**For instance:Move a turtle left by 90 degrees.**"
      ]
    },
    {
      "cell_type": "code",
      "metadata": {
        "id": "bdukfWFmUVf8",
        "colab_type": "code",
        "colab": {
          "base_uri": "https://localhost:8080/",
          "height": 541
        },
        "outputId": "1976ebfb-8c78-4108-a56a-14759a714eaf"
      },
      "source": [
        "initializeTurtle()\n",
        "## Moving the turtle left\n",
        "left(degrees=90)"
      ],
      "execution_count": null,
      "outputs": [
        {
          "output_type": "display_data",
          "data": {
            "text/html": [
              "\n",
              "      <svg width=\"800\" height=\"500\">\n",
              "        <rect width=\"100%\" height=\"100%\" fill=\"black\"/>\n",
              "        \n",
              "        \n",
              "      <g visibility=visible transform=\"rotate(90,400,250) translate(400, 250)\">\n",
              "        <circle stroke=\"white\" stroke-width=\"3\" fill=\"transparent\" r=\"12\" cx=\"0\" cy=\"0\"/>\n",
              "        <polygon points=\"0,19 3,16 -3,16\" style=\"fill:white;stroke:white;stroke-width:2\"/>\n",
              "      </g>\n",
              "    \n",
              "      </svg>\n",
              "    "
            ],
            "text/plain": [
              "<IPython.core.display.HTML object>"
            ]
          },
          "metadata": {
            "tags": []
          }
        }
      ]
    },
    {
      "cell_type": "markdown",
      "metadata": {
        "id": "M0mhd36nUumc",
        "colab_type": "text"
      },
      "source": [
        "**Move a turtle right by 90 degrees.**"
      ]
    },
    {
      "cell_type": "code",
      "metadata": {
        "id": "BFEoTLqkUyZ1",
        "colab_type": "code",
        "colab": {
          "base_uri": "https://localhost:8080/",
          "height": 541
        },
        "outputId": "b54eedb3-fb37-4179-c9f3-f8028540a8ef"
      },
      "source": [
        "initializeTurtle()\n",
        "## Moving the turtle right\n",
        "right(degrees=90)"
      ],
      "execution_count": null,
      "outputs": [
        {
          "output_type": "display_data",
          "data": {
            "text/html": [
              "\n",
              "      <svg width=\"800\" height=\"500\">\n",
              "        <rect width=\"100%\" height=\"100%\" fill=\"black\"/>\n",
              "        \n",
              "        \n",
              "      <g visibility=visible transform=\"rotate(-90,400,250) translate(400, 250)\">\n",
              "        <circle stroke=\"white\" stroke-width=\"3\" fill=\"transparent\" r=\"12\" cx=\"0\" cy=\"0\"/>\n",
              "        <polygon points=\"0,19 3,16 -3,16\" style=\"fill:white;stroke:white;stroke-width:2\"/>\n",
              "      </g>\n",
              "    \n",
              "      </svg>\n",
              "    "
            ],
            "text/plain": [
              "<IPython.core.display.HTML object>"
            ]
          },
          "metadata": {
            "tags": []
          }
        }
      ]
    },
    {
      "cell_type": "markdown",
      "metadata": {
        "id": "8SRRYO41d7ol",
        "colab_type": "text"
      },
      "source": [
        "#### Functions related to pen"
      ]
    },
    {
      "cell_type": "markdown",
      "metadata": {
        "id": "JZPLeI3zeKxM",
        "colab_type": "text"
      },
      "source": [
        "#### **penup() and pendown()**\n",
        "\n",
        "penup() function picks up the turtle's pen.</br> pendown() function down the turtle's pen.\n",
        "\n",
        "**For instance: Let's draw two lines.**"
      ]
    },
    {
      "cell_type": "code",
      "metadata": {
        "id": "QSv_-_wRe9Kt",
        "colab_type": "code",
        "colab": {
          "base_uri": "https://localhost:8080/",
          "height": 541
        },
        "outputId": "f524f7a1-05e9-4438-bf0b-829415e7fa66"
      },
      "source": [
        "initializeTurtle()\n",
        "forward(units=90)\n",
        "left(degrees=90)\n",
        "penup()\n",
        "forward(units=90)\n",
        "left(degrees=90)\n",
        "pendown()\n",
        "forward(units=90)"
      ],
      "execution_count": null,
      "outputs": [
        {
          "output_type": "display_data",
          "data": {
            "text/html": [
              "\n",
              "      <svg width=\"800\" height=\"500\">\n",
              "        <rect width=\"100%\" height=\"100%\" fill=\"black\"/>\n",
              "        <line x1=\"400\" y1=\"250\" x2=\"400.0\" y2=\"160.0\" stroke-linecap=\"round\" style=\"stroke:white;stroke-width:4\"/><line x1=\"310.0\" y1=\"160.0\" x2=\"310.0\" y2=\"250.0\" stroke-linecap=\"round\" style=\"stroke:white;stroke-width:4\"/>\n",
              "        \n",
              "      <g visibility=visible transform=\"rotate(0,310.0,250.0) translate(310.0, 250.0)\">\n",
              "        <circle stroke=\"white\" stroke-width=\"3\" fill=\"transparent\" r=\"12\" cx=\"0\" cy=\"0\"/>\n",
              "        <polygon points=\"0,19 3,16 -3,16\" style=\"fill:white;stroke:white;stroke-width:2\"/>\n",
              "      </g>\n",
              "    \n",
              "      </svg>\n",
              "    "
            ],
            "text/plain": [
              "<IPython.core.display.HTML object>"
            ]
          },
          "metadata": {
            "tags": []
          }
        }
      ]
    },
    {
      "cell_type": "markdown",
      "metadata": {
        "id": "yLyzYvMmhEPe",
        "colab_type": "text"
      },
      "source": [
        "#### **width()**\n",
        "\n",
        "width() function is used to increase or decrease the thickness of a pen.\n",
        "\n",
        "**For instance: Let's draw two lines with different thickness.**\n",
        "\n"
      ]
    },
    {
      "cell_type": "code",
      "metadata": {
        "id": "Q1KdVDuMhiLy",
        "colab_type": "code",
        "colab": {
          "base_uri": "https://localhost:8080/",
          "height": 541
        },
        "outputId": "44b3f996-7a7c-45fa-fdf0-861e03714e97"
      },
      "source": [
        "initializeTurtle()\n",
        "forward(units=90)\n",
        "left(degrees=90)\n",
        "penup()\n",
        "width(8) ## Changing the default width of a pen from 4 to 8\n",
        "forward(units=90)\n",
        "left(degrees=90)\n",
        "pendown()\n",
        "forward(units=90)"
      ],
      "execution_count": null,
      "outputs": [
        {
          "output_type": "display_data",
          "data": {
            "text/html": [
              "\n",
              "      <svg width=\"800\" height=\"500\">\n",
              "        <rect width=\"100%\" height=\"100%\" fill=\"black\"/>\n",
              "        <line x1=\"400\" y1=\"250\" x2=\"400.0\" y2=\"160.0\" stroke-linecap=\"round\" style=\"stroke:white;stroke-width:4\"/><line x1=\"310.0\" y1=\"160.0\" x2=\"310.0\" y2=\"250.0\" stroke-linecap=\"round\" style=\"stroke:white;stroke-width:8\"/>\n",
              "        \n",
              "      <g visibility=visible transform=\"rotate(0,310.0,250.0) translate(310.0, 250.0)\">\n",
              "        <circle stroke=\"white\" stroke-width=\"3\" fill=\"transparent\" r=\"12\" cx=\"0\" cy=\"0\"/>\n",
              "        <polygon points=\"0,19 3,16 -3,16\" style=\"fill:white;stroke:white;stroke-width:2\"/>\n",
              "      </g>\n",
              "    \n",
              "      </svg>\n",
              "    "
            ],
            "text/plain": [
              "<IPython.core.display.HTML object>"
            ]
          },
          "metadata": {
            "tags": []
          }
        }
      ]
    },
    {
      "cell_type": "markdown",
      "metadata": {
        "id": "I9XvKvqimURp",
        "colab_type": "text"
      },
      "source": [
        "#### **color()**\n",
        "\n",
        "color() function changes the color of a turtle's pen.\n",
        "\n",
        "**For instance: Let's draw a square with the sides colored red.**"
      ]
    },
    {
      "cell_type": "code",
      "metadata": {
        "id": "4gM3rUC9nYg2",
        "colab_type": "code",
        "colab": {
          "base_uri": "https://localhost:8080/",
          "height": 541
        },
        "outputId": "306f67ae-2eaf-47ac-b678-0f690abdba96"
      },
      "source": [
        "initializeTurtle()\n",
        "color('red')\n",
        "for _ in range(4):\n",
        "    forward(units=90)\n",
        "    left(degrees=90)\n"
      ],
      "execution_count": null,
      "outputs": [
        {
          "output_type": "display_data",
          "data": {
            "text/html": [
              "\n",
              "      <svg width=\"800\" height=\"500\">\n",
              "        <rect width=\"100%\" height=\"100%\" fill=\"black\"/>\n",
              "        <line x1=\"400\" y1=\"250\" x2=\"400.0\" y2=\"160.0\" stroke-linecap=\"round\" style=\"stroke:red;stroke-width:4\"/><line x1=\"400.0\" y1=\"160.0\" x2=\"310.0\" y2=\"160.0\" stroke-linecap=\"round\" style=\"stroke:red;stroke-width:4\"/><line x1=\"310.0\" y1=\"160.0\" x2=\"310.0\" y2=\"250.0\" stroke-linecap=\"round\" style=\"stroke:red;stroke-width:4\"/><line x1=\"310.0\" y1=\"250.0\" x2=\"400.0\" y2=\"250.0\" stroke-linecap=\"round\" style=\"stroke:red;stroke-width:4\"/>\n",
              "        \n",
              "      <g visibility=visible transform=\"rotate(180,400.0,250.0) translate(400.0, 250.0)\">\n",
              "        <circle stroke=\"red\" stroke-width=\"3\" fill=\"transparent\" r=\"12\" cx=\"0\" cy=\"0\"/>\n",
              "        <polygon points=\"0,19 3,16 -3,16\" style=\"fill:red;stroke:red;stroke-width:2\"/>\n",
              "      </g>\n",
              "    \n",
              "      </svg>\n",
              "    "
            ],
            "text/plain": [
              "<IPython.core.display.HTML object>"
            ]
          },
          "metadata": {
            "tags": []
          }
        }
      ]
    },
    {
      "cell_type": "markdown",
      "metadata": {
        "id": "TOvepfbEo9EC",
        "colab_type": "text"
      },
      "source": [
        "#### **bgcolor()**\n",
        "\n",
        "bgcolor() function changes the color of the window.\n",
        "\n",
        "**For instance: Let's draw a square with the sides colored red and also, change the background color of the screen from black to green color.**"
      ]
    },
    {
      "cell_type": "code",
      "metadata": {
        "id": "iLpI1p6VpNUz",
        "colab_type": "code",
        "colab": {
          "base_uri": "https://localhost:8080/",
          "height": 541
        },
        "outputId": "ef4a1fcd-2789-4946-d376-78f099520b2e"
      },
      "source": [
        "initializeTurtle()\n",
        "color('red')\n",
        "bgcolor('green')\n",
        "for _ in range(4):\n",
        "    forward(units=90)\n",
        "    left(degrees=90)"
      ],
      "execution_count": null,
      "outputs": [
        {
          "output_type": "display_data",
          "data": {
            "text/html": [
              "\n",
              "      <svg width=\"800\" height=\"500\">\n",
              "        <rect width=\"100%\" height=\"100%\" fill=\"green\"/>\n",
              "        <line x1=\"400\" y1=\"250\" x2=\"400.0\" y2=\"160.0\" stroke-linecap=\"round\" style=\"stroke:red;stroke-width:4\"/><line x1=\"400.0\" y1=\"160.0\" x2=\"310.0\" y2=\"160.0\" stroke-linecap=\"round\" style=\"stroke:red;stroke-width:4\"/><line x1=\"310.0\" y1=\"160.0\" x2=\"310.0\" y2=\"250.0\" stroke-linecap=\"round\" style=\"stroke:red;stroke-width:4\"/><line x1=\"310.0\" y1=\"250.0\" x2=\"400.0\" y2=\"250.0\" stroke-linecap=\"round\" style=\"stroke:red;stroke-width:4\"/>\n",
              "        \n",
              "      <g visibility=visible transform=\"rotate(180,400.0,250.0) translate(400.0, 250.0)\">\n",
              "        <circle stroke=\"red\" stroke-width=\"3\" fill=\"transparent\" r=\"12\" cx=\"0\" cy=\"0\"/>\n",
              "        <polygon points=\"0,19 3,16 -3,16\" style=\"fill:red;stroke:red;stroke-width:2\"/>\n",
              "      </g>\n",
              "    \n",
              "      </svg>\n",
              "    "
            ],
            "text/plain": [
              "<IPython.core.display.HTML object>"
            ]
          },
          "metadata": {
            "tags": []
          }
        }
      ]
    },
    {
      "cell_type": "markdown",
      "metadata": {
        "id": "tyyZaklHp4_I",
        "colab_type": "text"
      },
      "source": [
        "### Other functions"
      ]
    },
    {
      "cell_type": "markdown",
      "metadata": {
        "id": "2909UdPYqFQx",
        "colab_type": "text"
      },
      "source": [
        "#### **goto()**\n",
        "\n",
        "goto(x, y) function moves the turtle to position x, y.</br> x and y are positive coordinates. \n",
        "\n",
        "The point where the turtle is initially positioned at the beginning of the program is (0,0). This is called Home. \n",
        "\n",
        "To move the turtle to any other area on the screen, goto() function is used and this function connects two points following shortest linear path."
      ]
    },
    {
      "cell_type": "markdown",
      "metadata": {
        "id": "Bzw-V_Sjv3pv",
        "colab_type": "text"
      },
      "source": [
        "**For instance: Let's consder two goto functions.In the first function x is least positive integer and y is 100 and vice-versa for the second one. Draw a line joining the coordinates.**"
      ]
    },
    {
      "cell_type": "code",
      "metadata": {
        "id": "T76xt9g5rsA0",
        "colab_type": "code",
        "colab": {
          "base_uri": "https://localhost:8080/",
          "height": 541
        },
        "outputId": "da30c0f4-d852-4c6f-a5fd-b9f3ead881ef"
      },
      "source": [
        "initializeTurtle()\n",
        "left(degrees=90)\n",
        "goto(1,100)\n",
        "goto(100,1)"
      ],
      "execution_count": null,
      "outputs": [
        {
          "output_type": "display_data",
          "data": {
            "text/html": [
              "\n",
              "      <svg width=\"800\" height=\"500\">\n",
              "        <rect width=\"100%\" height=\"100%\" fill=\"black\"/>\n",
              "        <line x1=\"400\" y1=\"250\" x2=\"1\" y2=\"100\" stroke-linecap=\"round\" style=\"stroke:white;stroke-width:4\"/><line x1=\"1\" y1=\"100\" x2=\"100\" y2=\"1\" stroke-linecap=\"round\" style=\"stroke:white;stroke-width:4\"/>\n",
              "        \n",
              "      <g visibility=visible transform=\"rotate(90,100,1) translate(100, 1)\">\n",
              "        <circle stroke=\"white\" stroke-width=\"3\" fill=\"transparent\" r=\"12\" cx=\"0\" cy=\"0\"/>\n",
              "        <polygon points=\"0,19 3,16 -3,16\" style=\"fill:white;stroke:white;stroke-width:2\"/>\n",
              "      </g>\n",
              "    \n",
              "      </svg>\n",
              "    "
            ],
            "text/plain": [
              "<IPython.core.display.HTML object>"
            ]
          },
          "metadata": {
            "tags": []
          }
        }
      ]
    },
    {
      "cell_type": "markdown",
      "metadata": {
        "id": "rzHshGY7xkYG",
        "colab_type": "text"
      },
      "source": [
        "# MORE EXAMPLES"
      ]
    },
    {
      "cell_type": "markdown",
      "metadata": {
        "id": "oyxEUFLYtY0V",
        "colab_type": "text"
      },
      "source": [
        "## **POLYGONS**\n"
      ]
    },
    {
      "cell_type": "markdown",
      "metadata": {
        "id": "f3mAcQQXy2Vo",
        "colab_type": "text"
      },
      "source": [
        "##### Square\n",
        "\n",
        "**Draw a square using length, number of sides and angle between sides as a function parameters. Also, the speed with which the turtle will draw a square should be equal to the default speed, which is 4.**"
      ]
    },
    {
      "cell_type": "code",
      "metadata": {
        "id": "I13DhH-DC8S9",
        "colab_type": "code",
        "colab": {}
      },
      "source": [
        "def draw_polygon(length, number_of_sides, angle_between_sides, initial_speed=4):\n",
        "  ''' This function contains parameters such as length, number of sides and default initial speed for drawing a polygon.'''\n",
        "\n",
        "  for _ in range(number_of_sides):\n",
        "    forward(length)\n",
        "    left(angle_between_sides)"
      ],
      "execution_count": null,
      "outputs": []
    },
    {
      "cell_type": "code",
      "metadata": {
        "id": "lmloYu_l6PT2",
        "colab_type": "code",
        "colab": {
          "base_uri": "https://localhost:8080/",
          "height": 541
        },
        "outputId": "dd6a2946-e9d9-44d8-bbde-cf894056b8aa"
      },
      "source": [
        "initializeTurtle()\n",
        "draw_polygon(length=90, number_of_sides=4, angle_between_sides=90)"
      ],
      "execution_count": null,
      "outputs": [
        {
          "output_type": "display_data",
          "data": {
            "text/html": [
              "\n",
              "      <svg width=\"800\" height=\"500\">\n",
              "        <rect width=\"100%\" height=\"100%\" fill=\"black\"/>\n",
              "        <line x1=\"400\" y1=\"250\" x2=\"400.0\" y2=\"160.0\" stroke-linecap=\"round\" style=\"stroke:white;stroke-width:4\"/><line x1=\"400.0\" y1=\"160.0\" x2=\"310.0\" y2=\"160.0\" stroke-linecap=\"round\" style=\"stroke:white;stroke-width:4\"/><line x1=\"310.0\" y1=\"160.0\" x2=\"310.0\" y2=\"250.0\" stroke-linecap=\"round\" style=\"stroke:white;stroke-width:4\"/><line x1=\"310.0\" y1=\"250.0\" x2=\"400.0\" y2=\"250.0\" stroke-linecap=\"round\" style=\"stroke:white;stroke-width:4\"/>\n",
              "        \n",
              "      <g visibility=visible transform=\"rotate(180,400.0,250.0) translate(400.0, 250.0)\">\n",
              "        <circle stroke=\"white\" stroke-width=\"3\" fill=\"transparent\" r=\"12\" cx=\"0\" cy=\"0\"/>\n",
              "        <polygon points=\"0,19 3,16 -3,16\" style=\"fill:white;stroke:white;stroke-width:2\"/>\n",
              "      </g>\n",
              "    \n",
              "      </svg>\n",
              "    "
            ],
            "text/plain": [
              "<IPython.core.display.HTML object>"
            ]
          },
          "metadata": {
            "tags": []
          }
        }
      ]
    },
    {
      "cell_type": "markdown",
      "metadata": {
        "id": "0IC_0mTd0eOU",
        "colab_type": "text"
      },
      "source": [
        "##### Hexagon"
      ]
    },
    {
      "cell_type": "markdown",
      "metadata": {
        "id": "OTJypDyCDHFE",
        "colab_type": "text"
      },
      "source": [
        "**Draw a hexagon using length, number of sides and angle between sides as a function parameters. Also, the speed with which the turtle will draw a square should be equal to the default speed, which is 4.**"
      ]
    },
    {
      "cell_type": "code",
      "metadata": {
        "id": "nyjKzJgtCoDt",
        "colab_type": "code",
        "colab": {
          "base_uri": "https://localhost:8080/",
          "height": 541
        },
        "outputId": "8c1cac56-b6e0-49c4-f3bd-aec7794206ce"
      },
      "source": [
        "## Initializing a turtle\n",
        "initializeTurtle()\n",
        "## Giving directions to move a turtle\n",
        "## Dividing the task into smaller parts\n",
        "forward(units=90)\n",
        "left(degrees=60)\n",
        "forward(units=90)\n",
        "left(degrees=60)\n",
        "forward(units=90)\n",
        "left(degrees=60)\n",
        "forward(units=90)\n",
        "left(degrees=60)\n",
        "forward(units=90)\n",
        "left(degrees=60)\n",
        "forward(units=90)\n",
        "left(degrees=60)"
      ],
      "execution_count": null,
      "outputs": [
        {
          "output_type": "display_data",
          "data": {
            "text/html": [
              "\n",
              "      <svg width=\"800\" height=\"500\">\n",
              "        <rect width=\"100%\" height=\"100%\" fill=\"black\"/>\n",
              "        <line x1=\"400\" y1=\"250\" x2=\"400.0\" y2=\"160.0\" stroke-linecap=\"round\" style=\"stroke:white;stroke-width:4\"/><line x1=\"400.0\" y1=\"160.0\" x2=\"322.0577136594005\" y2=\"115.0\" stroke-linecap=\"round\" style=\"stroke:white;stroke-width:4\"/><line x1=\"322.0577136594005\" y1=\"115.0\" x2=\"244.11542731880104\" y2=\"160.0\" stroke-linecap=\"round\" style=\"stroke:white;stroke-width:4\"/><line x1=\"244.11542731880104\" y1=\"160.0\" x2=\"244.11542731880104\" y2=\"250.0\" stroke-linecap=\"round\" style=\"stroke:white;stroke-width:4\"/><line x1=\"244.11542731880104\" y1=\"250.0\" x2=\"322.0577136594005\" y2=\"295.0\" stroke-linecap=\"round\" style=\"stroke:white;stroke-width:4\"/><line x1=\"322.0577136594005\" y1=\"295.0\" x2=\"400.0\" y2=\"249.99999999999994\" stroke-linecap=\"round\" style=\"stroke:white;stroke-width:4\"/>\n",
              "        \n",
              "      <g visibility=visible transform=\"rotate(180,400.0,249.99999999999994) translate(400.0, 249.99999999999994)\">\n",
              "        <circle stroke=\"white\" stroke-width=\"3\" fill=\"transparent\" r=\"12\" cx=\"0\" cy=\"0\"/>\n",
              "        <polygon points=\"0,19 3,16 -3,16\" style=\"fill:white;stroke:white;stroke-width:2\"/>\n",
              "      </g>\n",
              "    \n",
              "      </svg>\n",
              "    "
            ],
            "text/plain": [
              "<IPython.core.display.HTML object>"
            ]
          },
          "metadata": {
            "tags": []
          }
        }
      ]
    },
    {
      "cell_type": "code",
      "metadata": {
        "id": "8m3DueucCb1-",
        "colab_type": "code",
        "colab": {
          "base_uri": "https://localhost:8080/",
          "height": 541
        },
        "outputId": "8241e4d5-53f1-41ec-cdff-776bf5dbb03c"
      },
      "source": [
        "## Initializing a turtle\n",
        "initializeTurtle()\n",
        "draw_polygon(length=90, number_of_sides=6, angle_between_sides=60)"
      ],
      "execution_count": null,
      "outputs": [
        {
          "output_type": "display_data",
          "data": {
            "text/html": [
              "\n",
              "      <svg width=\"800\" height=\"500\">\n",
              "        <rect width=\"100%\" height=\"100%\" fill=\"black\"/>\n",
              "        <line x1=\"400\" y1=\"250\" x2=\"400.0\" y2=\"160.0\" stroke-linecap=\"round\" style=\"stroke:white;stroke-width:4\"/><line x1=\"400.0\" y1=\"160.0\" x2=\"322.0577136594005\" y2=\"115.0\" stroke-linecap=\"round\" style=\"stroke:white;stroke-width:4\"/><line x1=\"322.0577136594005\" y1=\"115.0\" x2=\"244.11542731880104\" y2=\"160.0\" stroke-linecap=\"round\" style=\"stroke:white;stroke-width:4\"/><line x1=\"244.11542731880104\" y1=\"160.0\" x2=\"244.11542731880104\" y2=\"250.0\" stroke-linecap=\"round\" style=\"stroke:white;stroke-width:4\"/><line x1=\"244.11542731880104\" y1=\"250.0\" x2=\"322.0577136594005\" y2=\"295.0\" stroke-linecap=\"round\" style=\"stroke:white;stroke-width:4\"/><line x1=\"322.0577136594005\" y1=\"295.0\" x2=\"400.0\" y2=\"249.99999999999994\" stroke-linecap=\"round\" style=\"stroke:white;stroke-width:4\"/>\n",
              "        \n",
              "      <g visibility=visible transform=\"rotate(180,400.0,249.99999999999994) translate(400.0, 249.99999999999994)\">\n",
              "        <circle stroke=\"white\" stroke-width=\"3\" fill=\"transparent\" r=\"12\" cx=\"0\" cy=\"0\"/>\n",
              "        <polygon points=\"0,19 3,16 -3,16\" style=\"fill:white;stroke:white;stroke-width:2\"/>\n",
              "      </g>\n",
              "    \n",
              "      </svg>\n",
              "    "
            ],
            "text/plain": [
              "<IPython.core.display.HTML object>"
            ]
          },
          "metadata": {
            "tags": []
          }
        }
      ]
    },
    {
      "cell_type": "markdown",
      "metadata": {
        "id": "TGqQGorh1IAo",
        "colab_type": "text"
      },
      "source": [
        "##### Circle"
      ]
    },
    {
      "cell_type": "markdown",
      "metadata": {
        "id": "_AJ1gZtZwXyM",
        "colab_type": "text"
      },
      "source": [
        "**Draw a hexagon using length, number of sides and angle between sides as a function parameters.**"
      ]
    },
    {
      "cell_type": "markdown",
      "metadata": {
        "id": "higA8_Mb7kg3",
        "colab_type": "text"
      },
      "source": [
        "To draw a circle, it is important to decide the values to be used for length, number of sides and angle between the sides.</br> \n",
        "\n",
        "First of all, we know that when a circle rotates around the straight line, the angle of 360 degrees is obtained. In other words, the circumference of the circle is equal to 360 degrees.</br>**2 x 3.14 x radius = 360degrees**</br></br>\n",
        "Furthermore, the measure of exterior angle of a polygon can be calculated by dividing 360 degrees with number of sides of a polygon.</br>**Measure of Exterior angle = 360degrees/n**</br>\n",
        "**Sum of exterior angles of a polygon is always 360degrees.** For example:</br>\n",
        "1. Square:\n",
        "The exterior angle is 90 degrees and a square has 4 sides. \n",
        "\n",
        "  90*4=360degrees\n",
        "\n",
        "2. Hexagon:\n",
        "The exterior angle is 60 degrees and a square has 6 sides. \n",
        "\n",
        "  60*6=360degrees\n",
        "\n",
        "3. Circle:\n",
        "To draw a circle, the number of sides  will be very very large and angle between the sides is very very less as compared with a hexagon. Apart from this, to make a perfect boundary of a circle, the length should be very very less as compared with a hexagon. </br></br>Thus, maximum number of sides to draw circle should be 360. The minimum angle and length between the sides 1 degrees and 1 units, respectively.\n",
        "\n",
        "  1*360=360degrees\n",
        "\n",
        "\n",
        "**Normally, the default initial speed of the turtle to draw a line is 4. For drawing a circle, the initial speed has to be maximum.** To elaborate more about this statement, let's consider an example.\n",
        "\n",
        "Written below is a dictionary in which the speed with which the turtle moves is a an integer(Key) and the value stored in the key is time in seconds.\n",
        "\n",
        "SPEED_TO_SEC_MAP = {1: 1.5, 2: 0.9, 3: 0.7, 4: 0.5, 5: 0.3, 6: 0.18, 7: 0.12, 8: 0.06, 9: 0.04, 10: 0.02, 11: 0.01, 12: 0.001, 13: 0.0001}\n",
        "\n",
        "Considering a default initial speed and maximum initial speed.\n",
        "\n",
        "**Case 1. Default initial speed**</br>\n",
        "Speed:4</br>\n",
        "Seconds within which a turtle 1 unit :0.5</br>\n",
        "Speed = Distance/Time</br>\n",
        "Distance(circle) = 360 x 1/3.14</br>\n",
        "Time = 360 x 1/3.14 x 1/0.5 = 229.09</br>Time = 360 x 1/3.14 x 1/0.5 = 229.09 </br>\n",
        "{ Distance is calculated as follows:</br>\n",
        "Circumference of a circle = 360 degrees\n",
        "2 x 3.14 x radius = 360degrees\n",
        "diameter = 2 x radius</br>\n",
        "Thus, </br>\n",
        "diameter x 3.14 = 360 degrees</br>\n",
        "diameter/ distance = 360 x 1/3.14}</br>\n",
        "\n",
        "\n",
        "**Case 2. Maximum speed**</br>\n",
        "key:13</br>\n",
        "Seconds within which a turtle will draw a line:0.0001</br> \n",
        "Speed = Distance/Time</br>\n",
        "Distance(circle) = 360 x 1/3.14</br>\n",
        "Time = 360 x 1/ 3.14 x 1/0.0001 = 11,464,96</br>"
      ]
    },
    {
      "cell_type": "code",
      "metadata": {
        "id": "vGyi45oUwXMr",
        "colab_type": "code",
        "colab": {
          "base_uri": "https://localhost:8080/",
          "height": 541
        },
        "outputId": "0bf81ea0-ee1d-464d-ffc5-0e9aba7361b0"
      },
      "source": [
        "initializeTurtle()\n",
        "draw_polygon(length=1, number_of_sides=360, angle_between_sides=1, initial_speed=10)"
      ],
      "execution_count": null,
      "outputs": [
        {
          "output_type": "display_data",
          "data": {
            "text/html": [
              "\n",
              "      <svg width=\"800\" height=\"500\">\n",
              "        <rect width=\"100%\" height=\"100%\" fill=\"black\"/>\n",
              "        <line x1=\"400\" y1=\"250\" x2=\"400.0\" y2=\"249.0\" stroke-linecap=\"round\" style=\"stroke:white;stroke-width:4\"/><line x1=\"400.0\" y1=\"249.0\" x2=\"399.98254759356274\" y2=\"248.0001523048436\" stroke-linecap=\"round\" style=\"stroke:white;stroke-width:4\"/><line x1=\"399.98254759356274\" y1=\"248.0001523048436\" x2=\"399.94764809686023\" y2=\"247.0007614778245\" stroke-linecap=\"round\" style=\"stroke:white;stroke-width:4\"/><line x1=\"399.94764809686023\" y1=\"247.0007614778245\" x2=\"399.8953121406173\" y2=\"246.00213194306994\" stroke-linecap=\"round\" style=\"stroke:white;stroke-width:4\"/><line x1=\"399.8953121406173\" y1=\"246.00213194306994\" x2=\"399.8255556668732\" y2=\"245.00456789281012\" stroke-linecap=\"round\" style=\"stroke:white;stroke-width:4\"/><line x1=\"399.8255556668732\" y1=\"245.00456789281012\" x2=\"399.73839992412553\" y2=\"244.00837319471836\" stroke-linecap=\"round\" style=\"stroke:white;stroke-width:4\"/><line x1=\"399.73839992412553\" y1=\"244.00837319471836\" x2=\"399.6338714608579\" y2=\"243.01385129935008\" stroke-linecap=\"round\" style=\"stroke:white;stroke-width:4\"/><line x1=\"399.6338714608579\" y1=\"243.01385129935008\" x2=\"399.51200211745277\" y2=\"242.02130514770874\" stroke-linecap=\"round\" style=\"stroke:white;stroke-width:4\"/><line x1=\"399.51200211745277\" y1=\"242.02130514770874\" x2=\"399.3728290164927\" y2=\"241.0310370789672\" stroke-linecap=\"round\" style=\"stroke:white;stroke-width:4\"/><line x1=\"399.3728290164927\" y1=\"241.0310370789672\" x2=\"399.2163945514525\" y2=\"240.04334873837206\" stroke-linecap=\"round\" style=\"stroke:white;stroke-width:4\"/><line x1=\"399.2163945514525\" y1=\"240.04334873837206\" x2=\"399.0427463737856\" y2=\"239.05854098535985\" stroke-linecap=\"round\" style=\"stroke:white;stroke-width:4\"/><line x1=\"399.0427463737856\" y1=\"239.05854098535985\" x2=\"398.85193737840905\" y2=\"238.07691380191218\" stroke-linecap=\"round\" style=\"stroke:white;stroke-width:4\"/><line x1=\"398.85193737840905\" y1=\"238.07691380191218\" x2=\"398.6440256875913\" y2=\"237.0987662011784\" stroke-linecap=\"round\" style=\"stroke:white;stroke-width:4\"/><line x1=\"398.6440256875913\" y1=\"237.0987662011784\" x2=\"398.4190746332474\" y2=\"236.12439613639316\" stroke-linecap=\"round\" style=\"stroke:white;stroke-width:4\"/><line x1=\"398.4190746332474\" y1=\"236.12439613639316\" x2=\"398.17715273764776\" y2=\"235.15410041011717\" stroke-linecap=\"round\" style=\"stroke:white;stroke-width:4\"/><line x1=\"398.17715273764776\" y1=\"235.15410041011717\" x2=\"397.9183336925452\" y2=\"234.1881745838281\" stroke-linecap=\"round\" style=\"stroke:white;stroke-width:4\"/><line x1=\"397.9183336925452\" y1=\"234.1881745838281\" x2=\"397.6426963367282\" y2=\"233.22691288788977\" stroke-linecap=\"round\" style=\"stroke:white;stroke-width:4\"/><line x1=\"397.6426963367282\" y1=\"233.22691288788977\" x2=\"397.3503246320055\" y2=\"232.27060813192674\" stroke-linecap=\"round\" style=\"stroke:white;stroke-width:4\"/><line x1=\"397.3503246320055\" y1=\"232.27060813192674\" x2=\"397.04130763763055\" y2=\"231.31955161563158\" stroke-linecap=\"round\" style=\"stroke:white;stroke-width:4\"/><line x1=\"397.04130763763055\" y1=\"231.31955161563158\" x2=\"396.7157394831734\" y2=\"230.37403304003226\" stroke-linecap=\"round\" style=\"stroke:white;stroke-width:4\"/><line x1=\"396.7157394831734\" y1=\"230.37403304003226\" x2=\"396.37371933984775\" y2=\"229.43434041924635\" stroke-linecap=\"round\" style=\"stroke:white;stroke-width:4\"/><line x1=\"396.37371933984775\" y1=\"229.43434041924635\" x2=\"396.01535139030244\" y2=\"228.50075999274915\" stroke-linecap=\"round\" style=\"stroke:white;stroke-width:4\"/><line x1=\"396.01535139030244\" y1=\"228.50075999274915\" x2=\"395.6407447968865\" y2=\"227.57357613818237\" stroke-linecap=\"round\" style=\"stroke:white;stroke-width:4\"/><line x1=\"395.6407447968865\" y1=\"227.57357613818237\" x2=\"395.25001366839723\" y2=\"226.65307128472995\" stroke-linecap=\"round\" style=\"stroke:white;stroke-width:4\"/><line x1=\"395.25001366839723\" y1=\"226.65307128472995\" x2=\"394.8432770253214\" y2=\"225.73952582708733\" stroke-linecap=\"round\" style=\"stroke:white;stroke-width:4\"/><line x1=\"394.8432770253214\" y1=\"225.73952582708733\" x2=\"394.4206587635807\" y2=\"224.8332180400507\" stroke-linecap=\"round\" style=\"stroke:white;stroke-width:4\"/><line x1=\"394.4206587635807\" y1=\"224.8332180400507\" x2=\"393.98228761679167\" y2=\"223.93442399375152\" stroke-linecap=\"round\" style=\"stroke:white;stroke-width:4\"/><line x1=\"393.98228761679167\" y1=\"223.93442399375152\" x2=\"393.5282971170521\" y2=\"223.04341746956317\" stroke-linecap=\"round\" style=\"stroke:white;stroke-width:4\"/><line x1=\"393.5282971170521\" y1=\"223.04341746956317\" x2=\"393.0588255542662\" y2=\"222.16046987670424\" stroke-linecap=\"round\" style=\"stroke:white;stroke-width:4\"/><line x1=\"393.0588255542662\" y1=\"222.16046987670424\" x2=\"392.5740159340199\" y2=\"221.28585016956484\" stroke-linecap=\"round\" style=\"stroke:white;stroke-width:4\"/><line x1=\"392.5740159340199\" y1=\"221.28585016956484\" x2=\"392.0740159340199\" y2=\"220.4198247657804\" stroke-linecap=\"round\" style=\"stroke:white;stroke-width:4\"/><line x1=\"392.0740159340199\" y1=\"220.4198247657804\" x2=\"391.5589778591098\" y2=\"219.56265746507827\" stroke-linecap=\"round\" style=\"stroke:white;stroke-width:4\"/><line x1=\"391.5589778591098\" y1=\"219.56265746507827\" x2=\"391.0290585948766\" y2=\"218.71460936892186\" stroke-linecap=\"round\" style=\"stroke:white;stroke-width:4\"/><line x1=\"391.0290585948766\" y1=\"218.71460936892186\" x2=\"390.4844195598615\" y2=\"217.87593880097643\" stroke-linecap=\"round\" style=\"stroke:white;stroke-width:4\"/><line x1=\"390.4844195598615\" y1=\"217.87593880097643\" x2=\"389.92522665639075\" y2=\"217.04690122842138\" stroke-linecap=\"round\" style=\"stroke:white;stroke-width:4\"/><line x1=\"389.92522665639075\" y1=\"217.04690122842138\" x2=\"389.3516502200397\" y2=\"216.2277491841324\" stroke-linecap=\"round\" style=\"stroke:white;stroke-width:4\"/><line x1=\"389.3516502200397\" y1=\"216.2277491841324\" x2=\"388.7638649677472\" y2=\"215.41873218975743\" stroke-linecap=\"round\" style=\"stroke:white;stroke-width:4\"/><line x1=\"388.7638649677472\" y1=\"215.41873218975743\" x2=\"388.1620499445952\" y2=\"214.62009667971014\" stroke-linecap=\"round\" style=\"stroke:white;stroke-width:4\"/><line x1=\"388.1620499445952\" y1=\"214.62009667971014\" x2=\"387.5463884692695\" y2=\"213.83208592610342\" stroke-linecap=\"round\" style=\"stroke:white;stroke-width:4\"/><line x1=\"387.5463884692695\" y1=\"213.83208592610342\" x2=\"386.9170680782197\" y2=\"213.05493996464645\" stroke-linecap=\"round\" style=\"stroke:white;stroke-width:4\"/><line x1=\"386.9170680782197\" y1=\"213.05493996464645\" x2=\"386.27428046853316\" y2=\"212.28889552152748\" stroke-linecap=\"round\" style=\"stroke:white;stroke-width:4\"/><line x1=\"386.27428046853316\" y1=\"212.28889552152748\" x2=\"385.61822143954265\" y2=\"211.5341859413047\" stroke-linecap=\"round\" style=\"stroke:white;stroke-width:4\"/><line x1=\"385.61822143954265\" y1=\"211.5341859413047\" x2=\"384.9490908331838\" y2=\"210.7910411158273\" stroke-linecap=\"round\" style=\"stroke:white;stroke-width:4\"/><line x1=\"384.9490908331838\" y1=\"210.7910411158273\" x2=\"384.2670924731213\" y2=\"210.05968741420813\" stroke-linecap=\"round\" style=\"stroke:white;stroke-width:4\"/><line x1=\"384.2670924731213\" y1=\"210.05968741420813\" x2=\"383.57243410266227\" y2=\"209.34034761386948\" stroke-linecap=\"round\" style=\"stroke:white;stroke-width:4\"/><line x1=\"383.57243410266227\" y1=\"209.34034761386948\" x2=\"382.8653273214757\" y2=\"208.63324083268293\" stroke-linecap=\"round\" style=\"stroke:white;stroke-width:4\"/><line x1=\"382.8653273214757\" y1=\"208.63324083268293\" x2=\"382.14598752113704\" y2=\"207.93858246222393\" stroke-linecap=\"round\" style=\"stroke:white;stroke-width:4\"/><line x1=\"382.14598752113704\" y1=\"207.93858246222393\" x2=\"381.41463381951786\" y2=\"207.25658410216144\" stroke-linecap=\"round\" style=\"stroke:white;stroke-width:4\"/><line x1=\"381.41463381951786\" y1=\"207.25658410216144\" x2=\"380.6714889940405\" y2=\"206.58745349580258\" stroke-linecap=\"round\" style=\"stroke:white;stroke-width:4\"/><line x1=\"380.6714889940405\" y1=\"206.58745349580258\" x2=\"379.9167794138177\" y2=\"205.93139446681207\" stroke-linecap=\"round\" style=\"stroke:white;stroke-width:4\"/><line x1=\"379.9167794138177\" y1=\"205.93139446681207\" x2=\"379.15073497069875\" y2=\"205.28860685712553\" stroke-linecap=\"round\" style=\"stroke:white;stroke-width:4\"/><line x1=\"379.15073497069875\" y1=\"205.28860685712553\" x2=\"378.37358900924175\" y2=\"204.65928646607568\" stroke-linecap=\"round\" style=\"stroke:white;stroke-width:4\"/><line x1=\"378.37358900924175\" y1=\"204.65928646607568\" x2=\"377.585578255635\" y2=\"204.04362499075003\" stroke-linecap=\"round\" style=\"stroke:white;stroke-width:4\"/><line x1=\"377.585578255635\" y1=\"204.04362499075003\" x2=\"376.78694274558774\" y2=\"203.44180996759798\" stroke-linecap=\"round\" style=\"stroke:white;stroke-width:4\"/><line x1=\"376.78694274558774\" y1=\"203.44180996759798\" x2=\"375.9779257512128\" y2=\"202.8540247153055\" stroke-linecap=\"round\" style=\"stroke:white;stroke-width:4\"/><line x1=\"375.9779257512128\" y1=\"202.8540247153055\" x2=\"375.1587737069238\" y2=\"202.28044827895448\" stroke-linecap=\"round\" style=\"stroke:white;stroke-width:4\"/><line x1=\"375.1587737069238\" y1=\"202.28044827895448\" x2=\"374.3297361343688\" y2=\"201.72125537548374\" stroke-linecap=\"round\" style=\"stroke:white;stroke-width:4\"/><line x1=\"374.3297361343688\" y1=\"201.72125537548374\" x2=\"373.49106556642334\" y2=\"201.1766163404687\" stroke-linecap=\"round\" style=\"stroke:white;stroke-width:4\"/><line x1=\"373.49106556642334\" y1=\"201.1766163404687\" x2=\"372.6430174702669\" y2=\"200.6466970762355\" stroke-linecap=\"round\" style=\"stroke:white;stroke-width:4\"/><line x1=\"372.6430174702669\" y1=\"200.6466970762355\" x2=\"371.7858501695648\" y2=\"200.13165900132546\" stroke-linecap=\"round\" style=\"stroke:white;stroke-width:4\"/><line x1=\"371.7858501695648\" y1=\"200.13165900132546\" x2=\"370.9198247657804\" y2=\"199.63165900132546\" stroke-linecap=\"round\" style=\"stroke:white;stroke-width:4\"/><line x1=\"370.9198247657804\" y1=\"199.63165900132546\" x2=\"370.045205058641\" y2=\"199.14684938107914\" stroke-linecap=\"round\" style=\"stroke:white;stroke-width:4\"/><line x1=\"370.045205058641\" y1=\"199.14684938107914\" x2=\"369.16225746578203\" y2=\"198.67737781829325\" stroke-linecap=\"round\" style=\"stroke:white;stroke-width:4\"/><line x1=\"369.16225746578203\" y1=\"198.67737781829325\" x2=\"368.2712509415937\" y2=\"198.2233873185537\" stroke-linecap=\"round\" style=\"stroke:white;stroke-width:4\"/><line x1=\"368.2712509415937\" y1=\"198.2233873185537\" x2=\"367.37245689529453\" y2=\"197.78501617176462\" stroke-linecap=\"round\" style=\"stroke:white;stroke-width:4\"/><line x1=\"367.37245689529453\" y1=\"197.78501617176462\" x2=\"366.46614910825787\" y2=\"197.36239791002393\" stroke-linecap=\"round\" style=\"stroke:white;stroke-width:4\"/><line x1=\"366.46614910825787\" y1=\"197.36239791002393\" x2=\"365.55260365061525\" y2=\"196.95566126694814\" stroke-linecap=\"round\" style=\"stroke:white;stroke-width:4\"/><line x1=\"365.55260365061525\" y1=\"196.95566126694814\" x2=\"364.6320987971628\" y2=\"196.56493013845886\" stroke-linecap=\"round\" style=\"stroke:white;stroke-width:4\"/><line x1=\"364.6320987971628\" y1=\"196.56493013845886\" x2=\"363.704914942596\" y2=\"196.19032354504296\" stroke-linecap=\"round\" style=\"stroke:white;stroke-width:4\"/><line x1=\"363.704914942596\" y1=\"196.19032354504296\" x2=\"362.7713345160988\" y2=\"195.83195559549765\" stroke-linecap=\"round\" style=\"stroke:white;stroke-width:4\"/><line x1=\"362.7713345160988\" y1=\"195.83195559549765\" x2=\"361.8316418953129\" y2=\"195.48993545217198\" stroke-linecap=\"round\" style=\"stroke:white;stroke-width:4\"/><line x1=\"361.8316418953129\" y1=\"195.48993545217198\" x2=\"360.8861233197136\" y2=\"195.16436729771482\" stroke-linecap=\"round\" style=\"stroke:white;stroke-width:4\"/><line x1=\"360.8861233197136\" y1=\"195.16436729771482\" x2=\"359.9350668034184\" y2=\"194.85535030333986\" stroke-linecap=\"round\" style=\"stroke:white;stroke-width:4\"/><line x1=\"359.9350668034184\" y1=\"194.85535030333986\" x2=\"358.97876204745535\" y2=\"194.56297859861712\" stroke-linecap=\"round\" style=\"stroke:white;stroke-width:4\"/><line x1=\"358.97876204745535\" y1=\"194.56297859861712\" x2=\"358.017500351517\" y2=\"194.28734124280012\" stroke-linecap=\"round\" style=\"stroke:white;stroke-width:4\"/><line x1=\"358.017500351517\" y1=\"194.28734124280012\" x2=\"357.0515745252279\" y2=\"194.0285221976976\" stroke-linecap=\"round\" style=\"stroke:white;stroke-width:4\"/><line x1=\"357.0515745252279\" y1=\"194.0285221976976\" x2=\"356.0812787989519\" y2=\"193.78660030209795\" stroke-linecap=\"round\" style=\"stroke:white;stroke-width:4\"/><line x1=\"356.0812787989519\" y1=\"193.78660030209795\" x2=\"355.10690873416667\" y2=\"193.56164924775408\" stroke-linecap=\"round\" style=\"stroke:white;stroke-width:4\"/><line x1=\"355.10690873416667\" y1=\"193.56164924775408\" x2=\"354.1287611334329\" y2=\"193.35373755693632\" stroke-linecap=\"round\" style=\"stroke:white;stroke-width:4\"/><line x1=\"354.1287611334329\" y1=\"193.35373755693632\" x2=\"353.14713394998523\" y2=\"193.16292856155977\" stroke-linecap=\"round\" style=\"stroke:white;stroke-width:4\"/><line x1=\"353.14713394998523\" y1=\"193.16292856155977\" x2=\"352.162326196973\" y2=\"192.98928038389283\" stroke-linecap=\"round\" style=\"stroke:white;stroke-width:4\"/><line x1=\"352.162326196973\" y1=\"192.98928038389283\" x2=\"351.1746378563779\" y2=\"192.8328459188526\" stroke-linecap=\"round\" style=\"stroke:white;stroke-width:4\"/><line x1=\"351.1746378563779\" y1=\"192.8328459188526\" x2=\"350.18436978763634\" y2=\"192.69367281789252\" stroke-linecap=\"round\" style=\"stroke:white;stroke-width:4\"/><line x1=\"350.18436978763634\" y1=\"192.69367281789252\" x2=\"349.19182363599504\" y2=\"192.57180347448738\" stroke-linecap=\"round\" style=\"stroke:white;stroke-width:4\"/><line x1=\"349.19182363599504\" y1=\"192.57180347448738\" x2=\"348.19730174062676\" y2=\"192.46727501121973\" stroke-linecap=\"round\" style=\"stroke:white;stroke-width:4\"/><line x1=\"348.19730174062676\" y1=\"192.46727501121973\" x2=\"347.201107042535\" y2=\"192.38011926847207\" stroke-linecap=\"round\" style=\"stroke:white;stroke-width:4\"/><line x1=\"347.201107042535\" y1=\"192.38011926847207\" x2=\"346.2035429922752\" y2=\"192.31036279472795\" stroke-linecap=\"round\" style=\"stroke:white;stroke-width:4\"/><line x1=\"346.2035429922752\" y1=\"192.31036279472795\" x2=\"345.2049134575206\" y2=\"192.258026838485\" stroke-linecap=\"round\" style=\"stroke:white;stroke-width:4\"/><line x1=\"345.2049134575206\" y1=\"192.258026838485\" x2=\"344.2055226305015\" y2=\"192.2231273417825\" stroke-linecap=\"round\" style=\"stroke:white;stroke-width:4\"/><line x1=\"344.2055226305015\" y1=\"192.2231273417825\" x2=\"343.2056749353451\" y2=\"192.2056749353452\" stroke-linecap=\"round\" style=\"stroke:white;stroke-width:4\"/><line x1=\"343.2056749353451\" y1=\"192.2056749353452\" x2=\"342.2056749353451\" y2=\"192.2056749353452\" stroke-linecap=\"round\" style=\"stroke:white;stroke-width:4\"/><line x1=\"342.2056749353451\" y1=\"192.2056749353452\" x2=\"341.2058272401887\" y2=\"192.2231273417825\" stroke-linecap=\"round\" style=\"stroke:white;stroke-width:4\"/><line x1=\"341.2058272401887\" y1=\"192.2231273417825\" x2=\"340.20643641316957\" y2=\"192.258026838485\" stroke-linecap=\"round\" style=\"stroke:white;stroke-width:4\"/><line x1=\"340.20643641316957\" y1=\"192.258026838485\" x2=\"339.207806878415\" y2=\"192.31036279472795\" stroke-linecap=\"round\" style=\"stroke:white;stroke-width:4\"/><line x1=\"339.207806878415\" y1=\"192.31036279472795\" x2=\"338.2102428281552\" y2=\"192.38011926847207\" stroke-linecap=\"round\" style=\"stroke:white;stroke-width:4\"/><line x1=\"338.2102428281552\" y1=\"192.38011926847207\" x2=\"337.2140481300634\" y2=\"192.46727501121973\" stroke-linecap=\"round\" style=\"stroke:white;stroke-width:4\"/><line x1=\"337.2140481300634\" y1=\"192.46727501121973\" x2=\"336.21952623469514\" y2=\"192.57180347448738\" stroke-linecap=\"round\" style=\"stroke:white;stroke-width:4\"/><line x1=\"336.21952623469514\" y1=\"192.57180347448738\" x2=\"335.22698008305383\" y2=\"192.69367281789252\" stroke-linecap=\"round\" style=\"stroke:white;stroke-width:4\"/><line x1=\"335.22698008305383\" y1=\"192.69367281789252\" x2=\"334.2367120143123\" y2=\"192.8328459188526\" stroke-linecap=\"round\" style=\"stroke:white;stroke-width:4\"/><line x1=\"334.2367120143123\" y1=\"192.8328459188526\" x2=\"333.24902367371715\" y2=\"192.98928038389283\" stroke-linecap=\"round\" style=\"stroke:white;stroke-width:4\"/><line x1=\"333.24902367371715\" y1=\"192.98928038389283\" x2=\"332.26421592070494\" y2=\"193.16292856155977\" stroke-linecap=\"round\" style=\"stroke:white;stroke-width:4\"/><line x1=\"332.26421592070494\" y1=\"193.16292856155977\" x2=\"331.2825887372573\" y2=\"193.35373755693632\" stroke-linecap=\"round\" style=\"stroke:white;stroke-width:4\"/><line x1=\"331.2825887372573\" y1=\"193.35373755693632\" x2=\"330.3044411365235\" y2=\"193.56164924775408\" stroke-linecap=\"round\" style=\"stroke:white;stroke-width:4\"/><line x1=\"330.3044411365235\" y1=\"193.56164924775408\" x2=\"329.33007107173825\" y2=\"193.78660030209795\" stroke-linecap=\"round\" style=\"stroke:white;stroke-width:4\"/><line x1=\"329.33007107173825\" y1=\"193.78660030209795\" x2=\"328.35977534546225\" y2=\"194.0285221976976\" stroke-linecap=\"round\" style=\"stroke:white;stroke-width:4\"/><line x1=\"328.35977534546225\" y1=\"194.0285221976976\" x2=\"327.39384951917316\" y2=\"194.28734124280012\" stroke-linecap=\"round\" style=\"stroke:white;stroke-width:4\"/><line x1=\"327.39384951917316\" y1=\"194.28734124280012\" x2=\"326.4325878232348\" y2=\"194.56297859861712\" stroke-linecap=\"round\" style=\"stroke:white;stroke-width:4\"/><line x1=\"326.4325878232348\" y1=\"194.56297859861712\" x2=\"325.47628306727177\" y2=\"194.85535030333986\" stroke-linecap=\"round\" style=\"stroke:white;stroke-width:4\"/><line x1=\"325.47628306727177\" y1=\"194.85535030333986\" x2=\"324.52522655097664\" y2=\"195.16436729771482\" stroke-linecap=\"round\" style=\"stroke:white;stroke-width:4\"/><line x1=\"324.52522655097664\" y1=\"195.16436729771482\" x2=\"323.57970797537735\" y2=\"195.48993545217198\" stroke-linecap=\"round\" style=\"stroke:white;stroke-width:4\"/><line x1=\"323.57970797537735\" y1=\"195.48993545217198\" x2=\"322.6400153545914\" y2=\"195.83195559549765\" stroke-linecap=\"round\" style=\"stroke:white;stroke-width:4\"/><line x1=\"322.6400153545914\" y1=\"195.83195559549765\" x2=\"321.7064349280942\" y2=\"196.19032354504296\" stroke-linecap=\"round\" style=\"stroke:white;stroke-width:4\"/><line x1=\"321.7064349280942\" y1=\"196.19032354504296\" x2=\"320.7792510735274\" y2=\"196.56493013845886\" stroke-linecap=\"round\" style=\"stroke:white;stroke-width:4\"/><line x1=\"320.7792510735274\" y1=\"196.56493013845886\" x2=\"319.858746220075\" y2=\"196.95566126694814\" stroke-linecap=\"round\" style=\"stroke:white;stroke-width:4\"/><line x1=\"319.858746220075\" y1=\"196.95566126694814\" x2=\"318.94520076243236\" y2=\"197.36239791002393\" stroke-linecap=\"round\" style=\"stroke:white;stroke-width:4\"/><line x1=\"318.94520076243236\" y1=\"197.36239791002393\" x2=\"318.0388929753957\" y2=\"197.78501617176462\" stroke-linecap=\"round\" style=\"stroke:white;stroke-width:4\"/><line x1=\"318.0388929753957\" y1=\"197.78501617176462\" x2=\"317.14009892909655\" y2=\"198.2233873185537\" stroke-linecap=\"round\" style=\"stroke:white;stroke-width:4\"/><line x1=\"317.14009892909655\" y1=\"198.2233873185537\" x2=\"316.2490924049082\" y2=\"198.67737781829325\" stroke-linecap=\"round\" style=\"stroke:white;stroke-width:4\"/><line x1=\"316.2490924049082\" y1=\"198.67737781829325\" x2=\"315.36614481204924\" y2=\"199.14684938107914\" stroke-linecap=\"round\" style=\"stroke:white;stroke-width:4\"/><line x1=\"315.36614481204924\" y1=\"199.14684938107914\" x2=\"314.49152510490984\" y2=\"199.63165900132546\" stroke-linecap=\"round\" style=\"stroke:white;stroke-width:4\"/><line x1=\"314.49152510490984\" y1=\"199.63165900132546\" x2=\"313.6254997011254\" y2=\"200.13165900132546\" stroke-linecap=\"round\" style=\"stroke:white;stroke-width:4\"/><line x1=\"313.6254997011254\" y1=\"200.13165900132546\" x2=\"312.76833240042333\" y2=\"200.6466970762355\" stroke-linecap=\"round\" style=\"stroke:white;stroke-width:4\"/><line x1=\"312.76833240042333\" y1=\"200.6466970762355\" x2=\"311.9202843042669\" y2=\"201.1766163404687\" stroke-linecap=\"round\" style=\"stroke:white;stroke-width:4\"/><line x1=\"311.9202843042669\" y1=\"201.1766163404687\" x2=\"311.08161373632146\" y2=\"201.72125537548374\" stroke-linecap=\"round\" style=\"stroke:white;stroke-width:4\"/><line x1=\"311.08161373632146\" y1=\"201.72125537548374\" x2=\"310.25257616376643\" y2=\"202.28044827895448\" stroke-linecap=\"round\" style=\"stroke:white;stroke-width:4\"/><line x1=\"310.25257616376643\" y1=\"202.28044827895448\" x2=\"309.4334241194774\" y2=\"202.8540247153055\" stroke-linecap=\"round\" style=\"stroke:white;stroke-width:4\"/><line x1=\"309.4334241194774\" y1=\"202.8540247153055\" x2=\"308.6244071251025\" y2=\"203.44180996759798\" stroke-linecap=\"round\" style=\"stroke:white;stroke-width:4\"/><line x1=\"308.6244071251025\" y1=\"203.44180996759798\" x2=\"307.8257716150552\" y2=\"204.04362499075003\" stroke-linecap=\"round\" style=\"stroke:white;stroke-width:4\"/><line x1=\"307.8257716150552\" y1=\"204.04362499075003\" x2=\"307.0377608614485\" y2=\"204.65928646607568\" stroke-linecap=\"round\" style=\"stroke:white;stroke-width:4\"/><line x1=\"307.0377608614485\" y1=\"204.65928646607568\" x2=\"306.2606148999915\" y2=\"205.28860685712553\" stroke-linecap=\"round\" style=\"stroke:white;stroke-width:4\"/><line x1=\"306.2606148999915\" y1=\"205.28860685712553\" x2=\"305.4945704568725\" y2=\"205.93139446681207\" stroke-linecap=\"round\" style=\"stroke:white;stroke-width:4\"/><line x1=\"305.4945704568725\" y1=\"205.93139446681207\" x2=\"304.73986087664974\" y2=\"206.58745349580258\" stroke-linecap=\"round\" style=\"stroke:white;stroke-width:4\"/><line x1=\"304.73986087664974\" y1=\"206.58745349580258\" x2=\"303.99671605117237\" y2=\"207.25658410216144\" stroke-linecap=\"round\" style=\"stroke:white;stroke-width:4\"/><line x1=\"303.99671605117237\" y1=\"207.25658410216144\" x2=\"303.2653623495532\" y2=\"207.93858246222393\" stroke-linecap=\"round\" style=\"stroke:white;stroke-width:4\"/><line x1=\"303.2653623495532\" y1=\"207.93858246222393\" x2=\"302.5460225492145\" y2=\"208.63324083268293\" stroke-linecap=\"round\" style=\"stroke:white;stroke-width:4\"/><line x1=\"302.5460225492145\" y1=\"208.63324083268293\" x2=\"301.83891576802796\" y2=\"209.34034761386948\" stroke-linecap=\"round\" style=\"stroke:white;stroke-width:4\"/><line x1=\"301.83891576802796\" y1=\"209.34034761386948\" x2=\"301.14425739756894\" y2=\"210.05968741420813\" stroke-linecap=\"round\" style=\"stroke:white;stroke-width:4\"/><line x1=\"301.14425739756894\" y1=\"210.05968741420813\" x2=\"300.46225903750644\" y2=\"210.7910411158273\" stroke-linecap=\"round\" style=\"stroke:white;stroke-width:4\"/><line x1=\"300.46225903750644\" y1=\"210.7910411158273\" x2=\"299.7931284311476\" y2=\"211.5341859413047\" stroke-linecap=\"round\" style=\"stroke:white;stroke-width:4\"/><line x1=\"299.7931284311476\" y1=\"211.5341859413047\" x2=\"299.13706940215707\" y2=\"212.28889552152748\" stroke-linecap=\"round\" style=\"stroke:white;stroke-width:4\"/><line x1=\"299.13706940215707\" y1=\"212.28889552152748\" x2=\"298.49428179247053\" y2=\"213.05493996464645\" stroke-linecap=\"round\" style=\"stroke:white;stroke-width:4\"/><line x1=\"298.49428179247053\" y1=\"213.05493996464645\" x2=\"297.8649614014207\" y2=\"213.83208592610342\" stroke-linecap=\"round\" style=\"stroke:white;stroke-width:4\"/><line x1=\"297.8649614014207\" y1=\"213.83208592610342\" x2=\"297.24929992609503\" y2=\"214.62009667971014\" stroke-linecap=\"round\" style=\"stroke:white;stroke-width:4\"/><line x1=\"297.24929992609503\" y1=\"214.62009667971014\" x2=\"296.647484902943\" y2=\"215.41873218975743\" stroke-linecap=\"round\" style=\"stroke:white;stroke-width:4\"/><line x1=\"296.647484902943\" y1=\"215.41873218975743\" x2=\"296.05969965065054\" y2=\"216.2277491841324\" stroke-linecap=\"round\" style=\"stroke:white;stroke-width:4\"/><line x1=\"296.05969965065054\" y1=\"216.2277491841324\" x2=\"295.4861232142995\" y2=\"217.04690122842138\" stroke-linecap=\"round\" style=\"stroke:white;stroke-width:4\"/><line x1=\"295.4861232142995\" y1=\"217.04690122842138\" x2=\"294.9269303108287\" y2=\"217.87593880097643\" stroke-linecap=\"round\" style=\"stroke:white;stroke-width:4\"/><line x1=\"294.9269303108287\" y1=\"217.87593880097643\" x2=\"294.38229127581366\" y2=\"218.71460936892186\" stroke-linecap=\"round\" style=\"stroke:white;stroke-width:4\"/><line x1=\"294.38229127581366\" y1=\"218.71460936892186\" x2=\"293.8523720115804\" y2=\"219.56265746507827\" stroke-linecap=\"round\" style=\"stroke:white;stroke-width:4\"/><line x1=\"293.8523720115804\" y1=\"219.56265746507827\" x2=\"293.33733393667035\" y2=\"220.4198247657804\" stroke-linecap=\"round\" style=\"stroke:white;stroke-width:4\"/><line x1=\"293.33733393667035\" y1=\"220.4198247657804\" x2=\"292.83733393667035\" y2=\"221.28585016956484\" stroke-linecap=\"round\" style=\"stroke:white;stroke-width:4\"/><line x1=\"292.83733393667035\" y1=\"221.28585016956484\" x2=\"292.352524316424\" y2=\"222.16046987670424\" stroke-linecap=\"round\" style=\"stroke:white;stroke-width:4\"/><line x1=\"292.352524316424\" y1=\"222.16046987670424\" x2=\"291.88305275363814\" y2=\"223.04341746956317\" stroke-linecap=\"round\" style=\"stroke:white;stroke-width:4\"/><line x1=\"291.88305275363814\" y1=\"223.04341746956317\" x2=\"291.4290622538986\" y2=\"223.93442399375152\" stroke-linecap=\"round\" style=\"stroke:white;stroke-width:4\"/><line x1=\"291.4290622538986\" y1=\"223.93442399375152\" x2=\"290.99069110710957\" y2=\"224.8332180400507\" stroke-linecap=\"round\" style=\"stroke:white;stroke-width:4\"/><line x1=\"290.99069110710957\" y1=\"224.8332180400507\" x2=\"290.5680728453689\" y2=\"225.73952582708733\" stroke-linecap=\"round\" style=\"stroke:white;stroke-width:4\"/><line x1=\"290.5680728453689\" y1=\"225.73952582708733\" x2=\"290.16133620229306\" y2=\"226.65307128472995\" stroke-linecap=\"round\" style=\"stroke:white;stroke-width:4\"/><line x1=\"290.16133620229306\" y1=\"226.65307128472995\" x2=\"289.7706050738038\" y2=\"227.57357613818237\" stroke-linecap=\"round\" style=\"stroke:white;stroke-width:4\"/><line x1=\"289.7706050738038\" y1=\"227.57357613818237\" x2=\"289.39599848038785\" y2=\"228.50075999274915\" stroke-linecap=\"round\" style=\"stroke:white;stroke-width:4\"/><line x1=\"289.39599848038785\" y1=\"228.50075999274915\" x2=\"289.03763053084253\" y2=\"229.43434041924635\" stroke-linecap=\"round\" style=\"stroke:white;stroke-width:4\"/><line x1=\"289.03763053084253\" y1=\"229.43434041924635\" x2=\"288.69561038751687\" y2=\"230.37403304003226\" stroke-linecap=\"round\" style=\"stroke:white;stroke-width:4\"/><line x1=\"288.69561038751687\" y1=\"230.37403304003226\" x2=\"288.37004223305973\" y2=\"231.31955161563158\" stroke-linecap=\"round\" style=\"stroke:white;stroke-width:4\"/><line x1=\"288.37004223305973\" y1=\"231.31955161563158\" x2=\"288.0610252386848\" y2=\"232.27060813192674\" stroke-linecap=\"round\" style=\"stroke:white;stroke-width:4\"/><line x1=\"288.0610252386848\" y1=\"232.27060813192674\" x2=\"287.7686535339621\" y2=\"233.22691288788977\" stroke-linecap=\"round\" style=\"stroke:white;stroke-width:4\"/><line x1=\"287.7686535339621\" y1=\"233.22691288788977\" x2=\"287.49301617814507\" y2=\"234.18817458382807\" stroke-linecap=\"round\" style=\"stroke:white;stroke-width:4\"/><line x1=\"287.49301617814507\" y1=\"234.18817458382807\" x2=\"287.2341971330425\" y2=\"235.15410041011714\" stroke-linecap=\"round\" style=\"stroke:white;stroke-width:4\"/><line x1=\"287.2341971330425\" y1=\"235.15410041011714\" x2=\"286.99227523744287\" y2=\"236.12439613639313\" stroke-linecap=\"round\" style=\"stroke:white;stroke-width:4\"/><line x1=\"286.99227523744287\" y1=\"236.12439613639313\" x2=\"286.767324183099\" y2=\"237.09876620117836\" stroke-linecap=\"round\" style=\"stroke:white;stroke-width:4\"/><line x1=\"286.767324183099\" y1=\"237.09876620117836\" x2=\"286.55941249228124\" y2=\"238.07691380191216\" stroke-linecap=\"round\" style=\"stroke:white;stroke-width:4\"/><line x1=\"286.55941249228124\" y1=\"238.07691380191216\" x2=\"286.3686034969047\" y2=\"239.05854098535983\" stroke-linecap=\"round\" style=\"stroke:white;stroke-width:4\"/><line x1=\"286.3686034969047\" y1=\"239.05854098535983\" x2=\"286.1949553192378\" y2=\"240.04334873837203\" stroke-linecap=\"round\" style=\"stroke:white;stroke-width:4\"/><line x1=\"286.1949553192378\" y1=\"240.04334873837203\" x2=\"286.0385208541976\" y2=\"241.03103707896716\" stroke-linecap=\"round\" style=\"stroke:white;stroke-width:4\"/><line x1=\"286.0385208541976\" y1=\"241.03103707896716\" x2=\"285.8993477532375\" y2=\"242.02130514770872\" stroke-linecap=\"round\" style=\"stroke:white;stroke-width:4\"/><line x1=\"285.8993477532375\" y1=\"242.02130514770872\" x2=\"285.7774784098324\" y2=\"243.01385129935005\" stroke-linecap=\"round\" style=\"stroke:white;stroke-width:4\"/><line x1=\"285.7774784098324\" y1=\"243.01385129935005\" x2=\"285.67294994656476\" y2=\"244.00837319471833\" stroke-linecap=\"round\" style=\"stroke:white;stroke-width:4\"/><line x1=\"285.67294994656476\" y1=\"244.00837319471833\" x2=\"285.5857942038171\" y2=\"245.0045678928101\" stroke-linecap=\"round\" style=\"stroke:white;stroke-width:4\"/><line x1=\"285.5857942038171\" y1=\"245.0045678928101\" x2=\"285.516037730073\" y2=\"246.0021319430699\" stroke-linecap=\"round\" style=\"stroke:white;stroke-width:4\"/><line x1=\"285.516037730073\" y1=\"246.0021319430699\" x2=\"285.46370177383005\" y2=\"247.00076147782448\" stroke-linecap=\"round\" style=\"stroke:white;stroke-width:4\"/><line x1=\"285.46370177383005\" y1=\"247.00076147782448\" x2=\"285.42880227712755\" y2=\"248.00015230484357\" stroke-linecap=\"round\" style=\"stroke:white;stroke-width:4\"/><line x1=\"285.42880227712755\" y1=\"248.00015230484357\" x2=\"285.4113498706903\" y2=\"248.99999999999997\" stroke-linecap=\"round\" style=\"stroke:white;stroke-width:4\"/><line x1=\"285.4113498706903\" y1=\"248.99999999999997\" x2=\"285.4113498706903\" y2=\"249.99999999999997\" stroke-linecap=\"round\" style=\"stroke:white;stroke-width:4\"/><line x1=\"285.4113498706903\" y1=\"249.99999999999997\" x2=\"285.42880227712755\" y2=\"250.99984769515638\" stroke-linecap=\"round\" style=\"stroke:white;stroke-width:4\"/><line x1=\"285.42880227712755\" y1=\"250.99984769515638\" x2=\"285.46370177383005\" y2=\"251.99923852217546\" stroke-linecap=\"round\" style=\"stroke:white;stroke-width:4\"/><line x1=\"285.46370177383005\" y1=\"251.99923852217546\" x2=\"285.516037730073\" y2=\"252.99786805693003\" stroke-linecap=\"round\" style=\"stroke:white;stroke-width:4\"/><line x1=\"285.516037730073\" y1=\"252.99786805693003\" x2=\"285.5857942038171\" y2=\"253.99543210718986\" stroke-linecap=\"round\" style=\"stroke:white;stroke-width:4\"/><line x1=\"285.5857942038171\" y1=\"253.99543210718986\" x2=\"285.67294994656476\" y2=\"254.9916268052816\" stroke-linecap=\"round\" style=\"stroke:white;stroke-width:4\"/><line x1=\"285.67294994656476\" y1=\"254.9916268052816\" x2=\"285.7774784098324\" y2=\"255.9861487006499\" stroke-linecap=\"round\" style=\"stroke:white;stroke-width:4\"/><line x1=\"285.7774784098324\" y1=\"255.9861487006499\" x2=\"285.8993477532375\" y2=\"256.9786948522912\" stroke-linecap=\"round\" style=\"stroke:white;stroke-width:4\"/><line x1=\"285.8993477532375\" y1=\"256.9786948522912\" x2=\"286.0385208541976\" y2=\"257.96896292103276\" stroke-linecap=\"round\" style=\"stroke:white;stroke-width:4\"/><line x1=\"286.0385208541976\" y1=\"257.96896292103276\" x2=\"286.1949553192378\" y2=\"258.9566512616279\" stroke-linecap=\"round\" style=\"stroke:white;stroke-width:4\"/><line x1=\"286.1949553192378\" y1=\"258.9566512616279\" x2=\"286.3686034969047\" y2=\"259.9414590146401\" stroke-linecap=\"round\" style=\"stroke:white;stroke-width:4\"/><line x1=\"286.3686034969047\" y1=\"259.9414590146401\" x2=\"286.55941249228124\" y2=\"260.92308619808773\" stroke-linecap=\"round\" style=\"stroke:white;stroke-width:4\"/><line x1=\"286.55941249228124\" y1=\"260.92308619808773\" x2=\"286.767324183099\" y2=\"261.9012337988215\" stroke-linecap=\"round\" style=\"stroke:white;stroke-width:4\"/><line x1=\"286.767324183099\" y1=\"261.9012337988215\" x2=\"286.99227523744287\" y2=\"262.8756038636068\" stroke-linecap=\"round\" style=\"stroke:white;stroke-width:4\"/><line x1=\"286.99227523744287\" y1=\"262.8756038636068\" x2=\"287.2341971330425\" y2=\"263.8458995898828\" stroke-linecap=\"round\" style=\"stroke:white;stroke-width:4\"/><line x1=\"287.2341971330425\" y1=\"263.8458995898828\" x2=\"287.49301617814507\" y2=\"264.81182541617187\" stroke-linecap=\"round\" style=\"stroke:white;stroke-width:4\"/><line x1=\"287.49301617814507\" y1=\"264.81182541617187\" x2=\"287.7686535339621\" y2=\"265.7730871121102\" stroke-linecap=\"round\" style=\"stroke:white;stroke-width:4\"/><line x1=\"287.7686535339621\" y1=\"265.7730871121102\" x2=\"288.0610252386848\" y2=\"266.72939186807326\" stroke-linecap=\"round\" style=\"stroke:white;stroke-width:4\"/><line x1=\"288.0610252386848\" y1=\"266.72939186807326\" x2=\"288.37004223305973\" y2=\"267.6804483843684\" stroke-linecap=\"round\" style=\"stroke:white;stroke-width:4\"/><line x1=\"288.37004223305973\" y1=\"267.6804483843684\" x2=\"288.69561038751687\" y2=\"268.6259669599677\" stroke-linecap=\"round\" style=\"stroke:white;stroke-width:4\"/><line x1=\"288.69561038751687\" y1=\"268.6259669599677\" x2=\"289.03763053084253\" y2=\"269.5656595807536\" stroke-linecap=\"round\" style=\"stroke:white;stroke-width:4\"/><line x1=\"289.03763053084253\" y1=\"269.5656595807536\" x2=\"289.39599848038785\" y2=\"270.4992400072508\" stroke-linecap=\"round\" style=\"stroke:white;stroke-width:4\"/><line x1=\"289.39599848038785\" y1=\"270.4992400072508\" x2=\"289.7706050738038\" y2=\"271.4264238618176\" stroke-linecap=\"round\" style=\"stroke:white;stroke-width:4\"/><line x1=\"289.7706050738038\" y1=\"271.4264238618176\" x2=\"290.16133620229306\" y2=\"272.34692871527005\" stroke-linecap=\"round\" style=\"stroke:white;stroke-width:4\"/><line x1=\"290.16133620229306\" y1=\"272.34692871527005\" x2=\"290.5680728453689\" y2=\"273.26047417291267\" stroke-linecap=\"round\" style=\"stroke:white;stroke-width:4\"/><line x1=\"290.5680728453689\" y1=\"273.26047417291267\" x2=\"290.99069110710957\" y2=\"274.16678195994933\" stroke-linecap=\"round\" style=\"stroke:white;stroke-width:4\"/><line x1=\"290.99069110710957\" y1=\"274.16678195994933\" x2=\"291.4290622538986\" y2=\"275.0655760062485\" stroke-linecap=\"round\" style=\"stroke:white;stroke-width:4\"/><line x1=\"291.4290622538986\" y1=\"275.0655760062485\" x2=\"291.8830527536382\" y2=\"275.95658253043683\" stroke-linecap=\"round\" style=\"stroke:white;stroke-width:4\"/><line x1=\"291.8830527536382\" y1=\"275.95658253043683\" x2=\"292.3525243164241\" y2=\"276.8395301232958\" stroke-linecap=\"round\" style=\"stroke:white;stroke-width:4\"/><line x1=\"292.3525243164241\" y1=\"276.8395301232958\" x2=\"292.8373339366704\" y2=\"277.7141498304352\" stroke-linecap=\"round\" style=\"stroke:white;stroke-width:4\"/><line x1=\"292.8373339366704\" y1=\"277.7141498304352\" x2=\"293.3373339366704\" y2=\"278.5801752342196\" stroke-linecap=\"round\" style=\"stroke:white;stroke-width:4\"/><line x1=\"293.3373339366704\" y1=\"278.5801752342196\" x2=\"293.8523720115805\" y2=\"279.4373425349217\" stroke-linecap=\"round\" style=\"stroke:white;stroke-width:4\"/><line x1=\"293.8523720115805\" y1=\"279.4373425349217\" x2=\"294.3822912758137\" y2=\"280.28539063107814\" stroke-linecap=\"round\" style=\"stroke:white;stroke-width:4\"/><line x1=\"294.3822912758137\" y1=\"280.28539063107814\" x2=\"294.92693031082877\" y2=\"281.1240611990236\" stroke-linecap=\"round\" style=\"stroke:white;stroke-width:4\"/><line x1=\"294.92693031082877\" y1=\"281.1240611990236\" x2=\"295.48612321429954\" y2=\"281.9530987715786\" stroke-linecap=\"round\" style=\"stroke:white;stroke-width:4\"/><line x1=\"295.48612321429954\" y1=\"281.9530987715786\" x2=\"296.0596996506506\" y2=\"282.7722508158676\" stroke-linecap=\"round\" style=\"stroke:white;stroke-width:4\"/><line x1=\"296.0596996506506\" y1=\"282.7722508158676\" x2=\"296.64748490294306\" y2=\"283.58126781024254\" stroke-linecap=\"round\" style=\"stroke:white;stroke-width:4\"/><line x1=\"296.64748490294306\" y1=\"283.58126781024254\" x2=\"297.2492999260951\" y2=\"284.3799033202898\" stroke-linecap=\"round\" style=\"stroke:white;stroke-width:4\"/><line x1=\"297.2492999260951\" y1=\"284.3799033202898\" x2=\"297.86496140142077\" y2=\"285.16791407389655\" stroke-linecap=\"round\" style=\"stroke:white;stroke-width:4\"/><line x1=\"297.86496140142077\" y1=\"285.16791407389655\" x2=\"298.4942817924706\" y2=\"285.94506003535355\" stroke-linecap=\"round\" style=\"stroke:white;stroke-width:4\"/><line x1=\"298.4942817924706\" y1=\"285.94506003535355\" x2=\"299.1370694021571\" y2=\"286.7111044784725\" stroke-linecap=\"round\" style=\"stroke:white;stroke-width:4\"/><line x1=\"299.1370694021571\" y1=\"286.7111044784725\" x2=\"299.79312843114764\" y2=\"287.4658140586953\" stroke-linecap=\"round\" style=\"stroke:white;stroke-width:4\"/><line x1=\"299.79312843114764\" y1=\"287.4658140586953\" x2=\"300.4622590375065\" y2=\"288.20895888417266\" stroke-linecap=\"round\" style=\"stroke:white;stroke-width:4\"/><line x1=\"300.4622590375065\" y1=\"288.20895888417266\" x2=\"301.144257397569\" y2=\"288.94031258579184\" stroke-linecap=\"round\" style=\"stroke:white;stroke-width:4\"/><line x1=\"301.144257397569\" y1=\"288.94031258579184\" x2=\"301.838915768028\" y2=\"289.6596523861305\" stroke-linecap=\"round\" style=\"stroke:white;stroke-width:4\"/><line x1=\"301.838915768028\" y1=\"289.6596523861305\" x2=\"302.54602254921457\" y2=\"290.36675916731707\" stroke-linecap=\"round\" style=\"stroke:white;stroke-width:4\"/><line x1=\"302.54602254921457\" y1=\"290.36675916731707\" x2=\"303.26536234955324\" y2=\"291.0614175377761\" stroke-linecap=\"round\" style=\"stroke:white;stroke-width:4\"/><line x1=\"303.26536234955324\" y1=\"291.0614175377761\" x2=\"303.9967160511724\" y2=\"291.7434158978386\" stroke-linecap=\"round\" style=\"stroke:white;stroke-width:4\"/><line x1=\"303.9967160511724\" y1=\"291.7434158978386\" x2=\"304.7398608766498\" y2=\"292.41254650419745\" stroke-linecap=\"round\" style=\"stroke:white;stroke-width:4\"/><line x1=\"304.7398608766498\" y1=\"292.41254650419745\" x2=\"305.49457045687257\" y2=\"293.06860553318796\" stroke-linecap=\"round\" style=\"stroke:white;stroke-width:4\"/><line x1=\"305.49457045687257\" y1=\"293.06860553318796\" x2=\"306.26061489999154\" y2=\"293.7113931428745\" stroke-linecap=\"round\" style=\"stroke:white;stroke-width:4\"/><line x1=\"306.26061489999154\" y1=\"293.7113931428745\" x2=\"307.03776086144853\" y2=\"294.3407135339243\" stroke-linecap=\"round\" style=\"stroke:white;stroke-width:4\"/><line x1=\"307.03776086144853\" y1=\"294.3407135339243\" x2=\"307.82577161505526\" y2=\"294.95637500925\" stroke-linecap=\"round\" style=\"stroke:white;stroke-width:4\"/><line x1=\"307.82577161505526\" y1=\"294.95637500925\" x2=\"308.62440712510255\" y2=\"295.558190032402\" stroke-linecap=\"round\" style=\"stroke:white;stroke-width:4\"/><line x1=\"308.62440712510255\" y1=\"295.558190032402\" x2=\"309.4334241194775\" y2=\"296.1459752846945\" stroke-linecap=\"round\" style=\"stroke:white;stroke-width:4\"/><line x1=\"309.4334241194775\" y1=\"296.1459752846945\" x2=\"310.2525761637665\" y2=\"296.71955172104555\" stroke-linecap=\"round\" style=\"stroke:white;stroke-width:4\"/><line x1=\"310.2525761637665\" y1=\"296.71955172104555\" x2=\"311.0816137363215\" y2=\"297.2787446245163\" stroke-linecap=\"round\" style=\"stroke:white;stroke-width:4\"/><line x1=\"311.0816137363215\" y1=\"297.2787446245163\" x2=\"311.92028430426694\" y2=\"297.8233836595314\" stroke-linecap=\"round\" style=\"stroke:white;stroke-width:4\"/><line x1=\"311.92028430426694\" y1=\"297.8233836595314\" x2=\"312.7683324004234\" y2=\"298.3533029237646\" stroke-linecap=\"round\" style=\"stroke:white;stroke-width:4\"/><line x1=\"312.7683324004234\" y1=\"298.3533029237646\" x2=\"313.6254997011255\" y2=\"298.8683409986747\" stroke-linecap=\"round\" style=\"stroke:white;stroke-width:4\"/><line x1=\"313.6254997011255\" y1=\"298.8683409986747\" x2=\"314.4915251049099\" y2=\"299.3683409986747\" stroke-linecap=\"round\" style=\"stroke:white;stroke-width:4\"/><line x1=\"314.4915251049099\" y1=\"299.3683409986747\" x2=\"315.3661448120493\" y2=\"299.853150618921\" stroke-linecap=\"round\" style=\"stroke:white;stroke-width:4\"/><line x1=\"315.3661448120493\" y1=\"299.853150618921\" x2=\"316.24909240490825\" y2=\"300.3226221817069\" stroke-linecap=\"round\" style=\"stroke:white;stroke-width:4\"/><line x1=\"316.24909240490825\" y1=\"300.3226221817069\" x2=\"317.1400989290966\" y2=\"300.7766126814464\" stroke-linecap=\"round\" style=\"stroke:white;stroke-width:4\"/><line x1=\"317.1400989290966\" y1=\"300.7766126814464\" x2=\"318.03889297539575\" y2=\"301.21498382823546\" stroke-linecap=\"round\" style=\"stroke:white;stroke-width:4\"/><line x1=\"318.03889297539575\" y1=\"301.21498382823546\" x2=\"318.9452007624324\" y2=\"301.63760208997616\" stroke-linecap=\"round\" style=\"stroke:white;stroke-width:4\"/><line x1=\"318.9452007624324\" y1=\"301.63760208997616\" x2=\"319.85874622007503\" y2=\"302.044338733052\" stroke-linecap=\"round\" style=\"stroke:white;stroke-width:4\"/><line x1=\"319.85874622007503\" y1=\"302.044338733052\" x2=\"320.77925107352746\" y2=\"302.43506986154125\" stroke-linecap=\"round\" style=\"stroke:white;stroke-width:4\"/><line x1=\"320.77925107352746\" y1=\"302.43506986154125\" x2=\"321.70643492809427\" y2=\"302.8096764549572\" stroke-linecap=\"round\" style=\"stroke:white;stroke-width:4\"/><line x1=\"321.70643492809427\" y1=\"302.8096764549572\" x2=\"322.64001535459147\" y2=\"303.1680444045025\" stroke-linecap=\"round\" style=\"stroke:white;stroke-width:4\"/><line x1=\"322.64001535459147\" y1=\"303.1680444045025\" x2=\"323.5797079753774\" y2=\"303.51006454782816\" stroke-linecap=\"round\" style=\"stroke:white;stroke-width:4\"/><line x1=\"323.5797079753774\" y1=\"303.51006454782816\" x2=\"324.5252265509767\" y2=\"303.8356327022853\" stroke-linecap=\"round\" style=\"stroke:white;stroke-width:4\"/><line x1=\"324.5252265509767\" y1=\"303.8356327022853\" x2=\"325.4762830672718\" y2=\"304.1446496966602\" stroke-linecap=\"round\" style=\"stroke:white;stroke-width:4\"/><line x1=\"325.4762830672718\" y1=\"304.1446496966602\" x2=\"326.4325878232349\" y2=\"304.43702140138294\" stroke-linecap=\"round\" style=\"stroke:white;stroke-width:4\"/><line x1=\"326.4325878232349\" y1=\"304.43702140138294\" x2=\"327.3938495191732\" y2=\"304.71265875719996\" stroke-linecap=\"round\" style=\"stroke:white;stroke-width:4\"/><line x1=\"327.3938495191732\" y1=\"304.71265875719996\" x2=\"328.3597753454623\" y2=\"304.9714778023025\" stroke-linecap=\"round\" style=\"stroke:white;stroke-width:4\"/><line x1=\"328.3597753454623\" y1=\"304.9714778023025\" x2=\"329.3300710717383\" y2=\"305.21339969790216\" stroke-linecap=\"round\" style=\"stroke:white;stroke-width:4\"/><line x1=\"329.3300710717383\" y1=\"305.21339969790216\" x2=\"330.30444113652356\" y2=\"305.43835075224604\" stroke-linecap=\"round\" style=\"stroke:white;stroke-width:4\"/><line x1=\"330.30444113652356\" y1=\"305.43835075224604\" x2=\"331.28258873725736\" y2=\"305.6462624430638\" stroke-linecap=\"round\" style=\"stroke:white;stroke-width:4\"/><line x1=\"331.28258873725736\" y1=\"305.6462624430638\" x2=\"332.264215920705\" y2=\"305.8370714384403\" stroke-linecap=\"round\" style=\"stroke:white;stroke-width:4\"/><line x1=\"332.264215920705\" y1=\"305.8370714384403\" x2=\"333.2490236737172\" y2=\"306.0107196161072\" stroke-linecap=\"round\" style=\"stroke:white;stroke-width:4\"/><line x1=\"333.2490236737172\" y1=\"306.0107196161072\" x2=\"334.23671201431233\" y2=\"306.16715408114743\" stroke-linecap=\"round\" style=\"stroke:white;stroke-width:4\"/><line x1=\"334.23671201431233\" y1=\"306.16715408114743\" x2=\"335.2269800830539\" y2=\"306.3063271821075\" stroke-linecap=\"round\" style=\"stroke:white;stroke-width:4\"/><line x1=\"335.2269800830539\" y1=\"306.3063271821075\" x2=\"336.2195262346952\" y2=\"306.42819652551265\" stroke-linecap=\"round\" style=\"stroke:white;stroke-width:4\"/><line x1=\"336.2195262346952\" y1=\"306.42819652551265\" x2=\"337.2140481300635\" y2=\"306.5327249887803\" stroke-linecap=\"round\" style=\"stroke:white;stroke-width:4\"/><line x1=\"337.2140481300635\" y1=\"306.5327249887803\" x2=\"338.21024282815523\" y2=\"306.6198807315279\" stroke-linecap=\"round\" style=\"stroke:white;stroke-width:4\"/><line x1=\"338.21024282815523\" y1=\"306.6198807315279\" x2=\"339.20780687841506\" y2=\"306.68963720527205\" stroke-linecap=\"round\" style=\"stroke:white;stroke-width:4\"/><line x1=\"339.20780687841506\" y1=\"306.68963720527205\" x2=\"340.2064364131696\" y2=\"306.741973161515\" stroke-linecap=\"round\" style=\"stroke:white;stroke-width:4\"/><line x1=\"340.2064364131696\" y1=\"306.741973161515\" x2=\"341.20582724018874\" y2=\"306.7768726582175\" stroke-linecap=\"round\" style=\"stroke:white;stroke-width:4\"/><line x1=\"341.20582724018874\" y1=\"306.7768726582175\" x2=\"342.20567493534514\" y2=\"306.79432506465474\" stroke-linecap=\"round\" style=\"stroke:white;stroke-width:4\"/><line x1=\"342.20567493534514\" y1=\"306.79432506465474\" x2=\"343.20567493534514\" y2=\"306.79432506465474\" stroke-linecap=\"round\" style=\"stroke:white;stroke-width:4\"/><line x1=\"343.20567493534514\" y1=\"306.79432506465474\" x2=\"344.20552263050155\" y2=\"306.7768726582175\" stroke-linecap=\"round\" style=\"stroke:white;stroke-width:4\"/><line x1=\"344.20552263050155\" y1=\"306.7768726582175\" x2=\"345.20491345752066\" y2=\"306.741973161515\" stroke-linecap=\"round\" style=\"stroke:white;stroke-width:4\"/><line x1=\"345.20491345752066\" y1=\"306.741973161515\" x2=\"346.20354299227523\" y2=\"306.68963720527205\" stroke-linecap=\"round\" style=\"stroke:white;stroke-width:4\"/><line x1=\"346.20354299227523\" y1=\"306.68963720527205\" x2=\"347.20110704253506\" y2=\"306.6198807315279\" stroke-linecap=\"round\" style=\"stroke:white;stroke-width:4\"/><line x1=\"347.20110704253506\" y1=\"306.6198807315279\" x2=\"348.1973017406268\" y2=\"306.5327249887803\" stroke-linecap=\"round\" style=\"stroke:white;stroke-width:4\"/><line x1=\"348.1973017406268\" y1=\"306.5327249887803\" x2=\"349.1918236359951\" y2=\"306.42819652551265\" stroke-linecap=\"round\" style=\"stroke:white;stroke-width:4\"/><line x1=\"349.1918236359951\" y1=\"306.42819652551265\" x2=\"350.1843697876364\" y2=\"306.3063271821075\" stroke-linecap=\"round\" style=\"stroke:white;stroke-width:4\"/><line x1=\"350.1843697876364\" y1=\"306.3063271821075\" x2=\"351.17463785637796\" y2=\"306.16715408114743\" stroke-linecap=\"round\" style=\"stroke:white;stroke-width:4\"/><line x1=\"351.17463785637796\" y1=\"306.16715408114743\" x2=\"352.1623261969731\" y2=\"306.0107196161072\" stroke-linecap=\"round\" style=\"stroke:white;stroke-width:4\"/><line x1=\"352.1623261969731\" y1=\"306.0107196161072\" x2=\"353.1471339499853\" y2=\"305.8370714384403\" stroke-linecap=\"round\" style=\"stroke:white;stroke-width:4\"/><line x1=\"353.1471339499853\" y1=\"305.8370714384403\" x2=\"354.12876113343293\" y2=\"305.6462624430638\" stroke-linecap=\"round\" style=\"stroke:white;stroke-width:4\"/><line x1=\"354.12876113343293\" y1=\"305.6462624430638\" x2=\"355.1069087341667\" y2=\"305.43835075224604\" stroke-linecap=\"round\" style=\"stroke:white;stroke-width:4\"/><line x1=\"355.1069087341667\" y1=\"305.43835075224604\" x2=\"356.081278798952\" y2=\"305.21339969790216\" stroke-linecap=\"round\" style=\"stroke:white;stroke-width:4\"/><line x1=\"356.081278798952\" y1=\"305.21339969790216\" x2=\"357.051574525228\" y2=\"304.9714778023025\" stroke-linecap=\"round\" style=\"stroke:white;stroke-width:4\"/><line x1=\"357.051574525228\" y1=\"304.9714778023025\" x2=\"358.01750035151707\" y2=\"304.71265875719996\" stroke-linecap=\"round\" style=\"stroke:white;stroke-width:4\"/><line x1=\"358.01750035151707\" y1=\"304.71265875719996\" x2=\"358.9787620474554\" y2=\"304.43702140138294\" stroke-linecap=\"round\" style=\"stroke:white;stroke-width:4\"/><line x1=\"358.9787620474554\" y1=\"304.43702140138294\" x2=\"359.93506680341847\" y2=\"304.1446496966602\" stroke-linecap=\"round\" style=\"stroke:white;stroke-width:4\"/><line x1=\"359.93506680341847\" y1=\"304.1446496966602\" x2=\"360.8861233197136\" y2=\"303.8356327022853\" stroke-linecap=\"round\" style=\"stroke:white;stroke-width:4\"/><line x1=\"360.8861233197136\" y1=\"303.8356327022853\" x2=\"361.8316418953129\" y2=\"303.51006454782816\" stroke-linecap=\"round\" style=\"stroke:white;stroke-width:4\"/><line x1=\"361.8316418953129\" y1=\"303.51006454782816\" x2=\"362.7713345160988\" y2=\"303.1680444045025\" stroke-linecap=\"round\" style=\"stroke:white;stroke-width:4\"/><line x1=\"362.7713345160988\" y1=\"303.1680444045025\" x2=\"363.704914942596\" y2=\"302.8096764549572\" stroke-linecap=\"round\" style=\"stroke:white;stroke-width:4\"/><line x1=\"363.704914942596\" y1=\"302.8096764549572\" x2=\"364.6320987971628\" y2=\"302.43506986154125\" stroke-linecap=\"round\" style=\"stroke:white;stroke-width:4\"/><line x1=\"364.6320987971628\" y1=\"302.43506986154125\" x2=\"365.55260365061525\" y2=\"302.044338733052\" stroke-linecap=\"round\" style=\"stroke:white;stroke-width:4\"/><line x1=\"365.55260365061525\" y1=\"302.044338733052\" x2=\"366.46614910825787\" y2=\"301.63760208997616\" stroke-linecap=\"round\" style=\"stroke:white;stroke-width:4\"/><line x1=\"366.46614910825787\" y1=\"301.63760208997616\" x2=\"367.37245689529453\" y2=\"301.21498382823546\" stroke-linecap=\"round\" style=\"stroke:white;stroke-width:4\"/><line x1=\"367.37245689529453\" y1=\"301.21498382823546\" x2=\"368.2712509415937\" y2=\"300.7766126814464\" stroke-linecap=\"round\" style=\"stroke:white;stroke-width:4\"/><line x1=\"368.2712509415937\" y1=\"300.7766126814464\" x2=\"369.16225746578203\" y2=\"300.32262218170683\" stroke-linecap=\"round\" style=\"stroke:white;stroke-width:4\"/><line x1=\"369.16225746578203\" y1=\"300.32262218170683\" x2=\"370.045205058641\" y2=\"299.85315061892095\" stroke-linecap=\"round\" style=\"stroke:white;stroke-width:4\"/><line x1=\"370.045205058641\" y1=\"299.85315061892095\" x2=\"370.9198247657804\" y2=\"299.3683409986746\" stroke-linecap=\"round\" style=\"stroke:white;stroke-width:4\"/><line x1=\"370.9198247657804\" y1=\"299.3683409986746\" x2=\"371.7858501695648\" y2=\"298.8683409986746\" stroke-linecap=\"round\" style=\"stroke:white;stroke-width:4\"/><line x1=\"371.7858501695648\" y1=\"298.8683409986746\" x2=\"372.6430174702669\" y2=\"298.35330292376455\" stroke-linecap=\"round\" style=\"stroke:white;stroke-width:4\"/><line x1=\"372.6430174702669\" y1=\"298.35330292376455\" x2=\"373.49106556642334\" y2=\"297.8233836595313\" stroke-linecap=\"round\" style=\"stroke:white;stroke-width:4\"/><line x1=\"373.49106556642334\" y1=\"297.8233836595313\" x2=\"374.3297361343688\" y2=\"297.27874462451626\" stroke-linecap=\"round\" style=\"stroke:white;stroke-width:4\"/><line x1=\"374.3297361343688\" y1=\"297.27874462451626\" x2=\"375.1587737069238\" y2=\"296.7195517210455\" stroke-linecap=\"round\" style=\"stroke:white;stroke-width:4\"/><line x1=\"375.1587737069238\" y1=\"296.7195517210455\" x2=\"375.9779257512128\" y2=\"296.14597528469443\" stroke-linecap=\"round\" style=\"stroke:white;stroke-width:4\"/><line x1=\"375.9779257512128\" y1=\"296.14597528469443\" x2=\"376.78694274558774\" y2=\"295.55819003240197\" stroke-linecap=\"round\" style=\"stroke:white;stroke-width:4\"/><line x1=\"376.78694274558774\" y1=\"295.55819003240197\" x2=\"377.585578255635\" y2=\"294.95637500924994\" stroke-linecap=\"round\" style=\"stroke:white;stroke-width:4\"/><line x1=\"377.585578255635\" y1=\"294.95637500924994\" x2=\"378.37358900924175\" y2=\"294.34071353392426\" stroke-linecap=\"round\" style=\"stroke:white;stroke-width:4\"/><line x1=\"378.37358900924175\" y1=\"294.34071353392426\" x2=\"379.15073497069875\" y2=\"293.71139314287444\" stroke-linecap=\"round\" style=\"stroke:white;stroke-width:4\"/><line x1=\"379.15073497069875\" y1=\"293.71139314287444\" x2=\"379.9167794138177\" y2=\"293.0686055331879\" stroke-linecap=\"round\" style=\"stroke:white;stroke-width:4\"/><line x1=\"379.9167794138177\" y1=\"293.0686055331879\" x2=\"380.6714889940405\" y2=\"292.4125465041974\" stroke-linecap=\"round\" style=\"stroke:white;stroke-width:4\"/><line x1=\"380.6714889940405\" y1=\"292.4125465041974\" x2=\"381.41463381951786\" y2=\"291.74341589783853\" stroke-linecap=\"round\" style=\"stroke:white;stroke-width:4\"/><line x1=\"381.41463381951786\" y1=\"291.74341589783853\" x2=\"382.14598752113704\" y2=\"291.06141753777604\" stroke-linecap=\"round\" style=\"stroke:white;stroke-width:4\"/><line x1=\"382.14598752113704\" y1=\"291.06141753777604\" x2=\"382.8653273214757\" y2=\"290.366759167317\" stroke-linecap=\"round\" style=\"stroke:white;stroke-width:4\"/><line x1=\"382.8653273214757\" y1=\"290.366759167317\" x2=\"383.57243410266227\" y2=\"289.65965238613046\" stroke-linecap=\"round\" style=\"stroke:white;stroke-width:4\"/><line x1=\"383.57243410266227\" y1=\"289.65965238613046\" x2=\"384.2670924731213\" y2=\"288.9403125857918\" stroke-linecap=\"round\" style=\"stroke:white;stroke-width:4\"/><line x1=\"384.2670924731213\" y1=\"288.9403125857918\" x2=\"384.9490908331838\" y2=\"288.2089588841726\" stroke-linecap=\"round\" style=\"stroke:white;stroke-width:4\"/><line x1=\"384.9490908331838\" y1=\"288.2089588841726\" x2=\"385.61822143954265\" y2=\"287.46581405869523\" stroke-linecap=\"round\" style=\"stroke:white;stroke-width:4\"/><line x1=\"385.61822143954265\" y1=\"287.46581405869523\" x2=\"386.27428046853316\" y2=\"286.71110447847246\" stroke-linecap=\"round\" style=\"stroke:white;stroke-width:4\"/><line x1=\"386.27428046853316\" y1=\"286.71110447847246\" x2=\"386.9170680782197\" y2=\"285.9450600353535\" stroke-linecap=\"round\" style=\"stroke:white;stroke-width:4\"/><line x1=\"386.9170680782197\" y1=\"285.9450600353535\" x2=\"387.5463884692695\" y2=\"285.1679140738965\" stroke-linecap=\"round\" style=\"stroke:white;stroke-width:4\"/><line x1=\"387.5463884692695\" y1=\"285.1679140738965\" x2=\"388.1620499445952\" y2=\"284.37990332028977\" stroke-linecap=\"round\" style=\"stroke:white;stroke-width:4\"/><line x1=\"388.1620499445952\" y1=\"284.37990332028977\" x2=\"388.7638649677472\" y2=\"283.5812678102425\" stroke-linecap=\"round\" style=\"stroke:white;stroke-width:4\"/><line x1=\"388.7638649677472\" y1=\"283.5812678102425\" x2=\"389.3516502200397\" y2=\"282.77225081586755\" stroke-linecap=\"round\" style=\"stroke:white;stroke-width:4\"/><line x1=\"389.3516502200397\" y1=\"282.77225081586755\" x2=\"389.92522665639075\" y2=\"281.95309877157854\" stroke-linecap=\"round\" style=\"stroke:white;stroke-width:4\"/><line x1=\"389.92522665639075\" y1=\"281.95309877157854\" x2=\"390.4844195598615\" y2=\"281.1240611990235\" stroke-linecap=\"round\" style=\"stroke:white;stroke-width:4\"/><line x1=\"390.4844195598615\" y1=\"281.1240611990235\" x2=\"391.0290585948766\" y2=\"280.2853906310781\" stroke-linecap=\"round\" style=\"stroke:white;stroke-width:4\"/><line x1=\"391.0290585948766\" y1=\"280.2853906310781\" x2=\"391.5589778591098\" y2=\"279.43734253492164\" stroke-linecap=\"round\" style=\"stroke:white;stroke-width:4\"/><line x1=\"391.5589778591098\" y1=\"279.43734253492164\" x2=\"392.0740159340199\" y2=\"278.58017523421955\" stroke-linecap=\"round\" style=\"stroke:white;stroke-width:4\"/><line x1=\"392.0740159340199\" y1=\"278.58017523421955\" x2=\"392.5740159340199\" y2=\"277.71414983043513\" stroke-linecap=\"round\" style=\"stroke:white;stroke-width:4\"/><line x1=\"392.5740159340199\" y1=\"277.71414983043513\" x2=\"393.0588255542662\" y2=\"276.83953012329573\" stroke-linecap=\"round\" style=\"stroke:white;stroke-width:4\"/><line x1=\"393.0588255542662\" y1=\"276.83953012329573\" x2=\"393.5282971170521\" y2=\"275.9565825304368\" stroke-linecap=\"round\" style=\"stroke:white;stroke-width:4\"/><line x1=\"393.5282971170521\" y1=\"275.9565825304368\" x2=\"393.9822876167916\" y2=\"275.0655760062484\" stroke-linecap=\"round\" style=\"stroke:white;stroke-width:4\"/><line x1=\"393.9822876167916\" y1=\"275.0655760062484\" x2=\"394.42065876358066\" y2=\"274.1667819599493\" stroke-linecap=\"round\" style=\"stroke:white;stroke-width:4\"/><line x1=\"394.42065876358066\" y1=\"274.1667819599493\" x2=\"394.84327702532136\" y2=\"273.2604741729126\" stroke-linecap=\"round\" style=\"stroke:white;stroke-width:4\"/><line x1=\"394.84327702532136\" y1=\"273.2604741729126\" x2=\"395.2500136683972\" y2=\"272.34692871527\" stroke-linecap=\"round\" style=\"stroke:white;stroke-width:4\"/><line x1=\"395.2500136683972\" y1=\"272.34692871527\" x2=\"395.64074479688645\" y2=\"271.42642386181757\" stroke-linecap=\"round\" style=\"stroke:white;stroke-width:4\"/><line x1=\"395.64074479688645\" y1=\"271.42642386181757\" x2=\"396.0153513903024\" y2=\"270.49924000725076\" stroke-linecap=\"round\" style=\"stroke:white;stroke-width:4\"/><line x1=\"396.0153513903024\" y1=\"270.49924000725076\" x2=\"396.3737193398477\" y2=\"269.56565958075356\" stroke-linecap=\"round\" style=\"stroke:white;stroke-width:4\"/><line x1=\"396.3737193398477\" y1=\"269.56565958075356\" x2=\"396.71573948317337\" y2=\"268.6259669599676\" stroke-linecap=\"round\" style=\"stroke:white;stroke-width:4\"/><line x1=\"396.71573948317337\" y1=\"268.6259669599676\" x2=\"397.0413076376305\" y2=\"267.68044838436833\" stroke-linecap=\"round\" style=\"stroke:white;stroke-width:4\"/><line x1=\"397.0413076376305\" y1=\"267.68044838436833\" x2=\"397.3503246320054\" y2=\"266.7293918680732\" stroke-linecap=\"round\" style=\"stroke:white;stroke-width:4\"/><line x1=\"397.3503246320054\" y1=\"266.7293918680732\" x2=\"397.64269633672814\" y2=\"265.77308711211015\" stroke-linecap=\"round\" style=\"stroke:white;stroke-width:4\"/><line x1=\"397.64269633672814\" y1=\"265.77308711211015\" x2=\"397.91833369254516\" y2=\"264.8118254161718\" stroke-linecap=\"round\" style=\"stroke:white;stroke-width:4\"/><line x1=\"397.91833369254516\" y1=\"264.8118254161718\" x2=\"398.1771527376477\" y2=\"263.8458995898827\" stroke-linecap=\"round\" style=\"stroke:white;stroke-width:4\"/><line x1=\"398.1771527376477\" y1=\"263.8458995898827\" x2=\"398.41907463324736\" y2=\"262.8756038636067\" stroke-linecap=\"round\" style=\"stroke:white;stroke-width:4\"/><line x1=\"398.41907463324736\" y1=\"262.8756038636067\" x2=\"398.64402568759124\" y2=\"261.90123379882147\" stroke-linecap=\"round\" style=\"stroke:white;stroke-width:4\"/><line x1=\"398.64402568759124\" y1=\"261.90123379882147\" x2=\"398.851937378409\" y2=\"260.9230861980877\" stroke-linecap=\"round\" style=\"stroke:white;stroke-width:4\"/><line x1=\"398.851937378409\" y1=\"260.9230861980877\" x2=\"399.0427463737855\" y2=\"259.94145901464003\" stroke-linecap=\"round\" style=\"stroke:white;stroke-width:4\"/><line x1=\"399.0427463737855\" y1=\"259.94145901464003\" x2=\"399.2163945514524\" y2=\"258.9566512616278\" stroke-linecap=\"round\" style=\"stroke:white;stroke-width:4\"/><line x1=\"399.2163945514524\" y1=\"258.9566512616278\" x2=\"399.37282901649263\" y2=\"257.9689629210327\" stroke-linecap=\"round\" style=\"stroke:white;stroke-width:4\"/><line x1=\"399.37282901649263\" y1=\"257.9689629210327\" x2=\"399.5120021174527\" y2=\"256.97869485229114\" stroke-linecap=\"round\" style=\"stroke:white;stroke-width:4\"/><line x1=\"399.5120021174527\" y1=\"256.97869485229114\" x2=\"399.63387146085785\" y2=\"255.9861487006498\" stroke-linecap=\"round\" style=\"stroke:white;stroke-width:4\"/><line x1=\"399.63387146085785\" y1=\"255.9861487006498\" x2=\"399.7383999241255\" y2=\"254.99162680528153\" stroke-linecap=\"round\" style=\"stroke:white;stroke-width:4\"/><line x1=\"399.7383999241255\" y1=\"254.99162680528153\" x2=\"399.82555566687313\" y2=\"253.99543210718977\" stroke-linecap=\"round\" style=\"stroke:white;stroke-width:4\"/><line x1=\"399.82555566687313\" y1=\"253.99543210718977\" x2=\"399.89531214061725\" y2=\"252.99786805692995\" stroke-linecap=\"round\" style=\"stroke:white;stroke-width:4\"/><line x1=\"399.89531214061725\" y1=\"252.99786805692995\" x2=\"399.9476480968602\" y2=\"251.99923852217538\" stroke-linecap=\"round\" style=\"stroke:white;stroke-width:4\"/><line x1=\"399.9476480968602\" y1=\"251.99923852217538\" x2=\"399.9825475935627\" y2=\"250.9998476951563\" stroke-linecap=\"round\" style=\"stroke:white;stroke-width:4\"/>\n",
              "        \n",
              "      <g visibility=visible transform=\"rotate(181,399.9825475935627,250.9998476951563) translate(399.9825475935627, 250.9998476951563)\">\n",
              "        <circle stroke=\"white\" stroke-width=\"3\" fill=\"transparent\" r=\"12\" cx=\"0\" cy=\"0\"/>\n",
              "        <polygon points=\"0,19 3,16 -3,16\" style=\"fill:white;stroke:white;stroke-width:2\"/>\n",
              "      </g>\n",
              "    \n",
              "      </svg>\n",
              "    "
            ],
            "text/plain": [
              "<IPython.core.display.HTML object>"
            ]
          },
          "metadata": {
            "tags": []
          }
        }
      ]
    },
    {
      "cell_type": "markdown",
      "metadata": {
        "id": "hKlQxTZT3nKt",
        "colab_type": "text"
      },
      "source": [
        "## LETTERS"
      ]
    },
    {
      "cell_type": "markdown",
      "metadata": {
        "id": "nih_lEp6GOvF",
        "colab_type": "text"
      },
      "source": [
        "### Letter C\n",
        "\n"
      ]
    },
    {
      "cell_type": "code",
      "metadata": {
        "id": "nzRbCS8KwPhJ",
        "colab_type": "code",
        "colab": {}
      },
      "source": [
        "initializeTurtle(initial_speed=10)\n",
        "left(degrees=90)\n",
        "\n",
        "for _ in range(180): ## Range of angle. The turtle should draw a line from 0 to 180 degrees.\n",
        "    forward(units=1)\n",
        "    left(degrees=1)"
      ],
      "execution_count": null,
      "outputs": []
    },
    {
      "cell_type": "markdown",
      "metadata": {
        "id": "yaCkGYtNGZPW",
        "colab_type": "text"
      },
      "source": [
        "### Letter D\n",
        "\n"
      ]
    },
    {
      "cell_type": "markdown",
      "metadata": {
        "id": "gt2EWAeSHxCE",
        "colab_type": "text"
      },
      "source": [
        "To draw an alphabet 'D', the value of the parameter units in the forward function is found to be 114. The calculation is done as follows:\n",
        "\n",
        "Circumference of a circle = 360 units</br>\n",
        "2 x 3.14 x radius of a circle(r) = 360</br>\n",
        "2 x r = diameter of a circle(d)</br>\n",
        "Thus, diameter = 360/3.14 = 114.65</br>\n",
        "\n",
        "**Run time**</br>\n",
        "Speed = 10</br>\n",
        "Distance = 114</br>\n",
        "Run time = Distance/ Speed = 114/10 = 11.4\n",
        "\n",
        "\n"
      ]
    },
    {
      "cell_type": "code",
      "metadata": {
        "id": "EwmMXPbp57-h",
        "colab_type": "code",
        "colab": {}
      },
      "source": [
        "## Calculating the run time\n",
        "import math\n",
        "def calculate_diameter(circumference=360):\n",
        "  return int(circumference/math.pi)\n",
        "\n",
        "def run_time(speed=10):\n",
        "  distance = calculate_diameter(circumference=360)\n",
        "  return distance/speed\n",
        "\n",
        "run_time(speed=10)"
      ],
      "execution_count": null,
      "outputs": []
    },
    {
      "cell_type": "code",
      "metadata": {
        "id": "34MmazkkMlZa",
        "colab_type": "code",
        "colab": {}
      },
      "source": [
        "initializeTurtle(initial_speed=10)\n",
        "forward(calculate_diameter(circumference=360))\n",
        "right(degrees=90)\n",
        "for _ in range(180):\n",
        "    forward(units=1)\n",
        "    right(degrees=1)"
      ],
      "execution_count": null,
      "outputs": []
    },
    {
      "cell_type": "markdown",
      "metadata": {
        "id": "99Tnd4imKieh",
        "colab_type": "text"
      },
      "source": [
        "### Letter Q\n",
        "\n",
        "\n",
        "\n",
        "To draw an alphabet 'Q', the value of the parameter units in the forward functions outside the for loop is found to be 114 and 57, respectively. The calculation is done as follows:\n",
        "\n",
        "Circumference of a circle = 360 units</br>\n",
        "2 x 3.14 x radius of a circle(r) = 360</br>\n",
        "2 x r = diameter of a circle(d)</br>\n",
        "Thus, diameter = 360/3.14 = 114.65 ~ 114</br>\n",
        "radius = 114/2 = 57"
      ]
    },
    {
      "cell_type": "code",
      "metadata": {
        "id": "dPYqjv8G4z94",
        "colab_type": "code",
        "colab": {
          "base_uri": "https://localhost:8080/",
          "height": 541
        },
        "outputId": "a7151cab-1a31-4305-a87d-12dcf2d6651a"
      },
      "source": [
        "initializeTurtle(initial_speed=10)\n",
        "for _ in range(360):\n",
        "    forward(units=1)\n",
        "    left(degrees=1)\n",
        "\n",
        "left(degrees=90)\n",
        "penup()\n",
        "forward(units=57)\n",
        "left(degrees=135)\n",
        "pendown()\n",
        "forward(units=114)"
      ],
      "execution_count": 19,
      "outputs": [
        {
          "output_type": "display_data",
          "data": {
            "text/html": [
              "\n",
              "      <svg width=\"800\" height=\"500\">\n",
              "        <rect width=\"100%\" height=\"100%\" fill=\"black\"/>\n",
              "        <line x1=\"400\" y1=\"250\" x2=\"400.0\" y2=\"249.0\" stroke-linecap=\"round\" style=\"stroke:white;stroke-width:4\"/><line x1=\"400.0\" y1=\"249.0\" x2=\"399.98254759356274\" y2=\"248.0001523048436\" stroke-linecap=\"round\" style=\"stroke:white;stroke-width:4\"/><line x1=\"399.98254759356274\" y1=\"248.0001523048436\" x2=\"399.94764809686023\" y2=\"247.0007614778245\" stroke-linecap=\"round\" style=\"stroke:white;stroke-width:4\"/><line x1=\"399.94764809686023\" y1=\"247.0007614778245\" x2=\"399.8953121406173\" y2=\"246.00213194306994\" stroke-linecap=\"round\" style=\"stroke:white;stroke-width:4\"/><line x1=\"399.8953121406173\" y1=\"246.00213194306994\" x2=\"399.8255556668732\" y2=\"245.00456789281012\" stroke-linecap=\"round\" style=\"stroke:white;stroke-width:4\"/><line x1=\"399.8255556668732\" y1=\"245.00456789281012\" x2=\"399.73839992412553\" y2=\"244.00837319471836\" stroke-linecap=\"round\" style=\"stroke:white;stroke-width:4\"/><line x1=\"399.73839992412553\" y1=\"244.00837319471836\" x2=\"399.6338714608579\" y2=\"243.01385129935008\" stroke-linecap=\"round\" style=\"stroke:white;stroke-width:4\"/><line x1=\"399.6338714608579\" y1=\"243.01385129935008\" x2=\"399.51200211745277\" y2=\"242.02130514770874\" stroke-linecap=\"round\" style=\"stroke:white;stroke-width:4\"/><line x1=\"399.51200211745277\" y1=\"242.02130514770874\" x2=\"399.3728290164927\" y2=\"241.0310370789672\" stroke-linecap=\"round\" style=\"stroke:white;stroke-width:4\"/><line x1=\"399.3728290164927\" y1=\"241.0310370789672\" x2=\"399.2163945514525\" y2=\"240.04334873837206\" stroke-linecap=\"round\" style=\"stroke:white;stroke-width:4\"/><line x1=\"399.2163945514525\" y1=\"240.04334873837206\" x2=\"399.0427463737856\" y2=\"239.05854098535985\" stroke-linecap=\"round\" style=\"stroke:white;stroke-width:4\"/><line x1=\"399.0427463737856\" y1=\"239.05854098535985\" x2=\"398.85193737840905\" y2=\"238.07691380191218\" stroke-linecap=\"round\" style=\"stroke:white;stroke-width:4\"/><line x1=\"398.85193737840905\" y1=\"238.07691380191218\" x2=\"398.6440256875913\" y2=\"237.0987662011784\" stroke-linecap=\"round\" style=\"stroke:white;stroke-width:4\"/><line x1=\"398.6440256875913\" y1=\"237.0987662011784\" x2=\"398.4190746332474\" y2=\"236.12439613639316\" stroke-linecap=\"round\" style=\"stroke:white;stroke-width:4\"/><line x1=\"398.4190746332474\" y1=\"236.12439613639316\" x2=\"398.17715273764776\" y2=\"235.15410041011717\" stroke-linecap=\"round\" style=\"stroke:white;stroke-width:4\"/><line x1=\"398.17715273764776\" y1=\"235.15410041011717\" x2=\"397.9183336925452\" y2=\"234.1881745838281\" stroke-linecap=\"round\" style=\"stroke:white;stroke-width:4\"/><line x1=\"397.9183336925452\" y1=\"234.1881745838281\" x2=\"397.6426963367282\" y2=\"233.22691288788977\" stroke-linecap=\"round\" style=\"stroke:white;stroke-width:4\"/><line x1=\"397.6426963367282\" y1=\"233.22691288788977\" x2=\"397.3503246320055\" y2=\"232.27060813192674\" stroke-linecap=\"round\" style=\"stroke:white;stroke-width:4\"/><line x1=\"397.3503246320055\" y1=\"232.27060813192674\" x2=\"397.04130763763055\" y2=\"231.31955161563158\" stroke-linecap=\"round\" style=\"stroke:white;stroke-width:4\"/><line x1=\"397.04130763763055\" y1=\"231.31955161563158\" x2=\"396.7157394831734\" y2=\"230.37403304003226\" stroke-linecap=\"round\" style=\"stroke:white;stroke-width:4\"/><line x1=\"396.7157394831734\" y1=\"230.37403304003226\" x2=\"396.37371933984775\" y2=\"229.43434041924635\" stroke-linecap=\"round\" style=\"stroke:white;stroke-width:4\"/><line x1=\"396.37371933984775\" y1=\"229.43434041924635\" x2=\"396.01535139030244\" y2=\"228.50075999274915\" stroke-linecap=\"round\" style=\"stroke:white;stroke-width:4\"/><line x1=\"396.01535139030244\" y1=\"228.50075999274915\" x2=\"395.6407447968865\" y2=\"227.57357613818237\" stroke-linecap=\"round\" style=\"stroke:white;stroke-width:4\"/><line x1=\"395.6407447968865\" y1=\"227.57357613818237\" x2=\"395.25001366839723\" y2=\"226.65307128472995\" stroke-linecap=\"round\" style=\"stroke:white;stroke-width:4\"/><line x1=\"395.25001366839723\" y1=\"226.65307128472995\" x2=\"394.8432770253214\" y2=\"225.73952582708733\" stroke-linecap=\"round\" style=\"stroke:white;stroke-width:4\"/><line x1=\"394.8432770253214\" y1=\"225.73952582708733\" x2=\"394.4206587635807\" y2=\"224.8332180400507\" stroke-linecap=\"round\" style=\"stroke:white;stroke-width:4\"/><line x1=\"394.4206587635807\" y1=\"224.8332180400507\" x2=\"393.98228761679167\" y2=\"223.93442399375152\" stroke-linecap=\"round\" style=\"stroke:white;stroke-width:4\"/><line x1=\"393.98228761679167\" y1=\"223.93442399375152\" x2=\"393.5282971170521\" y2=\"223.04341746956317\" stroke-linecap=\"round\" style=\"stroke:white;stroke-width:4\"/><line x1=\"393.5282971170521\" y1=\"223.04341746956317\" x2=\"393.0588255542662\" y2=\"222.16046987670424\" stroke-linecap=\"round\" style=\"stroke:white;stroke-width:4\"/><line x1=\"393.0588255542662\" y1=\"222.16046987670424\" x2=\"392.5740159340199\" y2=\"221.28585016956484\" stroke-linecap=\"round\" style=\"stroke:white;stroke-width:4\"/><line x1=\"392.5740159340199\" y1=\"221.28585016956484\" x2=\"392.0740159340199\" y2=\"220.4198247657804\" stroke-linecap=\"round\" style=\"stroke:white;stroke-width:4\"/><line x1=\"392.0740159340199\" y1=\"220.4198247657804\" x2=\"391.5589778591098\" y2=\"219.56265746507827\" stroke-linecap=\"round\" style=\"stroke:white;stroke-width:4\"/><line x1=\"391.5589778591098\" y1=\"219.56265746507827\" x2=\"391.0290585948766\" y2=\"218.71460936892186\" stroke-linecap=\"round\" style=\"stroke:white;stroke-width:4\"/><line x1=\"391.0290585948766\" y1=\"218.71460936892186\" x2=\"390.4844195598615\" y2=\"217.87593880097643\" stroke-linecap=\"round\" style=\"stroke:white;stroke-width:4\"/><line x1=\"390.4844195598615\" y1=\"217.87593880097643\" x2=\"389.92522665639075\" y2=\"217.04690122842138\" stroke-linecap=\"round\" style=\"stroke:white;stroke-width:4\"/><line x1=\"389.92522665639075\" y1=\"217.04690122842138\" x2=\"389.3516502200397\" y2=\"216.2277491841324\" stroke-linecap=\"round\" style=\"stroke:white;stroke-width:4\"/><line x1=\"389.3516502200397\" y1=\"216.2277491841324\" x2=\"388.7638649677472\" y2=\"215.41873218975743\" stroke-linecap=\"round\" style=\"stroke:white;stroke-width:4\"/><line x1=\"388.7638649677472\" y1=\"215.41873218975743\" x2=\"388.1620499445952\" y2=\"214.62009667971014\" stroke-linecap=\"round\" style=\"stroke:white;stroke-width:4\"/><line x1=\"388.1620499445952\" y1=\"214.62009667971014\" x2=\"387.5463884692695\" y2=\"213.83208592610342\" stroke-linecap=\"round\" style=\"stroke:white;stroke-width:4\"/><line x1=\"387.5463884692695\" y1=\"213.83208592610342\" x2=\"386.9170680782197\" y2=\"213.05493996464645\" stroke-linecap=\"round\" style=\"stroke:white;stroke-width:4\"/><line x1=\"386.9170680782197\" y1=\"213.05493996464645\" x2=\"386.27428046853316\" y2=\"212.28889552152748\" stroke-linecap=\"round\" style=\"stroke:white;stroke-width:4\"/><line x1=\"386.27428046853316\" y1=\"212.28889552152748\" x2=\"385.61822143954265\" y2=\"211.5341859413047\" stroke-linecap=\"round\" style=\"stroke:white;stroke-width:4\"/><line x1=\"385.61822143954265\" y1=\"211.5341859413047\" x2=\"384.9490908331838\" y2=\"210.7910411158273\" stroke-linecap=\"round\" style=\"stroke:white;stroke-width:4\"/><line x1=\"384.9490908331838\" y1=\"210.7910411158273\" x2=\"384.2670924731213\" y2=\"210.05968741420813\" stroke-linecap=\"round\" style=\"stroke:white;stroke-width:4\"/><line x1=\"384.2670924731213\" y1=\"210.05968741420813\" x2=\"383.57243410266227\" y2=\"209.34034761386948\" stroke-linecap=\"round\" style=\"stroke:white;stroke-width:4\"/><line x1=\"383.57243410266227\" y1=\"209.34034761386948\" x2=\"382.8653273214757\" y2=\"208.63324083268293\" stroke-linecap=\"round\" style=\"stroke:white;stroke-width:4\"/><line x1=\"382.8653273214757\" y1=\"208.63324083268293\" x2=\"382.14598752113704\" y2=\"207.93858246222393\" stroke-linecap=\"round\" style=\"stroke:white;stroke-width:4\"/><line x1=\"382.14598752113704\" y1=\"207.93858246222393\" x2=\"381.41463381951786\" y2=\"207.25658410216144\" stroke-linecap=\"round\" style=\"stroke:white;stroke-width:4\"/><line x1=\"381.41463381951786\" y1=\"207.25658410216144\" x2=\"380.6714889940405\" y2=\"206.58745349580258\" stroke-linecap=\"round\" style=\"stroke:white;stroke-width:4\"/><line x1=\"380.6714889940405\" y1=\"206.58745349580258\" x2=\"379.9167794138177\" y2=\"205.93139446681207\" stroke-linecap=\"round\" style=\"stroke:white;stroke-width:4\"/><line x1=\"379.9167794138177\" y1=\"205.93139446681207\" x2=\"379.15073497069875\" y2=\"205.28860685712553\" stroke-linecap=\"round\" style=\"stroke:white;stroke-width:4\"/><line x1=\"379.15073497069875\" y1=\"205.28860685712553\" x2=\"378.37358900924175\" y2=\"204.65928646607568\" stroke-linecap=\"round\" style=\"stroke:white;stroke-width:4\"/><line x1=\"378.37358900924175\" y1=\"204.65928646607568\" x2=\"377.585578255635\" y2=\"204.04362499075003\" stroke-linecap=\"round\" style=\"stroke:white;stroke-width:4\"/><line x1=\"377.585578255635\" y1=\"204.04362499075003\" x2=\"376.78694274558774\" y2=\"203.44180996759798\" stroke-linecap=\"round\" style=\"stroke:white;stroke-width:4\"/><line x1=\"376.78694274558774\" y1=\"203.44180996759798\" x2=\"375.9779257512128\" y2=\"202.8540247153055\" stroke-linecap=\"round\" style=\"stroke:white;stroke-width:4\"/><line x1=\"375.9779257512128\" y1=\"202.8540247153055\" x2=\"375.1587737069238\" y2=\"202.28044827895448\" stroke-linecap=\"round\" style=\"stroke:white;stroke-width:4\"/><line x1=\"375.1587737069238\" y1=\"202.28044827895448\" x2=\"374.3297361343688\" y2=\"201.72125537548374\" stroke-linecap=\"round\" style=\"stroke:white;stroke-width:4\"/><line x1=\"374.3297361343688\" y1=\"201.72125537548374\" x2=\"373.49106556642334\" y2=\"201.1766163404687\" stroke-linecap=\"round\" style=\"stroke:white;stroke-width:4\"/><line x1=\"373.49106556642334\" y1=\"201.1766163404687\" x2=\"372.6430174702669\" y2=\"200.6466970762355\" stroke-linecap=\"round\" style=\"stroke:white;stroke-width:4\"/><line x1=\"372.6430174702669\" y1=\"200.6466970762355\" x2=\"371.7858501695648\" y2=\"200.13165900132546\" stroke-linecap=\"round\" style=\"stroke:white;stroke-width:4\"/><line x1=\"371.7858501695648\" y1=\"200.13165900132546\" x2=\"370.9198247657804\" y2=\"199.63165900132546\" stroke-linecap=\"round\" style=\"stroke:white;stroke-width:4\"/><line x1=\"370.9198247657804\" y1=\"199.63165900132546\" x2=\"370.045205058641\" y2=\"199.14684938107914\" stroke-linecap=\"round\" style=\"stroke:white;stroke-width:4\"/><line x1=\"370.045205058641\" y1=\"199.14684938107914\" x2=\"369.16225746578203\" y2=\"198.67737781829325\" stroke-linecap=\"round\" style=\"stroke:white;stroke-width:4\"/><line x1=\"369.16225746578203\" y1=\"198.67737781829325\" x2=\"368.2712509415937\" y2=\"198.2233873185537\" stroke-linecap=\"round\" style=\"stroke:white;stroke-width:4\"/><line x1=\"368.2712509415937\" y1=\"198.2233873185537\" x2=\"367.37245689529453\" y2=\"197.78501617176462\" stroke-linecap=\"round\" style=\"stroke:white;stroke-width:4\"/><line x1=\"367.37245689529453\" y1=\"197.78501617176462\" x2=\"366.46614910825787\" y2=\"197.36239791002393\" stroke-linecap=\"round\" style=\"stroke:white;stroke-width:4\"/><line x1=\"366.46614910825787\" y1=\"197.36239791002393\" x2=\"365.55260365061525\" y2=\"196.95566126694814\" stroke-linecap=\"round\" style=\"stroke:white;stroke-width:4\"/><line x1=\"365.55260365061525\" y1=\"196.95566126694814\" x2=\"364.6320987971628\" y2=\"196.56493013845886\" stroke-linecap=\"round\" style=\"stroke:white;stroke-width:4\"/><line x1=\"364.6320987971628\" y1=\"196.56493013845886\" x2=\"363.704914942596\" y2=\"196.19032354504296\" stroke-linecap=\"round\" style=\"stroke:white;stroke-width:4\"/><line x1=\"363.704914942596\" y1=\"196.19032354504296\" x2=\"362.7713345160988\" y2=\"195.83195559549765\" stroke-linecap=\"round\" style=\"stroke:white;stroke-width:4\"/><line x1=\"362.7713345160988\" y1=\"195.83195559549765\" x2=\"361.8316418953129\" y2=\"195.48993545217198\" stroke-linecap=\"round\" style=\"stroke:white;stroke-width:4\"/><line x1=\"361.8316418953129\" y1=\"195.48993545217198\" x2=\"360.8861233197136\" y2=\"195.16436729771482\" stroke-linecap=\"round\" style=\"stroke:white;stroke-width:4\"/><line x1=\"360.8861233197136\" y1=\"195.16436729771482\" x2=\"359.9350668034184\" y2=\"194.85535030333986\" stroke-linecap=\"round\" style=\"stroke:white;stroke-width:4\"/><line x1=\"359.9350668034184\" y1=\"194.85535030333986\" x2=\"358.97876204745535\" y2=\"194.56297859861712\" stroke-linecap=\"round\" style=\"stroke:white;stroke-width:4\"/><line x1=\"358.97876204745535\" y1=\"194.56297859861712\" x2=\"358.017500351517\" y2=\"194.28734124280012\" stroke-linecap=\"round\" style=\"stroke:white;stroke-width:4\"/><line x1=\"358.017500351517\" y1=\"194.28734124280012\" x2=\"357.0515745252279\" y2=\"194.0285221976976\" stroke-linecap=\"round\" style=\"stroke:white;stroke-width:4\"/><line x1=\"357.0515745252279\" y1=\"194.0285221976976\" x2=\"356.0812787989519\" y2=\"193.78660030209795\" stroke-linecap=\"round\" style=\"stroke:white;stroke-width:4\"/><line x1=\"356.0812787989519\" y1=\"193.78660030209795\" x2=\"355.10690873416667\" y2=\"193.56164924775408\" stroke-linecap=\"round\" style=\"stroke:white;stroke-width:4\"/><line x1=\"355.10690873416667\" y1=\"193.56164924775408\" x2=\"354.1287611334329\" y2=\"193.35373755693632\" stroke-linecap=\"round\" style=\"stroke:white;stroke-width:4\"/><line x1=\"354.1287611334329\" y1=\"193.35373755693632\" x2=\"353.14713394998523\" y2=\"193.16292856155977\" stroke-linecap=\"round\" style=\"stroke:white;stroke-width:4\"/><line x1=\"353.14713394998523\" y1=\"193.16292856155977\" x2=\"352.162326196973\" y2=\"192.98928038389283\" stroke-linecap=\"round\" style=\"stroke:white;stroke-width:4\"/><line x1=\"352.162326196973\" y1=\"192.98928038389283\" x2=\"351.1746378563779\" y2=\"192.8328459188526\" stroke-linecap=\"round\" style=\"stroke:white;stroke-width:4\"/><line x1=\"351.1746378563779\" y1=\"192.8328459188526\" x2=\"350.18436978763634\" y2=\"192.69367281789252\" stroke-linecap=\"round\" style=\"stroke:white;stroke-width:4\"/><line x1=\"350.18436978763634\" y1=\"192.69367281789252\" x2=\"349.19182363599504\" y2=\"192.57180347448738\" stroke-linecap=\"round\" style=\"stroke:white;stroke-width:4\"/><line x1=\"349.19182363599504\" y1=\"192.57180347448738\" x2=\"348.19730174062676\" y2=\"192.46727501121973\" stroke-linecap=\"round\" style=\"stroke:white;stroke-width:4\"/><line x1=\"348.19730174062676\" y1=\"192.46727501121973\" x2=\"347.201107042535\" y2=\"192.38011926847207\" stroke-linecap=\"round\" style=\"stroke:white;stroke-width:4\"/><line x1=\"347.201107042535\" y1=\"192.38011926847207\" x2=\"346.2035429922752\" y2=\"192.31036279472795\" stroke-linecap=\"round\" style=\"stroke:white;stroke-width:4\"/><line x1=\"346.2035429922752\" y1=\"192.31036279472795\" x2=\"345.2049134575206\" y2=\"192.258026838485\" stroke-linecap=\"round\" style=\"stroke:white;stroke-width:4\"/><line x1=\"345.2049134575206\" y1=\"192.258026838485\" x2=\"344.2055226305015\" y2=\"192.2231273417825\" stroke-linecap=\"round\" style=\"stroke:white;stroke-width:4\"/><line x1=\"344.2055226305015\" y1=\"192.2231273417825\" x2=\"343.2056749353451\" y2=\"192.2056749353452\" stroke-linecap=\"round\" style=\"stroke:white;stroke-width:4\"/><line x1=\"343.2056749353451\" y1=\"192.2056749353452\" x2=\"342.2056749353451\" y2=\"192.2056749353452\" stroke-linecap=\"round\" style=\"stroke:white;stroke-width:4\"/><line x1=\"342.2056749353451\" y1=\"192.2056749353452\" x2=\"341.2058272401887\" y2=\"192.2231273417825\" stroke-linecap=\"round\" style=\"stroke:white;stroke-width:4\"/><line x1=\"341.2058272401887\" y1=\"192.2231273417825\" x2=\"340.20643641316957\" y2=\"192.258026838485\" stroke-linecap=\"round\" style=\"stroke:white;stroke-width:4\"/><line x1=\"340.20643641316957\" y1=\"192.258026838485\" x2=\"339.207806878415\" y2=\"192.31036279472795\" stroke-linecap=\"round\" style=\"stroke:white;stroke-width:4\"/><line x1=\"339.207806878415\" y1=\"192.31036279472795\" x2=\"338.2102428281552\" y2=\"192.38011926847207\" stroke-linecap=\"round\" style=\"stroke:white;stroke-width:4\"/><line x1=\"338.2102428281552\" y1=\"192.38011926847207\" x2=\"337.2140481300634\" y2=\"192.46727501121973\" stroke-linecap=\"round\" style=\"stroke:white;stroke-width:4\"/><line x1=\"337.2140481300634\" y1=\"192.46727501121973\" x2=\"336.21952623469514\" y2=\"192.57180347448738\" stroke-linecap=\"round\" style=\"stroke:white;stroke-width:4\"/><line x1=\"336.21952623469514\" y1=\"192.57180347448738\" x2=\"335.22698008305383\" y2=\"192.69367281789252\" stroke-linecap=\"round\" style=\"stroke:white;stroke-width:4\"/><line x1=\"335.22698008305383\" y1=\"192.69367281789252\" x2=\"334.2367120143123\" y2=\"192.8328459188526\" stroke-linecap=\"round\" style=\"stroke:white;stroke-width:4\"/><line x1=\"334.2367120143123\" y1=\"192.8328459188526\" x2=\"333.24902367371715\" y2=\"192.98928038389283\" stroke-linecap=\"round\" style=\"stroke:white;stroke-width:4\"/><line x1=\"333.24902367371715\" y1=\"192.98928038389283\" x2=\"332.26421592070494\" y2=\"193.16292856155977\" stroke-linecap=\"round\" style=\"stroke:white;stroke-width:4\"/><line x1=\"332.26421592070494\" y1=\"193.16292856155977\" x2=\"331.2825887372573\" y2=\"193.35373755693632\" stroke-linecap=\"round\" style=\"stroke:white;stroke-width:4\"/><line x1=\"331.2825887372573\" y1=\"193.35373755693632\" x2=\"330.3044411365235\" y2=\"193.56164924775408\" stroke-linecap=\"round\" style=\"stroke:white;stroke-width:4\"/><line x1=\"330.3044411365235\" y1=\"193.56164924775408\" x2=\"329.33007107173825\" y2=\"193.78660030209795\" stroke-linecap=\"round\" style=\"stroke:white;stroke-width:4\"/><line x1=\"329.33007107173825\" y1=\"193.78660030209795\" x2=\"328.35977534546225\" y2=\"194.0285221976976\" stroke-linecap=\"round\" style=\"stroke:white;stroke-width:4\"/><line x1=\"328.35977534546225\" y1=\"194.0285221976976\" x2=\"327.39384951917316\" y2=\"194.28734124280012\" stroke-linecap=\"round\" style=\"stroke:white;stroke-width:4\"/><line x1=\"327.39384951917316\" y1=\"194.28734124280012\" x2=\"326.4325878232348\" y2=\"194.56297859861712\" stroke-linecap=\"round\" style=\"stroke:white;stroke-width:4\"/><line x1=\"326.4325878232348\" y1=\"194.56297859861712\" x2=\"325.47628306727177\" y2=\"194.85535030333986\" stroke-linecap=\"round\" style=\"stroke:white;stroke-width:4\"/><line x1=\"325.47628306727177\" y1=\"194.85535030333986\" x2=\"324.52522655097664\" y2=\"195.16436729771482\" stroke-linecap=\"round\" style=\"stroke:white;stroke-width:4\"/><line x1=\"324.52522655097664\" y1=\"195.16436729771482\" x2=\"323.57970797537735\" y2=\"195.48993545217198\" stroke-linecap=\"round\" style=\"stroke:white;stroke-width:4\"/><line x1=\"323.57970797537735\" y1=\"195.48993545217198\" x2=\"322.6400153545914\" y2=\"195.83195559549765\" stroke-linecap=\"round\" style=\"stroke:white;stroke-width:4\"/><line x1=\"322.6400153545914\" y1=\"195.83195559549765\" x2=\"321.7064349280942\" y2=\"196.19032354504296\" stroke-linecap=\"round\" style=\"stroke:white;stroke-width:4\"/><line x1=\"321.7064349280942\" y1=\"196.19032354504296\" x2=\"320.7792510735274\" y2=\"196.56493013845886\" stroke-linecap=\"round\" style=\"stroke:white;stroke-width:4\"/><line x1=\"320.7792510735274\" y1=\"196.56493013845886\" x2=\"319.858746220075\" y2=\"196.95566126694814\" stroke-linecap=\"round\" style=\"stroke:white;stroke-width:4\"/><line x1=\"319.858746220075\" y1=\"196.95566126694814\" x2=\"318.94520076243236\" y2=\"197.36239791002393\" stroke-linecap=\"round\" style=\"stroke:white;stroke-width:4\"/><line x1=\"318.94520076243236\" y1=\"197.36239791002393\" x2=\"318.0388929753957\" y2=\"197.78501617176462\" stroke-linecap=\"round\" style=\"stroke:white;stroke-width:4\"/><line x1=\"318.0388929753957\" y1=\"197.78501617176462\" x2=\"317.14009892909655\" y2=\"198.2233873185537\" stroke-linecap=\"round\" style=\"stroke:white;stroke-width:4\"/><line x1=\"317.14009892909655\" y1=\"198.2233873185537\" x2=\"316.2490924049082\" y2=\"198.67737781829325\" stroke-linecap=\"round\" style=\"stroke:white;stroke-width:4\"/><line x1=\"316.2490924049082\" y1=\"198.67737781829325\" x2=\"315.36614481204924\" y2=\"199.14684938107914\" stroke-linecap=\"round\" style=\"stroke:white;stroke-width:4\"/><line x1=\"315.36614481204924\" y1=\"199.14684938107914\" x2=\"314.49152510490984\" y2=\"199.63165900132546\" stroke-linecap=\"round\" style=\"stroke:white;stroke-width:4\"/><line x1=\"314.49152510490984\" y1=\"199.63165900132546\" x2=\"313.6254997011254\" y2=\"200.13165900132546\" stroke-linecap=\"round\" style=\"stroke:white;stroke-width:4\"/><line x1=\"313.6254997011254\" y1=\"200.13165900132546\" x2=\"312.76833240042333\" y2=\"200.6466970762355\" stroke-linecap=\"round\" style=\"stroke:white;stroke-width:4\"/><line x1=\"312.76833240042333\" y1=\"200.6466970762355\" x2=\"311.9202843042669\" y2=\"201.1766163404687\" stroke-linecap=\"round\" style=\"stroke:white;stroke-width:4\"/><line x1=\"311.9202843042669\" y1=\"201.1766163404687\" x2=\"311.08161373632146\" y2=\"201.72125537548374\" stroke-linecap=\"round\" style=\"stroke:white;stroke-width:4\"/><line x1=\"311.08161373632146\" y1=\"201.72125537548374\" x2=\"310.25257616376643\" y2=\"202.28044827895448\" stroke-linecap=\"round\" style=\"stroke:white;stroke-width:4\"/><line x1=\"310.25257616376643\" y1=\"202.28044827895448\" x2=\"309.4334241194774\" y2=\"202.8540247153055\" stroke-linecap=\"round\" style=\"stroke:white;stroke-width:4\"/><line x1=\"309.4334241194774\" y1=\"202.8540247153055\" x2=\"308.6244071251025\" y2=\"203.44180996759798\" stroke-linecap=\"round\" style=\"stroke:white;stroke-width:4\"/><line x1=\"308.6244071251025\" y1=\"203.44180996759798\" x2=\"307.8257716150552\" y2=\"204.04362499075003\" stroke-linecap=\"round\" style=\"stroke:white;stroke-width:4\"/><line x1=\"307.8257716150552\" y1=\"204.04362499075003\" x2=\"307.0377608614485\" y2=\"204.65928646607568\" stroke-linecap=\"round\" style=\"stroke:white;stroke-width:4\"/><line x1=\"307.0377608614485\" y1=\"204.65928646607568\" x2=\"306.2606148999915\" y2=\"205.28860685712553\" stroke-linecap=\"round\" style=\"stroke:white;stroke-width:4\"/><line x1=\"306.2606148999915\" y1=\"205.28860685712553\" x2=\"305.4945704568725\" y2=\"205.93139446681207\" stroke-linecap=\"round\" style=\"stroke:white;stroke-width:4\"/><line x1=\"305.4945704568725\" y1=\"205.93139446681207\" x2=\"304.73986087664974\" y2=\"206.58745349580258\" stroke-linecap=\"round\" style=\"stroke:white;stroke-width:4\"/><line x1=\"304.73986087664974\" y1=\"206.58745349580258\" x2=\"303.99671605117237\" y2=\"207.25658410216144\" stroke-linecap=\"round\" style=\"stroke:white;stroke-width:4\"/><line x1=\"303.99671605117237\" y1=\"207.25658410216144\" x2=\"303.2653623495532\" y2=\"207.93858246222393\" stroke-linecap=\"round\" style=\"stroke:white;stroke-width:4\"/><line x1=\"303.2653623495532\" y1=\"207.93858246222393\" x2=\"302.5460225492145\" y2=\"208.63324083268293\" stroke-linecap=\"round\" style=\"stroke:white;stroke-width:4\"/><line x1=\"302.5460225492145\" y1=\"208.63324083268293\" x2=\"301.83891576802796\" y2=\"209.34034761386948\" stroke-linecap=\"round\" style=\"stroke:white;stroke-width:4\"/><line x1=\"301.83891576802796\" y1=\"209.34034761386948\" x2=\"301.14425739756894\" y2=\"210.05968741420813\" stroke-linecap=\"round\" style=\"stroke:white;stroke-width:4\"/><line x1=\"301.14425739756894\" y1=\"210.05968741420813\" x2=\"300.46225903750644\" y2=\"210.7910411158273\" stroke-linecap=\"round\" style=\"stroke:white;stroke-width:4\"/><line x1=\"300.46225903750644\" y1=\"210.7910411158273\" x2=\"299.7931284311476\" y2=\"211.5341859413047\" stroke-linecap=\"round\" style=\"stroke:white;stroke-width:4\"/><line x1=\"299.7931284311476\" y1=\"211.5341859413047\" x2=\"299.13706940215707\" y2=\"212.28889552152748\" stroke-linecap=\"round\" style=\"stroke:white;stroke-width:4\"/><line x1=\"299.13706940215707\" y1=\"212.28889552152748\" x2=\"298.49428179247053\" y2=\"213.05493996464645\" stroke-linecap=\"round\" style=\"stroke:white;stroke-width:4\"/><line x1=\"298.49428179247053\" y1=\"213.05493996464645\" x2=\"297.8649614014207\" y2=\"213.83208592610342\" stroke-linecap=\"round\" style=\"stroke:white;stroke-width:4\"/><line x1=\"297.8649614014207\" y1=\"213.83208592610342\" x2=\"297.24929992609503\" y2=\"214.62009667971014\" stroke-linecap=\"round\" style=\"stroke:white;stroke-width:4\"/><line x1=\"297.24929992609503\" y1=\"214.62009667971014\" x2=\"296.647484902943\" y2=\"215.41873218975743\" stroke-linecap=\"round\" style=\"stroke:white;stroke-width:4\"/><line x1=\"296.647484902943\" y1=\"215.41873218975743\" x2=\"296.05969965065054\" y2=\"216.2277491841324\" stroke-linecap=\"round\" style=\"stroke:white;stroke-width:4\"/><line x1=\"296.05969965065054\" y1=\"216.2277491841324\" x2=\"295.4861232142995\" y2=\"217.04690122842138\" stroke-linecap=\"round\" style=\"stroke:white;stroke-width:4\"/><line x1=\"295.4861232142995\" y1=\"217.04690122842138\" x2=\"294.9269303108287\" y2=\"217.87593880097643\" stroke-linecap=\"round\" style=\"stroke:white;stroke-width:4\"/><line x1=\"294.9269303108287\" y1=\"217.87593880097643\" x2=\"294.38229127581366\" y2=\"218.71460936892186\" stroke-linecap=\"round\" style=\"stroke:white;stroke-width:4\"/><line x1=\"294.38229127581366\" y1=\"218.71460936892186\" x2=\"293.8523720115804\" y2=\"219.56265746507827\" stroke-linecap=\"round\" style=\"stroke:white;stroke-width:4\"/><line x1=\"293.8523720115804\" y1=\"219.56265746507827\" x2=\"293.33733393667035\" y2=\"220.4198247657804\" stroke-linecap=\"round\" style=\"stroke:white;stroke-width:4\"/><line x1=\"293.33733393667035\" y1=\"220.4198247657804\" x2=\"292.83733393667035\" y2=\"221.28585016956484\" stroke-linecap=\"round\" style=\"stroke:white;stroke-width:4\"/><line x1=\"292.83733393667035\" y1=\"221.28585016956484\" x2=\"292.352524316424\" y2=\"222.16046987670424\" stroke-linecap=\"round\" style=\"stroke:white;stroke-width:4\"/><line x1=\"292.352524316424\" y1=\"222.16046987670424\" x2=\"291.88305275363814\" y2=\"223.04341746956317\" stroke-linecap=\"round\" style=\"stroke:white;stroke-width:4\"/><line x1=\"291.88305275363814\" y1=\"223.04341746956317\" x2=\"291.4290622538986\" y2=\"223.93442399375152\" stroke-linecap=\"round\" style=\"stroke:white;stroke-width:4\"/><line x1=\"291.4290622538986\" y1=\"223.93442399375152\" x2=\"290.99069110710957\" y2=\"224.8332180400507\" stroke-linecap=\"round\" style=\"stroke:white;stroke-width:4\"/><line x1=\"290.99069110710957\" y1=\"224.8332180400507\" x2=\"290.5680728453689\" y2=\"225.73952582708733\" stroke-linecap=\"round\" style=\"stroke:white;stroke-width:4\"/><line x1=\"290.5680728453689\" y1=\"225.73952582708733\" x2=\"290.16133620229306\" y2=\"226.65307128472995\" stroke-linecap=\"round\" style=\"stroke:white;stroke-width:4\"/><line x1=\"290.16133620229306\" y1=\"226.65307128472995\" x2=\"289.7706050738038\" y2=\"227.57357613818237\" stroke-linecap=\"round\" style=\"stroke:white;stroke-width:4\"/><line x1=\"289.7706050738038\" y1=\"227.57357613818237\" x2=\"289.39599848038785\" y2=\"228.50075999274915\" stroke-linecap=\"round\" style=\"stroke:white;stroke-width:4\"/><line x1=\"289.39599848038785\" y1=\"228.50075999274915\" x2=\"289.03763053084253\" y2=\"229.43434041924635\" stroke-linecap=\"round\" style=\"stroke:white;stroke-width:4\"/><line x1=\"289.03763053084253\" y1=\"229.43434041924635\" x2=\"288.69561038751687\" y2=\"230.37403304003226\" stroke-linecap=\"round\" style=\"stroke:white;stroke-width:4\"/><line x1=\"288.69561038751687\" y1=\"230.37403304003226\" x2=\"288.37004223305973\" y2=\"231.31955161563158\" stroke-linecap=\"round\" style=\"stroke:white;stroke-width:4\"/><line x1=\"288.37004223305973\" y1=\"231.31955161563158\" x2=\"288.0610252386848\" y2=\"232.27060813192674\" stroke-linecap=\"round\" style=\"stroke:white;stroke-width:4\"/><line x1=\"288.0610252386848\" y1=\"232.27060813192674\" x2=\"287.7686535339621\" y2=\"233.22691288788977\" stroke-linecap=\"round\" style=\"stroke:white;stroke-width:4\"/><line x1=\"287.7686535339621\" y1=\"233.22691288788977\" x2=\"287.49301617814507\" y2=\"234.18817458382807\" stroke-linecap=\"round\" style=\"stroke:white;stroke-width:4\"/><line x1=\"287.49301617814507\" y1=\"234.18817458382807\" x2=\"287.2341971330425\" y2=\"235.15410041011714\" stroke-linecap=\"round\" style=\"stroke:white;stroke-width:4\"/><line x1=\"287.2341971330425\" y1=\"235.15410041011714\" x2=\"286.99227523744287\" y2=\"236.12439613639313\" stroke-linecap=\"round\" style=\"stroke:white;stroke-width:4\"/><line x1=\"286.99227523744287\" y1=\"236.12439613639313\" x2=\"286.767324183099\" y2=\"237.09876620117836\" stroke-linecap=\"round\" style=\"stroke:white;stroke-width:4\"/><line x1=\"286.767324183099\" y1=\"237.09876620117836\" x2=\"286.55941249228124\" y2=\"238.07691380191216\" stroke-linecap=\"round\" style=\"stroke:white;stroke-width:4\"/><line x1=\"286.55941249228124\" y1=\"238.07691380191216\" x2=\"286.3686034969047\" y2=\"239.05854098535983\" stroke-linecap=\"round\" style=\"stroke:white;stroke-width:4\"/><line x1=\"286.3686034969047\" y1=\"239.05854098535983\" x2=\"286.1949553192378\" y2=\"240.04334873837203\" stroke-linecap=\"round\" style=\"stroke:white;stroke-width:4\"/><line x1=\"286.1949553192378\" y1=\"240.04334873837203\" x2=\"286.0385208541976\" y2=\"241.03103707896716\" stroke-linecap=\"round\" style=\"stroke:white;stroke-width:4\"/><line x1=\"286.0385208541976\" y1=\"241.03103707896716\" x2=\"285.8993477532375\" y2=\"242.02130514770872\" stroke-linecap=\"round\" style=\"stroke:white;stroke-width:4\"/><line x1=\"285.8993477532375\" y1=\"242.02130514770872\" x2=\"285.7774784098324\" y2=\"243.01385129935005\" stroke-linecap=\"round\" style=\"stroke:white;stroke-width:4\"/><line x1=\"285.7774784098324\" y1=\"243.01385129935005\" x2=\"285.67294994656476\" y2=\"244.00837319471833\" stroke-linecap=\"round\" style=\"stroke:white;stroke-width:4\"/><line x1=\"285.67294994656476\" y1=\"244.00837319471833\" x2=\"285.5857942038171\" y2=\"245.0045678928101\" stroke-linecap=\"round\" style=\"stroke:white;stroke-width:4\"/><line x1=\"285.5857942038171\" y1=\"245.0045678928101\" x2=\"285.516037730073\" y2=\"246.0021319430699\" stroke-linecap=\"round\" style=\"stroke:white;stroke-width:4\"/><line x1=\"285.516037730073\" y1=\"246.0021319430699\" x2=\"285.46370177383005\" y2=\"247.00076147782448\" stroke-linecap=\"round\" style=\"stroke:white;stroke-width:4\"/><line x1=\"285.46370177383005\" y1=\"247.00076147782448\" x2=\"285.42880227712755\" y2=\"248.00015230484357\" stroke-linecap=\"round\" style=\"stroke:white;stroke-width:4\"/><line x1=\"285.42880227712755\" y1=\"248.00015230484357\" x2=\"285.4113498706903\" y2=\"248.99999999999997\" stroke-linecap=\"round\" style=\"stroke:white;stroke-width:4\"/><line x1=\"285.4113498706903\" y1=\"248.99999999999997\" x2=\"285.4113498706903\" y2=\"249.99999999999997\" stroke-linecap=\"round\" style=\"stroke:white;stroke-width:4\"/><line x1=\"285.4113498706903\" y1=\"249.99999999999997\" x2=\"285.42880227712755\" y2=\"250.99984769515638\" stroke-linecap=\"round\" style=\"stroke:white;stroke-width:4\"/><line x1=\"285.42880227712755\" y1=\"250.99984769515638\" x2=\"285.46370177383005\" y2=\"251.99923852217546\" stroke-linecap=\"round\" style=\"stroke:white;stroke-width:4\"/><line x1=\"285.46370177383005\" y1=\"251.99923852217546\" x2=\"285.516037730073\" y2=\"252.99786805693003\" stroke-linecap=\"round\" style=\"stroke:white;stroke-width:4\"/><line x1=\"285.516037730073\" y1=\"252.99786805693003\" x2=\"285.5857942038171\" y2=\"253.99543210718986\" stroke-linecap=\"round\" style=\"stroke:white;stroke-width:4\"/><line x1=\"285.5857942038171\" y1=\"253.99543210718986\" x2=\"285.67294994656476\" y2=\"254.9916268052816\" stroke-linecap=\"round\" style=\"stroke:white;stroke-width:4\"/><line x1=\"285.67294994656476\" y1=\"254.9916268052816\" x2=\"285.7774784098324\" y2=\"255.9861487006499\" stroke-linecap=\"round\" style=\"stroke:white;stroke-width:4\"/><line x1=\"285.7774784098324\" y1=\"255.9861487006499\" x2=\"285.8993477532375\" y2=\"256.9786948522912\" stroke-linecap=\"round\" style=\"stroke:white;stroke-width:4\"/><line x1=\"285.8993477532375\" y1=\"256.9786948522912\" x2=\"286.0385208541976\" y2=\"257.96896292103276\" stroke-linecap=\"round\" style=\"stroke:white;stroke-width:4\"/><line x1=\"286.0385208541976\" y1=\"257.96896292103276\" x2=\"286.1949553192378\" y2=\"258.9566512616279\" stroke-linecap=\"round\" style=\"stroke:white;stroke-width:4\"/><line x1=\"286.1949553192378\" y1=\"258.9566512616279\" x2=\"286.3686034969047\" y2=\"259.9414590146401\" stroke-linecap=\"round\" style=\"stroke:white;stroke-width:4\"/><line x1=\"286.3686034969047\" y1=\"259.9414590146401\" x2=\"286.55941249228124\" y2=\"260.92308619808773\" stroke-linecap=\"round\" style=\"stroke:white;stroke-width:4\"/><line x1=\"286.55941249228124\" y1=\"260.92308619808773\" x2=\"286.767324183099\" y2=\"261.9012337988215\" stroke-linecap=\"round\" style=\"stroke:white;stroke-width:4\"/><line x1=\"286.767324183099\" y1=\"261.9012337988215\" x2=\"286.99227523744287\" y2=\"262.8756038636068\" stroke-linecap=\"round\" style=\"stroke:white;stroke-width:4\"/><line x1=\"286.99227523744287\" y1=\"262.8756038636068\" x2=\"287.2341971330425\" y2=\"263.8458995898828\" stroke-linecap=\"round\" style=\"stroke:white;stroke-width:4\"/><line x1=\"287.2341971330425\" y1=\"263.8458995898828\" x2=\"287.49301617814507\" y2=\"264.81182541617187\" stroke-linecap=\"round\" style=\"stroke:white;stroke-width:4\"/><line x1=\"287.49301617814507\" y1=\"264.81182541617187\" x2=\"287.7686535339621\" y2=\"265.7730871121102\" stroke-linecap=\"round\" style=\"stroke:white;stroke-width:4\"/><line x1=\"287.7686535339621\" y1=\"265.7730871121102\" x2=\"288.0610252386848\" y2=\"266.72939186807326\" stroke-linecap=\"round\" style=\"stroke:white;stroke-width:4\"/><line x1=\"288.0610252386848\" y1=\"266.72939186807326\" x2=\"288.37004223305973\" y2=\"267.6804483843684\" stroke-linecap=\"round\" style=\"stroke:white;stroke-width:4\"/><line x1=\"288.37004223305973\" y1=\"267.6804483843684\" x2=\"288.69561038751687\" y2=\"268.6259669599677\" stroke-linecap=\"round\" style=\"stroke:white;stroke-width:4\"/><line x1=\"288.69561038751687\" y1=\"268.6259669599677\" x2=\"289.03763053084253\" y2=\"269.5656595807536\" stroke-linecap=\"round\" style=\"stroke:white;stroke-width:4\"/><line x1=\"289.03763053084253\" y1=\"269.5656595807536\" x2=\"289.39599848038785\" y2=\"270.4992400072508\" stroke-linecap=\"round\" style=\"stroke:white;stroke-width:4\"/><line x1=\"289.39599848038785\" y1=\"270.4992400072508\" x2=\"289.7706050738038\" y2=\"271.4264238618176\" stroke-linecap=\"round\" style=\"stroke:white;stroke-width:4\"/><line x1=\"289.7706050738038\" y1=\"271.4264238618176\" x2=\"290.16133620229306\" y2=\"272.34692871527005\" stroke-linecap=\"round\" style=\"stroke:white;stroke-width:4\"/><line x1=\"290.16133620229306\" y1=\"272.34692871527005\" x2=\"290.5680728453689\" y2=\"273.26047417291267\" stroke-linecap=\"round\" style=\"stroke:white;stroke-width:4\"/><line x1=\"290.5680728453689\" y1=\"273.26047417291267\" x2=\"290.99069110710957\" y2=\"274.16678195994933\" stroke-linecap=\"round\" style=\"stroke:white;stroke-width:4\"/><line x1=\"290.99069110710957\" y1=\"274.16678195994933\" x2=\"291.4290622538986\" y2=\"275.0655760062485\" stroke-linecap=\"round\" style=\"stroke:white;stroke-width:4\"/><line x1=\"291.4290622538986\" y1=\"275.0655760062485\" x2=\"291.8830527536382\" y2=\"275.95658253043683\" stroke-linecap=\"round\" style=\"stroke:white;stroke-width:4\"/><line x1=\"291.8830527536382\" y1=\"275.95658253043683\" x2=\"292.3525243164241\" y2=\"276.8395301232958\" stroke-linecap=\"round\" style=\"stroke:white;stroke-width:4\"/><line x1=\"292.3525243164241\" y1=\"276.8395301232958\" x2=\"292.8373339366704\" y2=\"277.7141498304352\" stroke-linecap=\"round\" style=\"stroke:white;stroke-width:4\"/><line x1=\"292.8373339366704\" y1=\"277.7141498304352\" x2=\"293.3373339366704\" y2=\"278.5801752342196\" stroke-linecap=\"round\" style=\"stroke:white;stroke-width:4\"/><line x1=\"293.3373339366704\" y1=\"278.5801752342196\" x2=\"293.8523720115805\" y2=\"279.4373425349217\" stroke-linecap=\"round\" style=\"stroke:white;stroke-width:4\"/><line x1=\"293.8523720115805\" y1=\"279.4373425349217\" x2=\"294.3822912758137\" y2=\"280.28539063107814\" stroke-linecap=\"round\" style=\"stroke:white;stroke-width:4\"/><line x1=\"294.3822912758137\" y1=\"280.28539063107814\" x2=\"294.92693031082877\" y2=\"281.1240611990236\" stroke-linecap=\"round\" style=\"stroke:white;stroke-width:4\"/><line x1=\"294.92693031082877\" y1=\"281.1240611990236\" x2=\"295.48612321429954\" y2=\"281.9530987715786\" stroke-linecap=\"round\" style=\"stroke:white;stroke-width:4\"/><line x1=\"295.48612321429954\" y1=\"281.9530987715786\" x2=\"296.0596996506506\" y2=\"282.7722508158676\" stroke-linecap=\"round\" style=\"stroke:white;stroke-width:4\"/><line x1=\"296.0596996506506\" y1=\"282.7722508158676\" x2=\"296.64748490294306\" y2=\"283.58126781024254\" stroke-linecap=\"round\" style=\"stroke:white;stroke-width:4\"/><line x1=\"296.64748490294306\" y1=\"283.58126781024254\" x2=\"297.2492999260951\" y2=\"284.3799033202898\" stroke-linecap=\"round\" style=\"stroke:white;stroke-width:4\"/><line x1=\"297.2492999260951\" y1=\"284.3799033202898\" x2=\"297.86496140142077\" y2=\"285.16791407389655\" stroke-linecap=\"round\" style=\"stroke:white;stroke-width:4\"/><line x1=\"297.86496140142077\" y1=\"285.16791407389655\" x2=\"298.4942817924706\" y2=\"285.94506003535355\" stroke-linecap=\"round\" style=\"stroke:white;stroke-width:4\"/><line x1=\"298.4942817924706\" y1=\"285.94506003535355\" x2=\"299.1370694021571\" y2=\"286.7111044784725\" stroke-linecap=\"round\" style=\"stroke:white;stroke-width:4\"/><line x1=\"299.1370694021571\" y1=\"286.7111044784725\" x2=\"299.79312843114764\" y2=\"287.4658140586953\" stroke-linecap=\"round\" style=\"stroke:white;stroke-width:4\"/><line x1=\"299.79312843114764\" y1=\"287.4658140586953\" x2=\"300.4622590375065\" y2=\"288.20895888417266\" stroke-linecap=\"round\" style=\"stroke:white;stroke-width:4\"/><line x1=\"300.4622590375065\" y1=\"288.20895888417266\" x2=\"301.144257397569\" y2=\"288.94031258579184\" stroke-linecap=\"round\" style=\"stroke:white;stroke-width:4\"/><line x1=\"301.144257397569\" y1=\"288.94031258579184\" x2=\"301.838915768028\" y2=\"289.6596523861305\" stroke-linecap=\"round\" style=\"stroke:white;stroke-width:4\"/><line x1=\"301.838915768028\" y1=\"289.6596523861305\" x2=\"302.54602254921457\" y2=\"290.36675916731707\" stroke-linecap=\"round\" style=\"stroke:white;stroke-width:4\"/><line x1=\"302.54602254921457\" y1=\"290.36675916731707\" x2=\"303.26536234955324\" y2=\"291.0614175377761\" stroke-linecap=\"round\" style=\"stroke:white;stroke-width:4\"/><line x1=\"303.26536234955324\" y1=\"291.0614175377761\" x2=\"303.9967160511724\" y2=\"291.7434158978386\" stroke-linecap=\"round\" style=\"stroke:white;stroke-width:4\"/><line x1=\"303.9967160511724\" y1=\"291.7434158978386\" x2=\"304.7398608766498\" y2=\"292.41254650419745\" stroke-linecap=\"round\" style=\"stroke:white;stroke-width:4\"/><line x1=\"304.7398608766498\" y1=\"292.41254650419745\" x2=\"305.49457045687257\" y2=\"293.06860553318796\" stroke-linecap=\"round\" style=\"stroke:white;stroke-width:4\"/><line x1=\"305.49457045687257\" y1=\"293.06860553318796\" x2=\"306.26061489999154\" y2=\"293.7113931428745\" stroke-linecap=\"round\" style=\"stroke:white;stroke-width:4\"/><line x1=\"306.26061489999154\" y1=\"293.7113931428745\" x2=\"307.03776086144853\" y2=\"294.3407135339243\" stroke-linecap=\"round\" style=\"stroke:white;stroke-width:4\"/><line x1=\"307.03776086144853\" y1=\"294.3407135339243\" x2=\"307.82577161505526\" y2=\"294.95637500925\" stroke-linecap=\"round\" style=\"stroke:white;stroke-width:4\"/><line x1=\"307.82577161505526\" y1=\"294.95637500925\" x2=\"308.62440712510255\" y2=\"295.558190032402\" stroke-linecap=\"round\" style=\"stroke:white;stroke-width:4\"/><line x1=\"308.62440712510255\" y1=\"295.558190032402\" x2=\"309.4334241194775\" y2=\"296.1459752846945\" stroke-linecap=\"round\" style=\"stroke:white;stroke-width:4\"/><line x1=\"309.4334241194775\" y1=\"296.1459752846945\" x2=\"310.2525761637665\" y2=\"296.71955172104555\" stroke-linecap=\"round\" style=\"stroke:white;stroke-width:4\"/><line x1=\"310.2525761637665\" y1=\"296.71955172104555\" x2=\"311.0816137363215\" y2=\"297.2787446245163\" stroke-linecap=\"round\" style=\"stroke:white;stroke-width:4\"/><line x1=\"311.0816137363215\" y1=\"297.2787446245163\" x2=\"311.92028430426694\" y2=\"297.8233836595314\" stroke-linecap=\"round\" style=\"stroke:white;stroke-width:4\"/><line x1=\"311.92028430426694\" y1=\"297.8233836595314\" x2=\"312.7683324004234\" y2=\"298.3533029237646\" stroke-linecap=\"round\" style=\"stroke:white;stroke-width:4\"/><line x1=\"312.7683324004234\" y1=\"298.3533029237646\" x2=\"313.6254997011255\" y2=\"298.8683409986747\" stroke-linecap=\"round\" style=\"stroke:white;stroke-width:4\"/><line x1=\"313.6254997011255\" y1=\"298.8683409986747\" x2=\"314.4915251049099\" y2=\"299.3683409986747\" stroke-linecap=\"round\" style=\"stroke:white;stroke-width:4\"/><line x1=\"314.4915251049099\" y1=\"299.3683409986747\" x2=\"315.3661448120493\" y2=\"299.853150618921\" stroke-linecap=\"round\" style=\"stroke:white;stroke-width:4\"/><line x1=\"315.3661448120493\" y1=\"299.853150618921\" x2=\"316.24909240490825\" y2=\"300.3226221817069\" stroke-linecap=\"round\" style=\"stroke:white;stroke-width:4\"/><line x1=\"316.24909240490825\" y1=\"300.3226221817069\" x2=\"317.1400989290966\" y2=\"300.7766126814464\" stroke-linecap=\"round\" style=\"stroke:white;stroke-width:4\"/><line x1=\"317.1400989290966\" y1=\"300.7766126814464\" x2=\"318.03889297539575\" y2=\"301.21498382823546\" stroke-linecap=\"round\" style=\"stroke:white;stroke-width:4\"/><line x1=\"318.03889297539575\" y1=\"301.21498382823546\" x2=\"318.9452007624324\" y2=\"301.63760208997616\" stroke-linecap=\"round\" style=\"stroke:white;stroke-width:4\"/><line x1=\"318.9452007624324\" y1=\"301.63760208997616\" x2=\"319.85874622007503\" y2=\"302.044338733052\" stroke-linecap=\"round\" style=\"stroke:white;stroke-width:4\"/><line x1=\"319.85874622007503\" y1=\"302.044338733052\" x2=\"320.77925107352746\" y2=\"302.43506986154125\" stroke-linecap=\"round\" style=\"stroke:white;stroke-width:4\"/><line x1=\"320.77925107352746\" y1=\"302.43506986154125\" x2=\"321.70643492809427\" y2=\"302.8096764549572\" stroke-linecap=\"round\" style=\"stroke:white;stroke-width:4\"/><line x1=\"321.70643492809427\" y1=\"302.8096764549572\" x2=\"322.64001535459147\" y2=\"303.1680444045025\" stroke-linecap=\"round\" style=\"stroke:white;stroke-width:4\"/><line x1=\"322.64001535459147\" y1=\"303.1680444045025\" x2=\"323.5797079753774\" y2=\"303.51006454782816\" stroke-linecap=\"round\" style=\"stroke:white;stroke-width:4\"/><line x1=\"323.5797079753774\" y1=\"303.51006454782816\" x2=\"324.5252265509767\" y2=\"303.8356327022853\" stroke-linecap=\"round\" style=\"stroke:white;stroke-width:4\"/><line x1=\"324.5252265509767\" y1=\"303.8356327022853\" x2=\"325.4762830672718\" y2=\"304.1446496966602\" stroke-linecap=\"round\" style=\"stroke:white;stroke-width:4\"/><line x1=\"325.4762830672718\" y1=\"304.1446496966602\" x2=\"326.4325878232349\" y2=\"304.43702140138294\" stroke-linecap=\"round\" style=\"stroke:white;stroke-width:4\"/><line x1=\"326.4325878232349\" y1=\"304.43702140138294\" x2=\"327.3938495191732\" y2=\"304.71265875719996\" stroke-linecap=\"round\" style=\"stroke:white;stroke-width:4\"/><line x1=\"327.3938495191732\" y1=\"304.71265875719996\" x2=\"328.3597753454623\" y2=\"304.9714778023025\" stroke-linecap=\"round\" style=\"stroke:white;stroke-width:4\"/><line x1=\"328.3597753454623\" y1=\"304.9714778023025\" x2=\"329.3300710717383\" y2=\"305.21339969790216\" stroke-linecap=\"round\" style=\"stroke:white;stroke-width:4\"/><line x1=\"329.3300710717383\" y1=\"305.21339969790216\" x2=\"330.30444113652356\" y2=\"305.43835075224604\" stroke-linecap=\"round\" style=\"stroke:white;stroke-width:4\"/><line x1=\"330.30444113652356\" y1=\"305.43835075224604\" x2=\"331.28258873725736\" y2=\"305.6462624430638\" stroke-linecap=\"round\" style=\"stroke:white;stroke-width:4\"/><line x1=\"331.28258873725736\" y1=\"305.6462624430638\" x2=\"332.264215920705\" y2=\"305.8370714384403\" stroke-linecap=\"round\" style=\"stroke:white;stroke-width:4\"/><line x1=\"332.264215920705\" y1=\"305.8370714384403\" x2=\"333.2490236737172\" y2=\"306.0107196161072\" stroke-linecap=\"round\" style=\"stroke:white;stroke-width:4\"/><line x1=\"333.2490236737172\" y1=\"306.0107196161072\" x2=\"334.23671201431233\" y2=\"306.16715408114743\" stroke-linecap=\"round\" style=\"stroke:white;stroke-width:4\"/><line x1=\"334.23671201431233\" y1=\"306.16715408114743\" x2=\"335.2269800830539\" y2=\"306.3063271821075\" stroke-linecap=\"round\" style=\"stroke:white;stroke-width:4\"/><line x1=\"335.2269800830539\" y1=\"306.3063271821075\" x2=\"336.2195262346952\" y2=\"306.42819652551265\" stroke-linecap=\"round\" style=\"stroke:white;stroke-width:4\"/><line x1=\"336.2195262346952\" y1=\"306.42819652551265\" x2=\"337.2140481300635\" y2=\"306.5327249887803\" stroke-linecap=\"round\" style=\"stroke:white;stroke-width:4\"/><line x1=\"337.2140481300635\" y1=\"306.5327249887803\" x2=\"338.21024282815523\" y2=\"306.6198807315279\" stroke-linecap=\"round\" style=\"stroke:white;stroke-width:4\"/><line x1=\"338.21024282815523\" y1=\"306.6198807315279\" x2=\"339.20780687841506\" y2=\"306.68963720527205\" stroke-linecap=\"round\" style=\"stroke:white;stroke-width:4\"/><line x1=\"339.20780687841506\" y1=\"306.68963720527205\" x2=\"340.2064364131696\" y2=\"306.741973161515\" stroke-linecap=\"round\" style=\"stroke:white;stroke-width:4\"/><line x1=\"340.2064364131696\" y1=\"306.741973161515\" x2=\"341.20582724018874\" y2=\"306.7768726582175\" stroke-linecap=\"round\" style=\"stroke:white;stroke-width:4\"/><line x1=\"341.20582724018874\" y1=\"306.7768726582175\" x2=\"342.20567493534514\" y2=\"306.79432506465474\" stroke-linecap=\"round\" style=\"stroke:white;stroke-width:4\"/><line x1=\"342.20567493534514\" y1=\"306.79432506465474\" x2=\"343.20567493534514\" y2=\"306.79432506465474\" stroke-linecap=\"round\" style=\"stroke:white;stroke-width:4\"/><line x1=\"343.20567493534514\" y1=\"306.79432506465474\" x2=\"344.20552263050155\" y2=\"306.7768726582175\" stroke-linecap=\"round\" style=\"stroke:white;stroke-width:4\"/><line x1=\"344.20552263050155\" y1=\"306.7768726582175\" x2=\"345.20491345752066\" y2=\"306.741973161515\" stroke-linecap=\"round\" style=\"stroke:white;stroke-width:4\"/><line x1=\"345.20491345752066\" y1=\"306.741973161515\" x2=\"346.20354299227523\" y2=\"306.68963720527205\" stroke-linecap=\"round\" style=\"stroke:white;stroke-width:4\"/><line x1=\"346.20354299227523\" y1=\"306.68963720527205\" x2=\"347.20110704253506\" y2=\"306.6198807315279\" stroke-linecap=\"round\" style=\"stroke:white;stroke-width:4\"/><line x1=\"347.20110704253506\" y1=\"306.6198807315279\" x2=\"348.1973017406268\" y2=\"306.5327249887803\" stroke-linecap=\"round\" style=\"stroke:white;stroke-width:4\"/><line x1=\"348.1973017406268\" y1=\"306.5327249887803\" x2=\"349.1918236359951\" y2=\"306.42819652551265\" stroke-linecap=\"round\" style=\"stroke:white;stroke-width:4\"/><line x1=\"349.1918236359951\" y1=\"306.42819652551265\" x2=\"350.1843697876364\" y2=\"306.3063271821075\" stroke-linecap=\"round\" style=\"stroke:white;stroke-width:4\"/><line x1=\"350.1843697876364\" y1=\"306.3063271821075\" x2=\"351.17463785637796\" y2=\"306.16715408114743\" stroke-linecap=\"round\" style=\"stroke:white;stroke-width:4\"/><line x1=\"351.17463785637796\" y1=\"306.16715408114743\" x2=\"352.1623261969731\" y2=\"306.0107196161072\" stroke-linecap=\"round\" style=\"stroke:white;stroke-width:4\"/><line x1=\"352.1623261969731\" y1=\"306.0107196161072\" x2=\"353.1471339499853\" y2=\"305.8370714384403\" stroke-linecap=\"round\" style=\"stroke:white;stroke-width:4\"/><line x1=\"353.1471339499853\" y1=\"305.8370714384403\" x2=\"354.12876113343293\" y2=\"305.6462624430638\" stroke-linecap=\"round\" style=\"stroke:white;stroke-width:4\"/><line x1=\"354.12876113343293\" y1=\"305.6462624430638\" x2=\"355.1069087341667\" y2=\"305.43835075224604\" stroke-linecap=\"round\" style=\"stroke:white;stroke-width:4\"/><line x1=\"355.1069087341667\" y1=\"305.43835075224604\" x2=\"356.081278798952\" y2=\"305.21339969790216\" stroke-linecap=\"round\" style=\"stroke:white;stroke-width:4\"/><line x1=\"356.081278798952\" y1=\"305.21339969790216\" x2=\"357.051574525228\" y2=\"304.9714778023025\" stroke-linecap=\"round\" style=\"stroke:white;stroke-width:4\"/><line x1=\"357.051574525228\" y1=\"304.9714778023025\" x2=\"358.01750035151707\" y2=\"304.71265875719996\" stroke-linecap=\"round\" style=\"stroke:white;stroke-width:4\"/><line x1=\"358.01750035151707\" y1=\"304.71265875719996\" x2=\"358.9787620474554\" y2=\"304.43702140138294\" stroke-linecap=\"round\" style=\"stroke:white;stroke-width:4\"/><line x1=\"358.9787620474554\" y1=\"304.43702140138294\" x2=\"359.93506680341847\" y2=\"304.1446496966602\" stroke-linecap=\"round\" style=\"stroke:white;stroke-width:4\"/><line x1=\"359.93506680341847\" y1=\"304.1446496966602\" x2=\"360.8861233197136\" y2=\"303.8356327022853\" stroke-linecap=\"round\" style=\"stroke:white;stroke-width:4\"/><line x1=\"360.8861233197136\" y1=\"303.8356327022853\" x2=\"361.8316418953129\" y2=\"303.51006454782816\" stroke-linecap=\"round\" style=\"stroke:white;stroke-width:4\"/><line x1=\"361.8316418953129\" y1=\"303.51006454782816\" x2=\"362.7713345160988\" y2=\"303.1680444045025\" stroke-linecap=\"round\" style=\"stroke:white;stroke-width:4\"/><line x1=\"362.7713345160988\" y1=\"303.1680444045025\" x2=\"363.704914942596\" y2=\"302.8096764549572\" stroke-linecap=\"round\" style=\"stroke:white;stroke-width:4\"/><line x1=\"363.704914942596\" y1=\"302.8096764549572\" x2=\"364.6320987971628\" y2=\"302.43506986154125\" stroke-linecap=\"round\" style=\"stroke:white;stroke-width:4\"/><line x1=\"364.6320987971628\" y1=\"302.43506986154125\" x2=\"365.55260365061525\" y2=\"302.044338733052\" stroke-linecap=\"round\" style=\"stroke:white;stroke-width:4\"/><line x1=\"365.55260365061525\" y1=\"302.044338733052\" x2=\"366.46614910825787\" y2=\"301.63760208997616\" stroke-linecap=\"round\" style=\"stroke:white;stroke-width:4\"/><line x1=\"366.46614910825787\" y1=\"301.63760208997616\" x2=\"367.37245689529453\" y2=\"301.21498382823546\" stroke-linecap=\"round\" style=\"stroke:white;stroke-width:4\"/><line x1=\"367.37245689529453\" y1=\"301.21498382823546\" x2=\"368.2712509415937\" y2=\"300.7766126814464\" stroke-linecap=\"round\" style=\"stroke:white;stroke-width:4\"/><line x1=\"368.2712509415937\" y1=\"300.7766126814464\" x2=\"369.16225746578203\" y2=\"300.32262218170683\" stroke-linecap=\"round\" style=\"stroke:white;stroke-width:4\"/><line x1=\"369.16225746578203\" y1=\"300.32262218170683\" x2=\"370.045205058641\" y2=\"299.85315061892095\" stroke-linecap=\"round\" style=\"stroke:white;stroke-width:4\"/><line x1=\"370.045205058641\" y1=\"299.85315061892095\" x2=\"370.9198247657804\" y2=\"299.3683409986746\" stroke-linecap=\"round\" style=\"stroke:white;stroke-width:4\"/><line x1=\"370.9198247657804\" y1=\"299.3683409986746\" x2=\"371.7858501695648\" y2=\"298.8683409986746\" stroke-linecap=\"round\" style=\"stroke:white;stroke-width:4\"/><line x1=\"371.7858501695648\" y1=\"298.8683409986746\" x2=\"372.6430174702669\" y2=\"298.35330292376455\" stroke-linecap=\"round\" style=\"stroke:white;stroke-width:4\"/><line x1=\"372.6430174702669\" y1=\"298.35330292376455\" x2=\"373.49106556642334\" y2=\"297.8233836595313\" stroke-linecap=\"round\" style=\"stroke:white;stroke-width:4\"/><line x1=\"373.49106556642334\" y1=\"297.8233836595313\" x2=\"374.3297361343688\" y2=\"297.27874462451626\" stroke-linecap=\"round\" style=\"stroke:white;stroke-width:4\"/><line x1=\"374.3297361343688\" y1=\"297.27874462451626\" x2=\"375.1587737069238\" y2=\"296.7195517210455\" stroke-linecap=\"round\" style=\"stroke:white;stroke-width:4\"/><line x1=\"375.1587737069238\" y1=\"296.7195517210455\" x2=\"375.9779257512128\" y2=\"296.14597528469443\" stroke-linecap=\"round\" style=\"stroke:white;stroke-width:4\"/><line x1=\"375.9779257512128\" y1=\"296.14597528469443\" x2=\"376.78694274558774\" y2=\"295.55819003240197\" stroke-linecap=\"round\" style=\"stroke:white;stroke-width:4\"/><line x1=\"376.78694274558774\" y1=\"295.55819003240197\" x2=\"377.585578255635\" y2=\"294.95637500924994\" stroke-linecap=\"round\" style=\"stroke:white;stroke-width:4\"/><line x1=\"377.585578255635\" y1=\"294.95637500924994\" x2=\"378.37358900924175\" y2=\"294.34071353392426\" stroke-linecap=\"round\" style=\"stroke:white;stroke-width:4\"/><line x1=\"378.37358900924175\" y1=\"294.34071353392426\" x2=\"379.15073497069875\" y2=\"293.71139314287444\" stroke-linecap=\"round\" style=\"stroke:white;stroke-width:4\"/><line x1=\"379.15073497069875\" y1=\"293.71139314287444\" x2=\"379.9167794138177\" y2=\"293.0686055331879\" stroke-linecap=\"round\" style=\"stroke:white;stroke-width:4\"/><line x1=\"379.9167794138177\" y1=\"293.0686055331879\" x2=\"380.6714889940405\" y2=\"292.4125465041974\" stroke-linecap=\"round\" style=\"stroke:white;stroke-width:4\"/><line x1=\"380.6714889940405\" y1=\"292.4125465041974\" x2=\"381.41463381951786\" y2=\"291.74341589783853\" stroke-linecap=\"round\" style=\"stroke:white;stroke-width:4\"/><line x1=\"381.41463381951786\" y1=\"291.74341589783853\" x2=\"382.14598752113704\" y2=\"291.06141753777604\" stroke-linecap=\"round\" style=\"stroke:white;stroke-width:4\"/><line x1=\"382.14598752113704\" y1=\"291.06141753777604\" x2=\"382.8653273214757\" y2=\"290.366759167317\" stroke-linecap=\"round\" style=\"stroke:white;stroke-width:4\"/><line x1=\"382.8653273214757\" y1=\"290.366759167317\" x2=\"383.57243410266227\" y2=\"289.65965238613046\" stroke-linecap=\"round\" style=\"stroke:white;stroke-width:4\"/><line x1=\"383.57243410266227\" y1=\"289.65965238613046\" x2=\"384.2670924731213\" y2=\"288.9403125857918\" stroke-linecap=\"round\" style=\"stroke:white;stroke-width:4\"/><line x1=\"384.2670924731213\" y1=\"288.9403125857918\" x2=\"384.9490908331838\" y2=\"288.2089588841726\" stroke-linecap=\"round\" style=\"stroke:white;stroke-width:4\"/><line x1=\"384.9490908331838\" y1=\"288.2089588841726\" x2=\"385.61822143954265\" y2=\"287.46581405869523\" stroke-linecap=\"round\" style=\"stroke:white;stroke-width:4\"/><line x1=\"385.61822143954265\" y1=\"287.46581405869523\" x2=\"386.27428046853316\" y2=\"286.71110447847246\" stroke-linecap=\"round\" style=\"stroke:white;stroke-width:4\"/><line x1=\"386.27428046853316\" y1=\"286.71110447847246\" x2=\"386.9170680782197\" y2=\"285.9450600353535\" stroke-linecap=\"round\" style=\"stroke:white;stroke-width:4\"/><line x1=\"386.9170680782197\" y1=\"285.9450600353535\" x2=\"387.5463884692695\" y2=\"285.1679140738965\" stroke-linecap=\"round\" style=\"stroke:white;stroke-width:4\"/><line x1=\"387.5463884692695\" y1=\"285.1679140738965\" x2=\"388.1620499445952\" y2=\"284.37990332028977\" stroke-linecap=\"round\" style=\"stroke:white;stroke-width:4\"/><line x1=\"388.1620499445952\" y1=\"284.37990332028977\" x2=\"388.7638649677472\" y2=\"283.5812678102425\" stroke-linecap=\"round\" style=\"stroke:white;stroke-width:4\"/><line x1=\"388.7638649677472\" y1=\"283.5812678102425\" x2=\"389.3516502200397\" y2=\"282.77225081586755\" stroke-linecap=\"round\" style=\"stroke:white;stroke-width:4\"/><line x1=\"389.3516502200397\" y1=\"282.77225081586755\" x2=\"389.92522665639075\" y2=\"281.95309877157854\" stroke-linecap=\"round\" style=\"stroke:white;stroke-width:4\"/><line x1=\"389.92522665639075\" y1=\"281.95309877157854\" x2=\"390.4844195598615\" y2=\"281.1240611990235\" stroke-linecap=\"round\" style=\"stroke:white;stroke-width:4\"/><line x1=\"390.4844195598615\" y1=\"281.1240611990235\" x2=\"391.0290585948766\" y2=\"280.2853906310781\" stroke-linecap=\"round\" style=\"stroke:white;stroke-width:4\"/><line x1=\"391.0290585948766\" y1=\"280.2853906310781\" x2=\"391.5589778591098\" y2=\"279.43734253492164\" stroke-linecap=\"round\" style=\"stroke:white;stroke-width:4\"/><line x1=\"391.5589778591098\" y1=\"279.43734253492164\" x2=\"392.0740159340199\" y2=\"278.58017523421955\" stroke-linecap=\"round\" style=\"stroke:white;stroke-width:4\"/><line x1=\"392.0740159340199\" y1=\"278.58017523421955\" x2=\"392.5740159340199\" y2=\"277.71414983043513\" stroke-linecap=\"round\" style=\"stroke:white;stroke-width:4\"/><line x1=\"392.5740159340199\" y1=\"277.71414983043513\" x2=\"393.0588255542662\" y2=\"276.83953012329573\" stroke-linecap=\"round\" style=\"stroke:white;stroke-width:4\"/><line x1=\"393.0588255542662\" y1=\"276.83953012329573\" x2=\"393.5282971170521\" y2=\"275.9565825304368\" stroke-linecap=\"round\" style=\"stroke:white;stroke-width:4\"/><line x1=\"393.5282971170521\" y1=\"275.9565825304368\" x2=\"393.9822876167916\" y2=\"275.0655760062484\" stroke-linecap=\"round\" style=\"stroke:white;stroke-width:4\"/><line x1=\"393.9822876167916\" y1=\"275.0655760062484\" x2=\"394.42065876358066\" y2=\"274.1667819599493\" stroke-linecap=\"round\" style=\"stroke:white;stroke-width:4\"/><line x1=\"394.42065876358066\" y1=\"274.1667819599493\" x2=\"394.84327702532136\" y2=\"273.2604741729126\" stroke-linecap=\"round\" style=\"stroke:white;stroke-width:4\"/><line x1=\"394.84327702532136\" y1=\"273.2604741729126\" x2=\"395.2500136683972\" y2=\"272.34692871527\" stroke-linecap=\"round\" style=\"stroke:white;stroke-width:4\"/><line x1=\"395.2500136683972\" y1=\"272.34692871527\" x2=\"395.64074479688645\" y2=\"271.42642386181757\" stroke-linecap=\"round\" style=\"stroke:white;stroke-width:4\"/><line x1=\"395.64074479688645\" y1=\"271.42642386181757\" x2=\"396.0153513903024\" y2=\"270.49924000725076\" stroke-linecap=\"round\" style=\"stroke:white;stroke-width:4\"/><line x1=\"396.0153513903024\" y1=\"270.49924000725076\" x2=\"396.3737193398477\" y2=\"269.56565958075356\" stroke-linecap=\"round\" style=\"stroke:white;stroke-width:4\"/><line x1=\"396.3737193398477\" y1=\"269.56565958075356\" x2=\"396.71573948317337\" y2=\"268.6259669599676\" stroke-linecap=\"round\" style=\"stroke:white;stroke-width:4\"/><line x1=\"396.71573948317337\" y1=\"268.6259669599676\" x2=\"397.0413076376305\" y2=\"267.68044838436833\" stroke-linecap=\"round\" style=\"stroke:white;stroke-width:4\"/><line x1=\"397.0413076376305\" y1=\"267.68044838436833\" x2=\"397.3503246320054\" y2=\"266.7293918680732\" stroke-linecap=\"round\" style=\"stroke:white;stroke-width:4\"/><line x1=\"397.3503246320054\" y1=\"266.7293918680732\" x2=\"397.64269633672814\" y2=\"265.77308711211015\" stroke-linecap=\"round\" style=\"stroke:white;stroke-width:4\"/><line x1=\"397.64269633672814\" y1=\"265.77308711211015\" x2=\"397.91833369254516\" y2=\"264.8118254161718\" stroke-linecap=\"round\" style=\"stroke:white;stroke-width:4\"/><line x1=\"397.91833369254516\" y1=\"264.8118254161718\" x2=\"398.1771527376477\" y2=\"263.8458995898827\" stroke-linecap=\"round\" style=\"stroke:white;stroke-width:4\"/><line x1=\"398.1771527376477\" y1=\"263.8458995898827\" x2=\"398.41907463324736\" y2=\"262.8756038636067\" stroke-linecap=\"round\" style=\"stroke:white;stroke-width:4\"/><line x1=\"398.41907463324736\" y1=\"262.8756038636067\" x2=\"398.64402568759124\" y2=\"261.90123379882147\" stroke-linecap=\"round\" style=\"stroke:white;stroke-width:4\"/><line x1=\"398.64402568759124\" y1=\"261.90123379882147\" x2=\"398.851937378409\" y2=\"260.9230861980877\" stroke-linecap=\"round\" style=\"stroke:white;stroke-width:4\"/><line x1=\"398.851937378409\" y1=\"260.9230861980877\" x2=\"399.0427463737855\" y2=\"259.94145901464003\" stroke-linecap=\"round\" style=\"stroke:white;stroke-width:4\"/><line x1=\"399.0427463737855\" y1=\"259.94145901464003\" x2=\"399.2163945514524\" y2=\"258.9566512616278\" stroke-linecap=\"round\" style=\"stroke:white;stroke-width:4\"/><line x1=\"399.2163945514524\" y1=\"258.9566512616278\" x2=\"399.37282901649263\" y2=\"257.9689629210327\" stroke-linecap=\"round\" style=\"stroke:white;stroke-width:4\"/><line x1=\"399.37282901649263\" y1=\"257.9689629210327\" x2=\"399.5120021174527\" y2=\"256.97869485229114\" stroke-linecap=\"round\" style=\"stroke:white;stroke-width:4\"/><line x1=\"399.5120021174527\" y1=\"256.97869485229114\" x2=\"399.63387146085785\" y2=\"255.9861487006498\" stroke-linecap=\"round\" style=\"stroke:white;stroke-width:4\"/><line x1=\"399.63387146085785\" y1=\"255.9861487006498\" x2=\"399.7383999241255\" y2=\"254.99162680528153\" stroke-linecap=\"round\" style=\"stroke:white;stroke-width:4\"/><line x1=\"399.7383999241255\" y1=\"254.99162680528153\" x2=\"399.82555566687313\" y2=\"253.99543210718977\" stroke-linecap=\"round\" style=\"stroke:white;stroke-width:4\"/><line x1=\"399.82555566687313\" y1=\"253.99543210718977\" x2=\"399.89531214061725\" y2=\"252.99786805692995\" stroke-linecap=\"round\" style=\"stroke:white;stroke-width:4\"/><line x1=\"399.89531214061725\" y1=\"252.99786805692995\" x2=\"399.9476480968602\" y2=\"251.99923852217538\" stroke-linecap=\"round\" style=\"stroke:white;stroke-width:4\"/><line x1=\"399.9476480968602\" y1=\"251.99923852217538\" x2=\"399.9825475935627\" y2=\"250.9998476951563\" stroke-linecap=\"round\" style=\"stroke:white;stroke-width:4\"/><line x1=\"399.9825475935627\" y1=\"250.9998476951563\" x2=\"399.99999999999994\" y2=\"249.9999999999999\" stroke-linecap=\"round\" style=\"stroke:white;stroke-width:4\"/><line x1=\"342.99999999999994\" y1=\"249.9999999999999\" x2=\"423.6101730552664\" y2=\"330.6101730552663\" stroke-linecap=\"round\" style=\"stroke:white;stroke-width:4\"/>\n",
              "        \n",
              "      <g visibility=visible transform=\"rotate(-45,423.6101730552664,330.6101730552663) translate(423.6101730552664, 330.6101730552663)\">\n",
              "        <circle stroke=\"white\" stroke-width=\"3\" fill=\"transparent\" r=\"12\" cx=\"0\" cy=\"0\"/>\n",
              "        <polygon points=\"0,19 3,16 -3,16\" style=\"fill:white;stroke:white;stroke-width:2\"/>\n",
              "      </g>\n",
              "    \n",
              "      </svg>\n",
              "    "
            ],
            "text/plain": [
              "<IPython.core.display.HTML object>"
            ]
          },
          "metadata": {
            "tags": []
          }
        }
      ]
    },
    {
      "cell_type": "markdown",
      "metadata": {
        "id": "xCL2bdNKBj46",
        "colab_type": "text"
      },
      "source": [
        "### Letter K\n",
        "\n",
        "\n",
        "\n",
        "To draw an alphabet 'K', I have followed above-mentioned steps:\n",
        "1. Drawn a straight line\n",
        "\n",
        "2. Moved the pointer of the turtle towards the center of the line\n",
        "\n",
        "3. Drawn one slanting line making an angle of 45 degrees on the straight line. \n",
        "\n",
        "      I have chosen 45 degrees because the line is slanting . Thus, the angle slant line makes on the straight should be very very less than 90 degrees but not less than 40 degrees in order to get the proper 'K' shape.\n",
        "\n",
        "4. Pointed the cursor to 90 degrees and draw another slant line.\n",
        "\n",
        "5. Calculated the length of the two slanting lines and was found to be 126 units. \n",
        "\n",
        "  a. The length of the straight line is taken to be 180 units.</br>\n",
        "  b. The straight is divided into two equal parts of 90 units each in length.</br>\n",
        "  c. Using one part from b, a square was drawn. Considering, the arm of the 'K' to be the diagonal of a square, the length of the diagonal was calculated as 90 x squareroot(2) = 126 units.\n",
        "\n",
        "\n"
      ]
    },
    {
      "cell_type": "code",
      "metadata": {
        "id": "Rt6FvXt05NAs",
        "colab_type": "code",
        "colab": {
          "base_uri": "https://localhost:8080/",
          "height": 541
        },
        "outputId": "a2f2ca2d-766a-404c-c8b4-b50c0072d052"
      },
      "source": [
        "initializeTurtle()\n",
        "forward(units=180)\n",
        "backward(units=90)\n",
        "right(degrees=45)\n",
        "forward(units=126)\n",
        "backward(units=126)\n",
        "right(degrees=90)\n",
        "forward(units=126)\n",
        "backward(units=126)"
      ],
      "execution_count": 20,
      "outputs": [
        {
          "output_type": "display_data",
          "data": {
            "text/html": [
              "\n",
              "      <svg width=\"800\" height=\"500\">\n",
              "        <rect width=\"100%\" height=\"100%\" fill=\"black\"/>\n",
              "        <line x1=\"400\" y1=\"250\" x2=\"399.99999999999994\" y2=\"70.0\" stroke-linecap=\"round\" style=\"stroke:white;stroke-width:4\"/><line x1=\"399.99999999999994\" y1=\"70.0\" x2=\"399.99999999999994\" y2=\"160.0\" stroke-linecap=\"round\" style=\"stroke:white;stroke-width:4\"/><line x1=\"399.99999999999994\" y1=\"160.0\" x2=\"489.0954544295049\" y2=\"70.90454557049499\" stroke-linecap=\"round\" style=\"stroke:white;stroke-width:4\"/><line x1=\"489.0954544295049\" y1=\"70.90454557049499\" x2=\"399.99999999999994\" y2=\"160.0\" stroke-linecap=\"round\" style=\"stroke:white;stroke-width:4\"/><line x1=\"399.99999999999994\" y1=\"160.0\" x2=\"489.0954544295049\" y2=\"249.09545442950497\" stroke-linecap=\"round\" style=\"stroke:white;stroke-width:4\"/><line x1=\"489.0954544295049\" y1=\"249.09545442950497\" x2=\"399.9999999999999\" y2=\"160.0\" stroke-linecap=\"round\" style=\"stroke:white;stroke-width:4\"/>\n",
              "        \n",
              "      <g visibility=visible transform=\"rotate(-45,399.9999999999999,160.0) translate(399.9999999999999, 160.0)\">\n",
              "        <circle stroke=\"white\" stroke-width=\"3\" fill=\"transparent\" r=\"12\" cx=\"0\" cy=\"0\"/>\n",
              "        <polygon points=\"0,19 3,16 -3,16\" style=\"fill:white;stroke:white;stroke-width:2\"/>\n",
              "      </g>\n",
              "    \n",
              "      </svg>\n",
              "    "
            ],
            "text/plain": [
              "<IPython.core.display.HTML object>"
            ]
          },
          "metadata": {
            "tags": []
          }
        }
      ]
    },
    {
      "cell_type": "markdown",
      "metadata": {
        "id": "UkeYwDWfJOcR",
        "colab_type": "text"
      },
      "source": [
        "### Letter B"
      ]
    },
    {
      "cell_type": "markdown",
      "metadata": {
        "id": "aMGMGnYhMgs-",
        "colab_type": "text"
      },
      "source": [
        "To draw a letter 'B' following steps were followed:\n",
        "\n",
        "1. The diameter of each semi-circle was calculated using the concept:</br> Circumference of a circle = 360 units</br>\n",
        "2 x 3.14 x radius of a circle(r) = 360</br>\n",
        "2 x r = diameter of a circle(d)</br>\n",
        "Thus, diameter of one semi-circle = 360/3.14 = 114.65</br>\n",
        "      daimeter of other semi-circle = 114.65 x 2 = 229</br>\n",
        "\n",
        "2. The straight line of 229 units was drawn.</br>\n",
        "3. Two semi-circles were drawn considering the length of the lines and angle between the lines to be minimum and the number of lines or range to be 180 for each semi-circle.</br>\n"
      ]
    },
    {
      "cell_type": "code",
      "metadata": {
        "id": "b8JW1Ckp14Hf",
        "colab_type": "code",
        "colab": {
          "base_uri": "https://localhost:8080/",
          "height": 541
        },
        "outputId": "49670bad-c92b-4d76-9dd7-0350b010120a"
      },
      "source": [
        "initializeTurtle(initial_speed=10)\n",
        "color('green')\n",
        "bgcolor('yellow')\n",
        "forward(calculate_diameter(circumference=360)*2)\n",
        "right(degrees=90)\n",
        "for _ in range(180):\n",
        "  forward(units=1)\n",
        "  right(degrees=1)\n",
        "left(degrees=180)\n",
        "for _ in range(180):\n",
        "  forward(units=1)\n",
        "  right(degrees=1)\n",
        "right(degrees=90)"
      ],
      "execution_count": 21,
      "outputs": [
        {
          "output_type": "display_data",
          "data": {
            "text/html": [
              "\n",
              "      <svg width=\"800\" height=\"500\">\n",
              "        <rect width=\"100%\" height=\"100%\" fill=\"yellow\"/>\n",
              "        <line x1=\"400\" y1=\"250\" x2=\"399.99999999999994\" y2=\"22.0\" stroke-linecap=\"round\" style=\"stroke:green;stroke-width:4\"/><line x1=\"399.99999999999994\" y1=\"22.0\" x2=\"400.99999999999994\" y2=\"22.0\" stroke-linecap=\"round\" style=\"stroke:green;stroke-width:4\"/><line x1=\"400.99999999999994\" y1=\"22.0\" x2=\"401.99984769515635\" y2=\"22.017452406437283\" stroke-linecap=\"round\" style=\"stroke:green;stroke-width:4\"/><line x1=\"401.99984769515635\" y1=\"22.017452406437283\" x2=\"402.99923852217546\" y2=\"22.052351903139783\" stroke-linecap=\"round\" style=\"stroke:green;stroke-width:4\"/><line x1=\"402.99923852217546\" y1=\"22.052351903139783\" x2=\"403.99786805693003\" y2=\"22.10468785938273\" stroke-linecap=\"round\" style=\"stroke:green;stroke-width:4\"/><line x1=\"403.99786805693003\" y1=\"22.10468785938273\" x2=\"404.99543210718986\" y2=\"22.174444333126853\" stroke-linecap=\"round\" style=\"stroke:green;stroke-width:4\"/><line x1=\"404.99543210718986\" y1=\"22.174444333126853\" x2=\"405.9916268052816\" y2=\"22.26160007587451\" stroke-linecap=\"round\" style=\"stroke:green;stroke-width:4\"/><line x1=\"405.9916268052816\" y1=\"22.26160007587451\" x2=\"406.9861487006499\" y2=\"22.366128539142164\" stroke-linecap=\"round\" style=\"stroke:green;stroke-width:4\"/><line x1=\"406.9861487006499\" y1=\"22.366128539142164\" x2=\"407.9786948522912\" y2=\"22.48799788254731\" stroke-linecap=\"round\" style=\"stroke:green;stroke-width:4\"/><line x1=\"407.9786948522912\" y1=\"22.48799788254731\" x2=\"408.96896292103276\" y2=\"22.627170983507376\" stroke-linecap=\"round\" style=\"stroke:green;stroke-width:4\"/><line x1=\"408.96896292103276\" y1=\"22.627170983507376\" x2=\"409.9566512616279\" y2=\"22.783605448547608\" stroke-linecap=\"round\" style=\"stroke:green;stroke-width:4\"/><line x1=\"409.9566512616279\" y1=\"22.783605448547608\" x2=\"410.9414590146401\" y2=\"22.957253626214538\" stroke-linecap=\"round\" style=\"stroke:green;stroke-width:4\"/><line x1=\"410.9414590146401\" y1=\"22.957253626214538\" x2=\"411.92308619808773\" y2=\"23.148062621591084\" stroke-linecap=\"round\" style=\"stroke:green;stroke-width:4\"/><line x1=\"411.92308619808773\" y1=\"23.148062621591084\" x2=\"412.9012337988215\" y2=\"23.355974312408843\" stroke-linecap=\"round\" style=\"stroke:green;stroke-width:4\"/><line x1=\"412.9012337988215\" y1=\"23.355974312408843\" x2=\"413.8756038636068\" y2=\"23.58092536675271\" stroke-linecap=\"round\" style=\"stroke:green;stroke-width:4\"/><line x1=\"413.8756038636068\" y1=\"23.58092536675271\" x2=\"414.8458995898828\" y2=\"23.822847262352376\" stroke-linecap=\"round\" style=\"stroke:green;stroke-width:4\"/><line x1=\"414.8458995898828\" y1=\"23.822847262352376\" x2=\"415.81182541617187\" y2=\"24.081666307454896\" stroke-linecap=\"round\" style=\"stroke:green;stroke-width:4\"/><line x1=\"415.81182541617187\" y1=\"24.081666307454896\" x2=\"416.7730871121102\" y2=\"24.357303663271896\" stroke-linecap=\"round\" style=\"stroke:green;stroke-width:4\"/><line x1=\"416.7730871121102\" y1=\"24.357303663271896\" x2=\"417.72939186807326\" y2=\"24.649675367994632\" stroke-linecap=\"round\" style=\"stroke:green;stroke-width:4\"/><line x1=\"417.72939186807326\" y1=\"24.649675367994632\" x2=\"418.6804483843684\" y2=\"24.95869236236958\" stroke-linecap=\"round\" style=\"stroke:green;stroke-width:4\"/><line x1=\"418.6804483843684\" y1=\"24.95869236236958\" x2=\"419.6259669599677\" y2=\"25.284260516826734\" stroke-linecap=\"round\" style=\"stroke:green;stroke-width:4\"/><line x1=\"419.6259669599677\" y1=\"25.284260516826734\" x2=\"420.5656595807536\" y2=\"25.626280660152403\" stroke-linecap=\"round\" style=\"stroke:green;stroke-width:4\"/><line x1=\"420.5656595807536\" y1=\"25.626280660152403\" x2=\"421.4992400072508\" y2=\"25.984648609697704\" stroke-linecap=\"round\" style=\"stroke:green;stroke-width:4\"/><line x1=\"421.4992400072508\" y1=\"25.984648609697704\" x2=\"422.4264238618176\" y2=\"26.359255203113616\" stroke-linecap=\"round\" style=\"stroke:green;stroke-width:4\"/><line x1=\"422.4264238618176\" y1=\"26.359255203113616\" x2=\"423.34692871527005\" y2=\"26.74998633160289\" stroke-linecap=\"round\" style=\"stroke:green;stroke-width:4\"/><line x1=\"423.34692871527005\" y1=\"26.74998633160289\" x2=\"424.26047417291267\" y2=\"27.15672297467869\" stroke-linecap=\"round\" style=\"stroke:green;stroke-width:4\"/><line x1=\"424.26047417291267\" y1=\"27.15672297467869\" x2=\"425.16678195994933\" y2=\"27.57934123641939\" stroke-linecap=\"round\" style=\"stroke:green;stroke-width:4\"/><line x1=\"425.16678195994933\" y1=\"27.57934123641939\" x2=\"426.0655760062485\" y2=\"28.017712383208465\" stroke-linecap=\"round\" style=\"stroke:green;stroke-width:4\"/><line x1=\"426.0655760062485\" y1=\"28.017712383208465\" x2=\"426.95658253043683\" y2=\"28.471702882948012\" stroke-linecap=\"round\" style=\"stroke:green;stroke-width:4\"/><line x1=\"426.95658253043683\" y1=\"28.471702882948012\" x2=\"427.8395301232958\" y2=\"28.941174445733903\" stroke-linecap=\"round\" style=\"stroke:green;stroke-width:4\"/><line x1=\"427.8395301232958\" y1=\"28.941174445733903\" x2=\"428.7141498304352\" y2=\"29.42598406598024\" stroke-linecap=\"round\" style=\"stroke:green;stroke-width:4\"/><line x1=\"428.7141498304352\" y1=\"29.42598406598024\" x2=\"429.5801752342196\" y2=\"29.92598406598024\" stroke-linecap=\"round\" style=\"stroke:green;stroke-width:4\"/><line x1=\"429.5801752342196\" y1=\"29.92598406598024\" x2=\"430.4373425349217\" y2=\"30.441022140890297\" stroke-linecap=\"round\" style=\"stroke:green;stroke-width:4\"/><line x1=\"430.4373425349217\" y1=\"30.441022140890297\" x2=\"431.28539063107814\" y2=\"30.9709414051235\" stroke-linecap=\"round\" style=\"stroke:green;stroke-width:4\"/><line x1=\"431.28539063107814\" y1=\"30.9709414051235\" x2=\"432.1240611990236\" y2=\"31.515580440138528\" stroke-linecap=\"round\" style=\"stroke:green;stroke-width:4\"/><line x1=\"432.1240611990236\" y1=\"31.515580440138528\" x2=\"432.9530987715786\" y2=\"32.07477334360927\" stroke-linecap=\"round\" style=\"stroke:green;stroke-width:4\"/><line x1=\"432.9530987715786\" y1=\"32.07477334360927\" x2=\"433.7722508158676\" y2=\"32.64834977996032\" stroke-linecap=\"round\" style=\"stroke:green;stroke-width:4\"/><line x1=\"433.7722508158676\" y1=\"32.64834977996032\" x2=\"434.58126781024254\" y2=\"33.23613503225279\" stroke-linecap=\"round\" style=\"stroke:green;stroke-width:4\"/><line x1=\"434.58126781024254\" y1=\"33.23613503225279\" x2=\"435.3799033202898\" y2=\"33.83795005540484\" stroke-linecap=\"round\" style=\"stroke:green;stroke-width:4\"/><line x1=\"435.3799033202898\" y1=\"33.83795005540484\" x2=\"436.16791407389655\" y2=\"34.4536115307305\" stroke-linecap=\"round\" style=\"stroke:green;stroke-width:4\"/><line x1=\"436.16791407389655\" y1=\"34.4536115307305\" x2=\"436.94506003535355\" y2=\"35.082931921780336\" stroke-linecap=\"round\" style=\"stroke:green;stroke-width:4\"/><line x1=\"436.94506003535355\" y1=\"35.082931921780336\" x2=\"437.7111044784725\" y2=\"35.72571953146687\" stroke-linecap=\"round\" style=\"stroke:green;stroke-width:4\"/><line x1=\"437.7111044784725\" y1=\"35.72571953146687\" x2=\"438.4658140586953\" y2=\"36.38177856045738\" stroke-linecap=\"round\" style=\"stroke:green;stroke-width:4\"/><line x1=\"438.4658140586953\" y1=\"36.38177856045738\" x2=\"439.20895888417266\" y2=\"37.05090916681623\" stroke-linecap=\"round\" style=\"stroke:green;stroke-width:4\"/><line x1=\"439.20895888417266\" y1=\"37.05090916681623\" x2=\"439.94031258579184\" y2=\"37.73290752687873\" stroke-linecap=\"round\" style=\"stroke:green;stroke-width:4\"/><line x1=\"439.94031258579184\" y1=\"37.73290752687873\" x2=\"440.6596523861305\" y2=\"38.42756589733773\" stroke-linecap=\"round\" style=\"stroke:green;stroke-width:4\"/><line x1=\"440.6596523861305\" y1=\"38.42756589733773\" x2=\"441.36675916731707\" y2=\"39.134672678524275\" stroke-linecap=\"round\" style=\"stroke:green;stroke-width:4\"/><line x1=\"441.36675916731707\" y1=\"39.134672678524275\" x2=\"442.0614175377761\" y2=\"39.85401247886293\" stroke-linecap=\"round\" style=\"stroke:green;stroke-width:4\"/><line x1=\"442.0614175377761\" y1=\"39.85401247886293\" x2=\"442.7434158978386\" y2=\"40.5853661804821\" stroke-linecap=\"round\" style=\"stroke:green;stroke-width:4\"/><line x1=\"442.7434158978386\" y1=\"40.5853661804821\" x2=\"443.41254650419745\" y2=\"41.32851100595949\" stroke-linecap=\"round\" style=\"stroke:green;stroke-width:4\"/><line x1=\"443.41254650419745\" y1=\"41.32851100595949\" x2=\"444.06860553318796\" y2=\"42.083220586182264\" stroke-linecap=\"round\" style=\"stroke:green;stroke-width:4\"/><line x1=\"444.06860553318796\" y1=\"42.083220586182264\" x2=\"444.7113931428745\" y2=\"42.84926502930124\" stroke-linecap=\"round\" style=\"stroke:green;stroke-width:4\"/><line x1=\"444.7113931428745\" y1=\"42.84926502930124\" x2=\"445.3407135339243\" y2=\"43.62641099075822\" stroke-linecap=\"round\" style=\"stroke:green;stroke-width:4\"/><line x1=\"445.3407135339243\" y1=\"43.62641099075822\" x2=\"445.95637500925\" y2=\"44.41442174436494\" stroke-linecap=\"round\" style=\"stroke:green;stroke-width:4\"/><line x1=\"445.95637500925\" y1=\"44.41442174436494\" x2=\"446.558190032402\" y2=\"45.21305725441223\" stroke-linecap=\"round\" style=\"stroke:green;stroke-width:4\"/><line x1=\"446.558190032402\" y1=\"45.21305725441223\" x2=\"447.1459752846945\" y2=\"46.02207424878718\" stroke-linecap=\"round\" style=\"stroke:green;stroke-width:4\"/><line x1=\"447.1459752846945\" y1=\"46.02207424878718\" x2=\"447.71955172104555\" y2=\"46.84122629307617\" stroke-linecap=\"round\" style=\"stroke:green;stroke-width:4\"/><line x1=\"447.71955172104555\" y1=\"46.84122629307617\" x2=\"448.2787446245163\" y2=\"47.67026386563121\" stroke-linecap=\"round\" style=\"stroke:green;stroke-width:4\"/><line x1=\"448.2787446245163\" y1=\"47.67026386563121\" x2=\"448.8233836595314\" y2=\"48.508934433576634\" stroke-linecap=\"round\" style=\"stroke:green;stroke-width:4\"/><line x1=\"448.8233836595314\" y1=\"48.508934433576634\" x2=\"449.3533029237646\" y2=\"49.35698252973306\" stroke-linecap=\"round\" style=\"stroke:green;stroke-width:4\"/><line x1=\"449.3533029237646\" y1=\"49.35698252973306\" x2=\"449.8683409986747\" y2=\"50.21414983043517\" stroke-linecap=\"round\" style=\"stroke:green;stroke-width:4\"/><line x1=\"449.8683409986747\" y1=\"50.21414983043517\" x2=\"450.3683409986747\" y2=\"51.08017523421961\" stroke-linecap=\"round\" style=\"stroke:green;stroke-width:4\"/><line x1=\"450.3683409986747\" y1=\"51.08017523421961\" x2=\"450.853150618921\" y2=\"51.954794941359005\" stroke-linecap=\"round\" style=\"stroke:green;stroke-width:4\"/><line x1=\"450.853150618921\" y1=\"51.954794941359005\" x2=\"451.3226221817069\" y2=\"52.83774253421793\" stroke-linecap=\"round\" style=\"stroke:green;stroke-width:4\"/><line x1=\"451.3226221817069\" y1=\"52.83774253421793\" x2=\"451.77661268144647\" y2=\"53.7287490584063\" stroke-linecap=\"round\" style=\"stroke:green;stroke-width:4\"/><line x1=\"451.77661268144647\" y1=\"53.7287490584063\" x2=\"452.2149838282355\" y2=\"54.62754310470547\" stroke-linecap=\"round\" style=\"stroke:green;stroke-width:4\"/><line x1=\"452.2149838282355\" y1=\"54.62754310470547\" x2=\"452.6376020899762\" y2=\"55.53385089174212\" stroke-linecap=\"round\" style=\"stroke:green;stroke-width:4\"/><line x1=\"452.6376020899762\" y1=\"55.53385089174212\" x2=\"453.04433873305203\" y2=\"56.44739634938472\" stroke-linecap=\"round\" style=\"stroke:green;stroke-width:4\"/><line x1=\"453.04433873305203\" y1=\"56.44739634938472\" x2=\"453.4350698615413\" y2=\"57.36790120283716\" stroke-linecap=\"round\" style=\"stroke:green;stroke-width:4\"/><line x1=\"453.4350698615413\" y1=\"57.36790120283716\" x2=\"453.80967645495724\" y2=\"58.295085057403945\" stroke-linecap=\"round\" style=\"stroke:green;stroke-width:4\"/><line x1=\"453.80967645495724\" y1=\"58.295085057403945\" x2=\"454.16804440450255\" y2=\"59.228665483901146\" stroke-linecap=\"round\" style=\"stroke:green;stroke-width:4\"/><line x1=\"454.16804440450255\" y1=\"59.228665483901146\" x2=\"454.5100645478282\" y2=\"60.16835810468705\" stroke-linecap=\"round\" style=\"stroke:green;stroke-width:4\"/><line x1=\"454.5100645478282\" y1=\"60.16835810468705\" x2=\"454.83563270228535\" y2=\"61.11387668028637\" stroke-linecap=\"round\" style=\"stroke:green;stroke-width:4\"/><line x1=\"454.83563270228535\" y1=\"61.11387668028637\" x2=\"455.1446496966603\" y2=\"62.06493319658152\" stroke-linecap=\"round\" style=\"stroke:green;stroke-width:4\"/><line x1=\"455.1446496966603\" y1=\"62.06493319658152\" x2=\"455.437021401383\" y2=\"63.02123795254455\" stroke-linecap=\"round\" style=\"stroke:green;stroke-width:4\"/><line x1=\"455.437021401383\" y1=\"63.02123795254455\" x2=\"455.7126587572\" y2=\"63.98249964848287\" stroke-linecap=\"round\" style=\"stroke:green;stroke-width:4\"/><line x1=\"455.7126587572\" y1=\"63.98249964848287\" x2=\"455.97147780230256\" y2=\"64.94842547477194\" stroke-linecap=\"round\" style=\"stroke:green;stroke-width:4\"/><line x1=\"455.97147780230256\" y1=\"64.94842547477194\" x2=\"456.2133996979022\" y2=\"65.91872120104793\" stroke-linecap=\"round\" style=\"stroke:green;stroke-width:4\"/><line x1=\"456.2133996979022\" y1=\"65.91872120104793\" x2=\"456.4383507522461\" y2=\"66.89309126583316\" stroke-linecap=\"round\" style=\"stroke:green;stroke-width:4\"/><line x1=\"456.4383507522461\" y1=\"66.89309126583316\" x2=\"456.64626244306385\" y2=\"67.87123886656697\" stroke-linecap=\"round\" style=\"stroke:green;stroke-width:4\"/><line x1=\"456.64626244306385\" y1=\"67.87123886656697\" x2=\"456.8370714384404\" y2=\"68.85286605001464\" stroke-linecap=\"round\" style=\"stroke:green;stroke-width:4\"/><line x1=\"456.8370714384404\" y1=\"68.85286605001464\" x2=\"457.0107196161073\" y2=\"69.83767380302685\" stroke-linecap=\"round\" style=\"stroke:green;stroke-width:4\"/><line x1=\"457.0107196161073\" y1=\"69.83767380302685\" x2=\"457.1671540811475\" y2=\"70.82536214362199\" stroke-linecap=\"round\" style=\"stroke:green;stroke-width:4\"/><line x1=\"457.1671540811475\" y1=\"70.82536214362199\" x2=\"457.30632718210757\" y2=\"71.81563021236356\" stroke-linecap=\"round\" style=\"stroke:green;stroke-width:4\"/><line x1=\"457.30632718210757\" y1=\"71.81563021236356\" x2=\"457.4281965255127\" y2=\"72.80817636400488\" stroke-linecap=\"round\" style=\"stroke:green;stroke-width:4\"/><line x1=\"457.4281965255127\" y1=\"72.80817636400488\" x2=\"457.53272498878033\" y2=\"73.80269825937316\" stroke-linecap=\"round\" style=\"stroke:green;stroke-width:4\"/><line x1=\"457.53272498878033\" y1=\"73.80269825937316\" x2=\"457.619880731528\" y2=\"74.7988929574649\" stroke-linecap=\"round\" style=\"stroke:green;stroke-width:4\"/><line x1=\"457.619880731528\" y1=\"74.7988929574649\" x2=\"457.6896372052721\" y2=\"75.79645700772473\" stroke-linecap=\"round\" style=\"stroke:green;stroke-width:4\"/><line x1=\"457.6896372052721\" y1=\"75.79645700772473\" x2=\"457.74197316151503\" y2=\"76.7950865424793\" stroke-linecap=\"round\" style=\"stroke:green;stroke-width:4\"/><line x1=\"457.74197316151503\" y1=\"76.7950865424793\" x2=\"457.77687265821754\" y2=\"77.7944773694984\" stroke-linecap=\"round\" style=\"stroke:green;stroke-width:4\"/><line x1=\"457.77687265821754\" y1=\"77.7944773694984\" x2=\"457.7943250646548\" y2=\"78.79432506465479\" stroke-linecap=\"round\" style=\"stroke:green;stroke-width:4\"/><line x1=\"457.7943250646548\" y1=\"78.79432506465479\" x2=\"457.7943250646548\" y2=\"79.79432506465479\" stroke-linecap=\"round\" style=\"stroke:green;stroke-width:4\"/><line x1=\"457.7943250646548\" y1=\"79.79432506465479\" x2=\"457.77687265821754\" y2=\"80.79417275981118\" stroke-linecap=\"round\" style=\"stroke:green;stroke-width:4\"/><line x1=\"457.77687265821754\" y1=\"80.79417275981118\" x2=\"457.74197316151503\" y2=\"81.79356358683027\" stroke-linecap=\"round\" style=\"stroke:green;stroke-width:4\"/><line x1=\"457.74197316151503\" y1=\"81.79356358683027\" x2=\"457.6896372052721\" y2=\"82.79219312158484\" stroke-linecap=\"round\" style=\"stroke:green;stroke-width:4\"/><line x1=\"457.6896372052721\" y1=\"82.79219312158484\" x2=\"457.619880731528\" y2=\"83.78975717184467\" stroke-linecap=\"round\" style=\"stroke:green;stroke-width:4\"/><line x1=\"457.619880731528\" y1=\"83.78975717184467\" x2=\"457.53272498878033\" y2=\"84.78595186993641\" stroke-linecap=\"round\" style=\"stroke:green;stroke-width:4\"/><line x1=\"457.53272498878033\" y1=\"84.78595186993641\" x2=\"457.4281965255127\" y2=\"85.78047376530469\" stroke-linecap=\"round\" style=\"stroke:green;stroke-width:4\"/><line x1=\"457.4281965255127\" y1=\"85.78047376530469\" x2=\"457.30632718210757\" y2=\"86.77301991694601\" stroke-linecap=\"round\" style=\"stroke:green;stroke-width:4\"/><line x1=\"457.30632718210757\" y1=\"86.77301991694601\" x2=\"457.1671540811475\" y2=\"87.76328798568758\" stroke-linecap=\"round\" style=\"stroke:green;stroke-width:4\"/><line x1=\"457.1671540811475\" y1=\"87.76328798568758\" x2=\"457.0107196161073\" y2=\"88.75097632628272\" stroke-linecap=\"round\" style=\"stroke:green;stroke-width:4\"/><line x1=\"457.0107196161073\" y1=\"88.75097632628272\" x2=\"456.8370714384404\" y2=\"89.73578407929493\" stroke-linecap=\"round\" style=\"stroke:green;stroke-width:4\"/><line x1=\"456.8370714384404\" y1=\"89.73578407929493\" x2=\"456.64626244306385\" y2=\"90.7174112627426\" stroke-linecap=\"round\" style=\"stroke:green;stroke-width:4\"/><line x1=\"456.64626244306385\" y1=\"90.7174112627426\" x2=\"456.4383507522461\" y2=\"91.6955588634764\" stroke-linecap=\"round\" style=\"stroke:green;stroke-width:4\"/><line x1=\"456.4383507522461\" y1=\"91.6955588634764\" x2=\"456.2133996979022\" y2=\"92.66992892826164\" stroke-linecap=\"round\" style=\"stroke:green;stroke-width:4\"/><line x1=\"456.2133996979022\" y1=\"92.66992892826164\" x2=\"455.97147780230256\" y2=\"93.64022465453763\" stroke-linecap=\"round\" style=\"stroke:green;stroke-width:4\"/><line x1=\"455.97147780230256\" y1=\"93.64022465453763\" x2=\"455.7126587572\" y2=\"94.6061504808267\" stroke-linecap=\"round\" style=\"stroke:green;stroke-width:4\"/><line x1=\"455.7126587572\" y1=\"94.6061504808267\" x2=\"455.437021401383\" y2=\"95.56741217676502\" stroke-linecap=\"round\" style=\"stroke:green;stroke-width:4\"/><line x1=\"455.437021401383\" y1=\"95.56741217676502\" x2=\"455.1446496966603\" y2=\"96.52371693272805\" stroke-linecap=\"round\" style=\"stroke:green;stroke-width:4\"/><line x1=\"455.1446496966603\" y1=\"96.52371693272805\" x2=\"454.83563270228535\" y2=\"97.4747734490232\" stroke-linecap=\"round\" style=\"stroke:green;stroke-width:4\"/><line x1=\"454.83563270228535\" y1=\"97.4747734490232\" x2=\"454.5100645478282\" y2=\"98.42029202462253\" stroke-linecap=\"round\" style=\"stroke:green;stroke-width:4\"/><line x1=\"454.5100645478282\" y1=\"98.42029202462253\" x2=\"454.16804440450255\" y2=\"99.35998464540843\" stroke-linecap=\"round\" style=\"stroke:green;stroke-width:4\"/><line x1=\"454.16804440450255\" y1=\"99.35998464540843\" x2=\"453.80967645495724\" y2=\"100.29356507190563\" stroke-linecap=\"round\" style=\"stroke:green;stroke-width:4\"/><line x1=\"453.80967645495724\" y1=\"100.29356507190563\" x2=\"453.4350698615413\" y2=\"101.22074892647242\" stroke-linecap=\"round\" style=\"stroke:green;stroke-width:4\"/><line x1=\"453.4350698615413\" y1=\"101.22074892647242\" x2=\"453.04433873305203\" y2=\"102.14125377992487\" stroke-linecap=\"round\" style=\"stroke:green;stroke-width:4\"/><line x1=\"453.04433873305203\" y1=\"102.14125377992487\" x2=\"452.6376020899762\" y2=\"103.05479923756747\" stroke-linecap=\"round\" style=\"stroke:green;stroke-width:4\"/><line x1=\"452.6376020899762\" y1=\"103.05479923756747\" x2=\"452.2149838282355\" y2=\"103.96110702460412\" stroke-linecap=\"round\" style=\"stroke:green;stroke-width:4\"/><line x1=\"452.2149838282355\" y1=\"103.96110702460412\" x2=\"451.77661268144647\" y2=\"104.85990107090329\" stroke-linecap=\"round\" style=\"stroke:green;stroke-width:4\"/><line x1=\"451.77661268144647\" y1=\"104.85990107090329\" x2=\"451.32262218170695\" y2=\"105.75090759509166\" stroke-linecap=\"round\" style=\"stroke:green;stroke-width:4\"/><line x1=\"451.32262218170695\" y1=\"105.75090759509166\" x2=\"450.85315061892106\" y2=\"106.63385518795059\" stroke-linecap=\"round\" style=\"stroke:green;stroke-width:4\"/><line x1=\"450.85315061892106\" y1=\"106.63385518795059\" x2=\"450.36834099867474\" y2=\"107.50847489508999\" stroke-linecap=\"round\" style=\"stroke:green;stroke-width:4\"/><line x1=\"450.36834099867474\" y1=\"107.50847489508999\" x2=\"449.86834099867474\" y2=\"108.37450029887442\" stroke-linecap=\"round\" style=\"stroke:green;stroke-width:4\"/><line x1=\"449.86834099867474\" y1=\"108.37450029887442\" x2=\"449.35330292376466\" y2=\"109.23166759957654\" stroke-linecap=\"round\" style=\"stroke:green;stroke-width:4\"/><line x1=\"449.35330292376466\" y1=\"109.23166759957654\" x2=\"448.82338365953143\" y2=\"110.07971569573297\" stroke-linecap=\"round\" style=\"stroke:green;stroke-width:4\"/><line x1=\"448.82338365953143\" y1=\"110.07971569573297\" x2=\"448.2787446245164\" y2=\"110.9183862636784\" stroke-linecap=\"round\" style=\"stroke:green;stroke-width:4\"/><line x1=\"448.2787446245164\" y1=\"110.9183862636784\" x2=\"447.7195517210456\" y2=\"111.74742383623344\" stroke-linecap=\"round\" style=\"stroke:green;stroke-width:4\"/><line x1=\"447.7195517210456\" y1=\"111.74742383623344\" x2=\"447.14597528469454\" y2=\"112.56657588052244\" stroke-linecap=\"round\" style=\"stroke:green;stroke-width:4\"/><line x1=\"447.14597528469454\" y1=\"112.56657588052244\" x2=\"446.5581900324021\" y2=\"113.37559287489738\" stroke-linecap=\"round\" style=\"stroke:green;stroke-width:4\"/><line x1=\"446.5581900324021\" y1=\"113.37559287489738\" x2=\"445.95637500925005\" y2=\"114.17422838494467\" stroke-linecap=\"round\" style=\"stroke:green;stroke-width:4\"/><line x1=\"445.95637500925005\" y1=\"114.17422838494467\" x2=\"445.3407135339244\" y2=\"114.9622391385514\" stroke-linecap=\"round\" style=\"stroke:green;stroke-width:4\"/><line x1=\"445.3407135339244\" y1=\"114.9622391385514\" x2=\"444.71139314287456\" y2=\"115.73938510000836\" stroke-linecap=\"round\" style=\"stroke:green;stroke-width:4\"/><line x1=\"444.71139314287456\" y1=\"115.73938510000836\" x2=\"444.068605533188\" y2=\"116.50542954312733\" stroke-linecap=\"round\" style=\"stroke:green;stroke-width:4\"/><line x1=\"444.068605533188\" y1=\"116.50542954312733\" x2=\"443.4125465041975\" y2=\"117.2601391233501\" stroke-linecap=\"round\" style=\"stroke:green;stroke-width:4\"/><line x1=\"443.4125465041975\" y1=\"117.2601391233501\" x2=\"442.74341589783864\" y2=\"118.0032839488275\" stroke-linecap=\"round\" style=\"stroke:green;stroke-width:4\"/><line x1=\"442.74341589783864\" y1=\"118.0032839488275\" x2=\"442.06141753777615\" y2=\"118.73463765044667\" stroke-linecap=\"round\" style=\"stroke:green;stroke-width:4\"/><line x1=\"442.06141753777615\" y1=\"118.73463765044667\" x2=\"441.3667591673171\" y2=\"119.45397745078532\" stroke-linecap=\"round\" style=\"stroke:green;stroke-width:4\"/><line x1=\"441.3667591673171\" y1=\"119.45397745078532\" x2=\"440.6596523861306\" y2=\"120.16108423197187\" stroke-linecap=\"round\" style=\"stroke:green;stroke-width:4\"/><line x1=\"440.6596523861306\" y1=\"120.16108423197187\" x2=\"439.9403125857919\" y2=\"120.85574260243087\" stroke-linecap=\"round\" style=\"stroke:green;stroke-width:4\"/><line x1=\"439.9403125857919\" y1=\"120.85574260243087\" x2=\"439.2089588841727\" y2=\"121.53774096249336\" stroke-linecap=\"round\" style=\"stroke:green;stroke-width:4\"/><line x1=\"439.2089588841727\" y1=\"121.53774096249336\" x2=\"438.46581405869534\" y2=\"122.20687156885222\" stroke-linecap=\"round\" style=\"stroke:green;stroke-width:4\"/><line x1=\"438.46581405869534\" y1=\"122.20687156885222\" x2=\"437.7111044784726\" y2=\"122.86293059784273\" stroke-linecap=\"round\" style=\"stroke:green;stroke-width:4\"/><line x1=\"437.7111044784726\" y1=\"122.86293059784273\" x2=\"436.9450600353536\" y2=\"123.50571820752927\" stroke-linecap=\"round\" style=\"stroke:green;stroke-width:4\"/><line x1=\"436.9450600353536\" y1=\"123.50571820752927\" x2=\"436.1679140738966\" y2=\"124.1350385985791\" stroke-linecap=\"round\" style=\"stroke:green;stroke-width:4\"/><line x1=\"436.1679140738966\" y1=\"124.1350385985791\" x2=\"435.3799033202899\" y2=\"124.75070007390475\" stroke-linecap=\"round\" style=\"stroke:green;stroke-width:4\"/><line x1=\"435.3799033202899\" y1=\"124.75070007390475\" x2=\"434.5812678102426\" y2=\"125.3525150970568\" stroke-linecap=\"round\" style=\"stroke:green;stroke-width:4\"/><line x1=\"434.5812678102426\" y1=\"125.3525150970568\" x2=\"433.77225081586766\" y2=\"125.94030034934927\" stroke-linecap=\"round\" style=\"stroke:green;stroke-width:4\"/><line x1=\"433.77225081586766\" y1=\"125.94030034934927\" x2=\"432.95309877157865\" y2=\"126.51387678570032\" stroke-linecap=\"round\" style=\"stroke:green;stroke-width:4\"/><line x1=\"432.95309877157865\" y1=\"126.51387678570032\" x2=\"432.12406119902363\" y2=\"127.07306968917106\" stroke-linecap=\"round\" style=\"stroke:green;stroke-width:4\"/><line x1=\"432.12406119902363\" y1=\"127.07306968917106\" x2=\"431.2853906310782\" y2=\"127.61770872418609\" stroke-linecap=\"round\" style=\"stroke:green;stroke-width:4\"/><line x1=\"431.2853906310782\" y1=\"127.61770872418609\" x2=\"430.43734253492175\" y2=\"128.1476279884193\" stroke-linecap=\"round\" style=\"stroke:green;stroke-width:4\"/><line x1=\"430.43734253492175\" y1=\"128.1476279884193\" x2=\"429.58017523421967\" y2=\"128.66266606332934\" stroke-linecap=\"round\" style=\"stroke:green;stroke-width:4\"/><line x1=\"429.58017523421967\" y1=\"128.66266606332934\" x2=\"428.71414983043525\" y2=\"129.16266606332934\" stroke-linecap=\"round\" style=\"stroke:green;stroke-width:4\"/><line x1=\"428.71414983043525\" y1=\"129.16266606332934\" x2=\"427.83953012329584\" y2=\"129.64747568357566\" stroke-linecap=\"round\" style=\"stroke:green;stroke-width:4\"/><line x1=\"427.83953012329584\" y1=\"129.64747568357566\" x2=\"426.9565825304369\" y2=\"130.11694724636155\" stroke-linecap=\"round\" style=\"stroke:green;stroke-width:4\"/><line x1=\"426.9565825304369\" y1=\"130.11694724636155\" x2=\"426.06557600624853\" y2=\"130.5709377461011\" stroke-linecap=\"round\" style=\"stroke:green;stroke-width:4\"/><line x1=\"426.06557600624853\" y1=\"130.5709377461011\" x2=\"425.1667819599494\" y2=\"131.00930889289018\" stroke-linecap=\"round\" style=\"stroke:green;stroke-width:4\"/><line x1=\"425.1667819599494\" y1=\"131.00930889289018\" x2=\"424.2604741729127\" y2=\"131.43192715463087\" stroke-linecap=\"round\" style=\"stroke:green;stroke-width:4\"/><line x1=\"424.2604741729127\" y1=\"131.43192715463087\" x2=\"423.3469287152701\" y2=\"131.83866379770666\" stroke-linecap=\"round\" style=\"stroke:green;stroke-width:4\"/><line x1=\"423.3469287152701\" y1=\"131.83866379770666\" x2=\"422.4264238618177\" y2=\"132.22939492619594\" stroke-linecap=\"round\" style=\"stroke:green;stroke-width:4\"/><line x1=\"422.4264238618177\" y1=\"132.22939492619594\" x2=\"421.4992400072509\" y2=\"132.60400151961184\" stroke-linecap=\"round\" style=\"stroke:green;stroke-width:4\"/><line x1=\"421.4992400072509\" y1=\"132.60400151961184\" x2=\"420.5656595807537\" y2=\"132.96236946915715\" stroke-linecap=\"round\" style=\"stroke:green;stroke-width:4\"/><line x1=\"420.5656595807537\" y1=\"132.96236946915715\" x2=\"419.62596695996774\" y2=\"133.30438961248282\" stroke-linecap=\"round\" style=\"stroke:green;stroke-width:4\"/><line x1=\"419.62596695996774\" y1=\"133.30438961248282\" x2=\"418.68044838436845\" y2=\"133.62995776693998\" stroke-linecap=\"round\" style=\"stroke:green;stroke-width:4\"/><line x1=\"418.68044838436845\" y1=\"133.62995776693998\" x2=\"417.7293918680733\" y2=\"133.93897476131494\" stroke-linecap=\"round\" style=\"stroke:green;stroke-width:4\"/><line x1=\"417.7293918680733\" y1=\"133.93897476131494\" x2=\"416.77308711211026\" y2=\"134.23134646603768\" stroke-linecap=\"round\" style=\"stroke:green;stroke-width:4\"/><line x1=\"416.77308711211026\" y1=\"134.23134646603768\" x2=\"415.8118254161719\" y2=\"134.50698382185467\" stroke-linecap=\"round\" style=\"stroke:green;stroke-width:4\"/><line x1=\"415.8118254161719\" y1=\"134.50698382185467\" x2=\"414.84589958988283\" y2=\"134.7658028669572\" stroke-linecap=\"round\" style=\"stroke:green;stroke-width:4\"/><line x1=\"414.84589958988283\" y1=\"134.7658028669572\" x2=\"413.87560386360684\" y2=\"135.00772476255685\" stroke-linecap=\"round\" style=\"stroke:green;stroke-width:4\"/><line x1=\"413.87560386360684\" y1=\"135.00772476255685\" x2=\"412.9012337988216\" y2=\"135.23267581690072\" stroke-linecap=\"round\" style=\"stroke:green;stroke-width:4\"/><line x1=\"412.9012337988216\" y1=\"135.23267581690072\" x2=\"411.9230861980878\" y2=\"135.44058750771848\" stroke-linecap=\"round\" style=\"stroke:green;stroke-width:4\"/><line x1=\"411.9230861980878\" y1=\"135.44058750771848\" x2=\"410.94145901464015\" y2=\"135.63139650309503\" stroke-linecap=\"round\" style=\"stroke:green;stroke-width:4\"/><line x1=\"410.94145901464015\" y1=\"135.63139650309503\" x2=\"409.95665126162794\" y2=\"135.80504468076197\" stroke-linecap=\"round\" style=\"stroke:green;stroke-width:4\"/><line x1=\"409.95665126162794\" y1=\"135.80504468076197\" x2=\"408.9689629210328\" y2=\"135.9614791458022\" stroke-linecap=\"round\" style=\"stroke:green;stroke-width:4\"/><line x1=\"408.9689629210328\" y1=\"135.9614791458022\" x2=\"407.97869485229126\" y2=\"136.10065224676228\" stroke-linecap=\"round\" style=\"stroke:green;stroke-width:4\"/><line x1=\"407.97869485229126\" y1=\"136.10065224676228\" x2=\"406.98614870064995\" y2=\"136.22252159016742\" stroke-linecap=\"round\" style=\"stroke:green;stroke-width:4\"/><line x1=\"406.98614870064995\" y1=\"136.22252159016742\" x2=\"405.99162680528167\" y2=\"136.32705005343507\" stroke-linecap=\"round\" style=\"stroke:green;stroke-width:4\"/><line x1=\"405.99162680528167\" y1=\"136.32705005343507\" x2=\"404.9954321071899\" y2=\"136.41420579618273\" stroke-linecap=\"round\" style=\"stroke:green;stroke-width:4\"/><line x1=\"404.9954321071899\" y1=\"136.41420579618273\" x2=\"403.9978680569301\" y2=\"136.48396226992685\" stroke-linecap=\"round\" style=\"stroke:green;stroke-width:4\"/><line x1=\"403.9978680569301\" y1=\"136.48396226992685\" x2=\"402.9992385221755\" y2=\"136.5362982261698\" stroke-linecap=\"round\" style=\"stroke:green;stroke-width:4\"/><line x1=\"402.9992385221755\" y1=\"136.5362982261698\" x2=\"401.9998476951564\" y2=\"136.5711977228723\" stroke-linecap=\"round\" style=\"stroke:green;stroke-width:4\"/><line x1=\"401.9998476951564\" y1=\"136.5711977228723\" x2=\"401.0\" y2=\"136.5886501293096\" stroke-linecap=\"round\" style=\"stroke:green;stroke-width:4\"/><line x1=\"401.0\" y1=\"136.5886501293096\" x2=\"402.0\" y2=\"136.5886501293096\" stroke-linecap=\"round\" style=\"stroke:green;stroke-width:4\"/><line x1=\"402.0\" y1=\"136.5886501293096\" x2=\"402.9998476951564\" y2=\"136.60610253574688\" stroke-linecap=\"round\" style=\"stroke:green;stroke-width:4\"/><line x1=\"402.9998476951564\" y1=\"136.60610253574688\" x2=\"403.9992385221755\" y2=\"136.6410020324494\" stroke-linecap=\"round\" style=\"stroke:green;stroke-width:4\"/><line x1=\"403.9992385221755\" y1=\"136.6410020324494\" x2=\"404.9978680569301\" y2=\"136.69333798869235\" stroke-linecap=\"round\" style=\"stroke:green;stroke-width:4\"/><line x1=\"404.9978680569301\" y1=\"136.69333798869235\" x2=\"405.9954321071899\" y2=\"136.76309446243647\" stroke-linecap=\"round\" style=\"stroke:green;stroke-width:4\"/><line x1=\"405.9954321071899\" y1=\"136.76309446243647\" x2=\"406.99162680528167\" y2=\"136.85025020518412\" stroke-linecap=\"round\" style=\"stroke:green;stroke-width:4\"/><line x1=\"406.99162680528167\" y1=\"136.85025020518412\" x2=\"407.98614870064995\" y2=\"136.95477866845178\" stroke-linecap=\"round\" style=\"stroke:green;stroke-width:4\"/><line x1=\"407.98614870064995\" y1=\"136.95477866845178\" x2=\"408.97869485229126\" y2=\"137.07664801185692\" stroke-linecap=\"round\" style=\"stroke:green;stroke-width:4\"/><line x1=\"408.97869485229126\" y1=\"137.07664801185692\" x2=\"409.9689629210328\" y2=\"137.215821112817\" stroke-linecap=\"round\" style=\"stroke:green;stroke-width:4\"/><line x1=\"409.9689629210328\" y1=\"137.215821112817\" x2=\"410.95665126162794\" y2=\"137.37225557785723\" stroke-linecap=\"round\" style=\"stroke:green;stroke-width:4\"/><line x1=\"410.95665126162794\" y1=\"137.37225557785723\" x2=\"411.94145901464015\" y2=\"137.54590375552417\" stroke-linecap=\"round\" style=\"stroke:green;stroke-width:4\"/><line x1=\"411.94145901464015\" y1=\"137.54590375552417\" x2=\"412.9230861980878\" y2=\"137.73671275090072\" stroke-linecap=\"round\" style=\"stroke:green;stroke-width:4\"/><line x1=\"412.9230861980878\" y1=\"137.73671275090072\" x2=\"413.9012337988216\" y2=\"137.94462444171847\" stroke-linecap=\"round\" style=\"stroke:green;stroke-width:4\"/><line x1=\"413.9012337988216\" y1=\"137.94462444171847\" x2=\"414.87560386360684\" y2=\"138.16957549606235\" stroke-linecap=\"round\" style=\"stroke:green;stroke-width:4\"/><line x1=\"414.87560386360684\" y1=\"138.16957549606235\" x2=\"415.84589958988283\" y2=\"138.411497391662\" stroke-linecap=\"round\" style=\"stroke:green;stroke-width:4\"/><line x1=\"415.84589958988283\" y1=\"138.411497391662\" x2=\"416.8118254161719\" y2=\"138.67031643676452\" stroke-linecap=\"round\" style=\"stroke:green;stroke-width:4\"/><line x1=\"416.8118254161719\" y1=\"138.67031643676452\" x2=\"417.77308711211026\" y2=\"138.94595379258152\" stroke-linecap=\"round\" style=\"stroke:green;stroke-width:4\"/><line x1=\"417.77308711211026\" y1=\"138.94595379258152\" x2=\"418.7293918680733\" y2=\"139.23832549730426\" stroke-linecap=\"round\" style=\"stroke:green;stroke-width:4\"/><line x1=\"418.7293918680733\" y1=\"139.23832549730426\" x2=\"419.68044838436845\" y2=\"139.54734249167922\" stroke-linecap=\"round\" style=\"stroke:green;stroke-width:4\"/><line x1=\"419.68044838436845\" y1=\"139.54734249167922\" x2=\"420.62596695996774\" y2=\"139.87291064613638\" stroke-linecap=\"round\" style=\"stroke:green;stroke-width:4\"/><line x1=\"420.62596695996774\" y1=\"139.87291064613638\" x2=\"421.5656595807537\" y2=\"140.21493078946204\" stroke-linecap=\"round\" style=\"stroke:green;stroke-width:4\"/><line x1=\"421.5656595807537\" y1=\"140.21493078946204\" x2=\"422.4992400072509\" y2=\"140.57329873900736\" stroke-linecap=\"round\" style=\"stroke:green;stroke-width:4\"/><line x1=\"422.4992400072509\" y1=\"140.57329873900736\" x2=\"423.4264238618177\" y2=\"140.94790533242326\" stroke-linecap=\"round\" style=\"stroke:green;stroke-width:4\"/><line x1=\"423.4264238618177\" y1=\"140.94790533242326\" x2=\"424.3469287152701\" y2=\"141.33863646091254\" stroke-linecap=\"round\" style=\"stroke:green;stroke-width:4\"/><line x1=\"424.3469287152701\" y1=\"141.33863646091254\" x2=\"425.2604741729127\" y2=\"141.74537310398833\" stroke-linecap=\"round\" style=\"stroke:green;stroke-width:4\"/><line x1=\"425.2604741729127\" y1=\"141.74537310398833\" x2=\"426.1667819599494\" y2=\"142.16799136572902\" stroke-linecap=\"round\" style=\"stroke:green;stroke-width:4\"/><line x1=\"426.1667819599494\" y1=\"142.16799136572902\" x2=\"427.06557600624853\" y2=\"142.6063625125181\" stroke-linecap=\"round\" style=\"stroke:green;stroke-width:4\"/><line x1=\"427.06557600624853\" y1=\"142.6063625125181\" x2=\"427.9565825304369\" y2=\"143.06035301225765\" stroke-linecap=\"round\" style=\"stroke:green;stroke-width:4\"/><line x1=\"427.9565825304369\" y1=\"143.06035301225765\" x2=\"428.83953012329584\" y2=\"143.52982457504353\" stroke-linecap=\"round\" style=\"stroke:green;stroke-width:4\"/><line x1=\"428.83953012329584\" y1=\"143.52982457504353\" x2=\"429.71414983043525\" y2=\"144.01463419528986\" stroke-linecap=\"round\" style=\"stroke:green;stroke-width:4\"/><line x1=\"429.71414983043525\" y1=\"144.01463419528986\" x2=\"430.58017523421967\" y2=\"144.51463419528986\" stroke-linecap=\"round\" style=\"stroke:green;stroke-width:4\"/><line x1=\"430.58017523421967\" y1=\"144.51463419528986\" x2=\"431.43734253492175\" y2=\"145.0296722701999\" stroke-linecap=\"round\" style=\"stroke:green;stroke-width:4\"/><line x1=\"431.43734253492175\" y1=\"145.0296722701999\" x2=\"432.2853906310782\" y2=\"145.5595915344331\" stroke-linecap=\"round\" style=\"stroke:green;stroke-width:4\"/><line x1=\"432.2853906310782\" y1=\"145.5595915344331\" x2=\"433.12406119902363\" y2=\"146.10423056944813\" stroke-linecap=\"round\" style=\"stroke:green;stroke-width:4\"/><line x1=\"433.12406119902363\" y1=\"146.10423056944813\" x2=\"433.95309877157865\" y2=\"146.66342347291888\" stroke-linecap=\"round\" style=\"stroke:green;stroke-width:4\"/><line x1=\"433.95309877157865\" y1=\"146.66342347291888\" x2=\"434.77225081586766\" y2=\"147.2369999092699\" stroke-linecap=\"round\" style=\"stroke:green;stroke-width:4\"/><line x1=\"434.77225081586766\" y1=\"147.2369999092699\" x2=\"435.5812678102426\" y2=\"147.82478516156237\" stroke-linecap=\"round\" style=\"stroke:green;stroke-width:4\"/><line x1=\"435.5812678102426\" y1=\"147.82478516156237\" x2=\"436.3799033202899\" y2=\"148.42660018471443\" stroke-linecap=\"round\" style=\"stroke:green;stroke-width:4\"/><line x1=\"436.3799033202899\" y1=\"148.42660018471443\" x2=\"437.1679140738966\" y2=\"149.04226166004008\" stroke-linecap=\"round\" style=\"stroke:green;stroke-width:4\"/><line x1=\"437.1679140738966\" y1=\"149.04226166004008\" x2=\"437.9450600353536\" y2=\"149.67158205108993\" stroke-linecap=\"round\" style=\"stroke:green;stroke-width:4\"/><line x1=\"437.9450600353536\" y1=\"149.67158205108993\" x2=\"438.7111044784726\" y2=\"150.31436966077646\" stroke-linecap=\"round\" style=\"stroke:green;stroke-width:4\"/><line x1=\"438.7111044784726\" y1=\"150.31436966077646\" x2=\"439.46581405869534\" y2=\"150.97042868976698\" stroke-linecap=\"round\" style=\"stroke:green;stroke-width:4\"/><line x1=\"439.46581405869534\" y1=\"150.97042868976698\" x2=\"440.2089588841727\" y2=\"151.63955929612584\" stroke-linecap=\"round\" style=\"stroke:green;stroke-width:4\"/><line x1=\"440.2089588841727\" y1=\"151.63955929612584\" x2=\"440.9403125857919\" y2=\"152.32155765618833\" stroke-linecap=\"round\" style=\"stroke:green;stroke-width:4\"/><line x1=\"440.9403125857919\" y1=\"152.32155765618833\" x2=\"441.6596523861306\" y2=\"153.01621602664733\" stroke-linecap=\"round\" style=\"stroke:green;stroke-width:4\"/><line x1=\"441.6596523861306\" y1=\"153.01621602664733\" x2=\"442.3667591673171\" y2=\"153.72332280783388\" stroke-linecap=\"round\" style=\"stroke:green;stroke-width:4\"/><line x1=\"442.3667591673171\" y1=\"153.72332280783388\" x2=\"443.06141753777615\" y2=\"154.44266260817253\" stroke-linecap=\"round\" style=\"stroke:green;stroke-width:4\"/><line x1=\"443.06141753777615\" y1=\"154.44266260817253\" x2=\"443.74341589783864\" y2=\"155.1740163097917\" stroke-linecap=\"round\" style=\"stroke:green;stroke-width:4\"/><line x1=\"443.74341589783864\" y1=\"155.1740163097917\" x2=\"444.4125465041975\" y2=\"155.9171611352691\" stroke-linecap=\"round\" style=\"stroke:green;stroke-width:4\"/><line x1=\"444.4125465041975\" y1=\"155.9171611352691\" x2=\"445.068605533188\" y2=\"156.67187071549188\" stroke-linecap=\"round\" style=\"stroke:green;stroke-width:4\"/><line x1=\"445.068605533188\" y1=\"156.67187071549188\" x2=\"445.71139314287456\" y2=\"157.43791515861085\" stroke-linecap=\"round\" style=\"stroke:green;stroke-width:4\"/><line x1=\"445.71139314287456\" y1=\"157.43791515861085\" x2=\"446.3407135339244\" y2=\"158.21506112006782\" stroke-linecap=\"round\" style=\"stroke:green;stroke-width:4\"/><line x1=\"446.3407135339244\" y1=\"158.21506112006782\" x2=\"446.95637500925005\" y2=\"159.00307187367454\" stroke-linecap=\"round\" style=\"stroke:green;stroke-width:4\"/><line x1=\"446.95637500925005\" y1=\"159.00307187367454\" x2=\"447.5581900324021\" y2=\"159.80170738372183\" stroke-linecap=\"round\" style=\"stroke:green;stroke-width:4\"/><line x1=\"447.5581900324021\" y1=\"159.80170738372183\" x2=\"448.14597528469454\" y2=\"160.6107243780968\" stroke-linecap=\"round\" style=\"stroke:green;stroke-width:4\"/><line x1=\"448.14597528469454\" y1=\"160.6107243780968\" x2=\"448.7195517210456\" y2=\"161.42987642238577\" stroke-linecap=\"round\" style=\"stroke:green;stroke-width:4\"/><line x1=\"448.7195517210456\" y1=\"161.42987642238577\" x2=\"449.2787446245164\" y2=\"162.25891399494083\" stroke-linecap=\"round\" style=\"stroke:green;stroke-width:4\"/><line x1=\"449.2787446245164\" y1=\"162.25891399494083\" x2=\"449.82338365953143\" y2=\"163.09758456288625\" stroke-linecap=\"round\" style=\"stroke:green;stroke-width:4\"/><line x1=\"449.82338365953143\" y1=\"163.09758456288625\" x2=\"450.35330292376466\" y2=\"163.94563265904267\" stroke-linecap=\"round\" style=\"stroke:green;stroke-width:4\"/><line x1=\"450.35330292376466\" y1=\"163.94563265904267\" x2=\"450.86834099867474\" y2=\"164.8027999597448\" stroke-linecap=\"round\" style=\"stroke:green;stroke-width:4\"/><line x1=\"450.86834099867474\" y1=\"164.8027999597448\" x2=\"451.36834099867474\" y2=\"165.66882536352924\" stroke-linecap=\"round\" style=\"stroke:green;stroke-width:4\"/><line x1=\"451.36834099867474\" y1=\"165.66882536352924\" x2=\"451.85315061892106\" y2=\"166.54344507066864\" stroke-linecap=\"round\" style=\"stroke:green;stroke-width:4\"/><line x1=\"451.85315061892106\" y1=\"166.54344507066864\" x2=\"452.32262218170695\" y2=\"167.42639266352757\" stroke-linecap=\"round\" style=\"stroke:green;stroke-width:4\"/><line x1=\"452.32262218170695\" y1=\"167.42639266352757\" x2=\"452.7766126814465\" y2=\"168.31739918771592\" stroke-linecap=\"round\" style=\"stroke:green;stroke-width:4\"/><line x1=\"452.7766126814465\" y1=\"168.31739918771592\" x2=\"453.2149838282356\" y2=\"169.2161932340151\" stroke-linecap=\"round\" style=\"stroke:green;stroke-width:4\"/><line x1=\"453.2149838282356\" y1=\"169.2161932340151\" x2=\"453.63760208997627\" y2=\"170.12250102105173\" stroke-linecap=\"round\" style=\"stroke:green;stroke-width:4\"/><line x1=\"453.63760208997627\" y1=\"170.12250102105173\" x2=\"454.0443387330521\" y2=\"171.03604647869435\" stroke-linecap=\"round\" style=\"stroke:green;stroke-width:4\"/><line x1=\"454.0443387330521\" y1=\"171.03604647869435\" x2=\"454.43506986154136\" y2=\"171.95655133214677\" stroke-linecap=\"round\" style=\"stroke:green;stroke-width:4\"/><line x1=\"454.43506986154136\" y1=\"171.95655133214677\" x2=\"454.8096764549573\" y2=\"172.88373518671355\" stroke-linecap=\"round\" style=\"stroke:green;stroke-width:4\"/><line x1=\"454.8096764549573\" y1=\"172.88373518671355\" x2=\"455.1680444045026\" y2=\"173.81731561321075\" stroke-linecap=\"round\" style=\"stroke:green;stroke-width:4\"/><line x1=\"455.1680444045026\" y1=\"173.81731561321075\" x2=\"455.5100645478283\" y2=\"174.75700823399666\" stroke-linecap=\"round\" style=\"stroke:green;stroke-width:4\"/><line x1=\"455.5100645478283\" y1=\"174.75700823399666\" x2=\"455.8356327022854\" y2=\"175.70252680959598\" stroke-linecap=\"round\" style=\"stroke:green;stroke-width:4\"/><line x1=\"455.8356327022854\" y1=\"175.70252680959598\" x2=\"456.14464969666034\" y2=\"176.65358332589113\" stroke-linecap=\"round\" style=\"stroke:green;stroke-width:4\"/><line x1=\"456.14464969666034\" y1=\"176.65358332589113\" x2=\"456.43702140138305\" y2=\"177.60988808185417\" stroke-linecap=\"round\" style=\"stroke:green;stroke-width:4\"/><line x1=\"456.43702140138305\" y1=\"177.60988808185417\" x2=\"456.7126587572001\" y2=\"178.57114977779247\" stroke-linecap=\"round\" style=\"stroke:green;stroke-width:4\"/><line x1=\"456.7126587572001\" y1=\"178.57114977779247\" x2=\"456.9714778023026\" y2=\"179.53707560408154\" stroke-linecap=\"round\" style=\"stroke:green;stroke-width:4\"/><line x1=\"456.9714778023026\" y1=\"179.53707560408154\" x2=\"457.2133996979023\" y2=\"180.50737133035753\" stroke-linecap=\"round\" style=\"stroke:green;stroke-width:4\"/><line x1=\"457.2133996979023\" y1=\"180.50737133035753\" x2=\"457.43835075224615\" y2=\"181.48174139514276\" stroke-linecap=\"round\" style=\"stroke:green;stroke-width:4\"/><line x1=\"457.43835075224615\" y1=\"181.48174139514276\" x2=\"457.6462624430639\" y2=\"182.45988899587655\" stroke-linecap=\"round\" style=\"stroke:green;stroke-width:4\"/><line x1=\"457.6462624430639\" y1=\"182.45988899587655\" x2=\"457.83707143844043\" y2=\"183.44151617932422\" stroke-linecap=\"round\" style=\"stroke:green;stroke-width:4\"/><line x1=\"457.83707143844043\" y1=\"183.44151617932422\" x2=\"458.01071961610734\" y2=\"184.42632393233643\" stroke-linecap=\"round\" style=\"stroke:green;stroke-width:4\"/><line x1=\"458.01071961610734\" y1=\"184.42632393233643\" x2=\"458.16715408114754\" y2=\"185.41401227293156\" stroke-linecap=\"round\" style=\"stroke:green;stroke-width:4\"/><line x1=\"458.16715408114754\" y1=\"185.41401227293156\" x2=\"458.3063271821076\" y2=\"186.40428034167311\" stroke-linecap=\"round\" style=\"stroke:green;stroke-width:4\"/><line x1=\"458.3063271821076\" y1=\"186.40428034167311\" x2=\"458.42819652551276\" y2=\"187.39682649331445\" stroke-linecap=\"round\" style=\"stroke:green;stroke-width:4\"/><line x1=\"458.42819652551276\" y1=\"187.39682649331445\" x2=\"458.5327249887804\" y2=\"188.39134838868273\" stroke-linecap=\"round\" style=\"stroke:green;stroke-width:4\"/><line x1=\"458.5327249887804\" y1=\"188.39134838868273\" x2=\"458.61988073152804\" y2=\"189.38754308677449\" stroke-linecap=\"round\" style=\"stroke:green;stroke-width:4\"/><line x1=\"458.61988073152804\" y1=\"189.38754308677449\" x2=\"458.68963720527216\" y2=\"190.3851071370343\" stroke-linecap=\"round\" style=\"stroke:green;stroke-width:4\"/><line x1=\"458.68963720527216\" y1=\"190.3851071370343\" x2=\"458.7419731615151\" y2=\"191.38373667178888\" stroke-linecap=\"round\" style=\"stroke:green;stroke-width:4\"/><line x1=\"458.7419731615151\" y1=\"191.38373667178888\" x2=\"458.7768726582176\" y2=\"192.38312749880797\" stroke-linecap=\"round\" style=\"stroke:green;stroke-width:4\"/><line x1=\"458.7768726582176\" y1=\"192.38312749880797\" x2=\"458.79432506465486\" y2=\"193.38297519396437\" stroke-linecap=\"round\" style=\"stroke:green;stroke-width:4\"/><line x1=\"458.79432506465486\" y1=\"193.38297519396437\" x2=\"458.79432506465486\" y2=\"194.38297519396437\" stroke-linecap=\"round\" style=\"stroke:green;stroke-width:4\"/><line x1=\"458.79432506465486\" y1=\"194.38297519396437\" x2=\"458.7768726582176\" y2=\"195.38282288912077\" stroke-linecap=\"round\" style=\"stroke:green;stroke-width:4\"/><line x1=\"458.7768726582176\" y1=\"195.38282288912077\" x2=\"458.7419731615151\" y2=\"196.38221371613986\" stroke-linecap=\"round\" style=\"stroke:green;stroke-width:4\"/><line x1=\"458.7419731615151\" y1=\"196.38221371613986\" x2=\"458.68963720527216\" y2=\"197.38084325089443\" stroke-linecap=\"round\" style=\"stroke:green;stroke-width:4\"/><line x1=\"458.68963720527216\" y1=\"197.38084325089443\" x2=\"458.61988073152804\" y2=\"198.37840730115425\" stroke-linecap=\"round\" style=\"stroke:green;stroke-width:4\"/><line x1=\"458.61988073152804\" y1=\"198.37840730115425\" x2=\"458.5327249887804\" y2=\"199.374601999246\" stroke-linecap=\"round\" style=\"stroke:green;stroke-width:4\"/><line x1=\"458.5327249887804\" y1=\"199.374601999246\" x2=\"458.42819652551276\" y2=\"200.3691238946143\" stroke-linecap=\"round\" style=\"stroke:green;stroke-width:4\"/><line x1=\"458.42819652551276\" y1=\"200.3691238946143\" x2=\"458.3063271821076\" y2=\"201.36167004625563\" stroke-linecap=\"round\" style=\"stroke:green;stroke-width:4\"/><line x1=\"458.3063271821076\" y1=\"201.36167004625563\" x2=\"458.16715408114754\" y2=\"202.35193811499718\" stroke-linecap=\"round\" style=\"stroke:green;stroke-width:4\"/><line x1=\"458.16715408114754\" y1=\"202.35193811499718\" x2=\"458.01071961610734\" y2=\"203.3396264555923\" stroke-linecap=\"round\" style=\"stroke:green;stroke-width:4\"/><line x1=\"458.01071961610734\" y1=\"203.3396264555923\" x2=\"457.83707143844043\" y2=\"204.32443420860452\" stroke-linecap=\"round\" style=\"stroke:green;stroke-width:4\"/><line x1=\"457.83707143844043\" y1=\"204.32443420860452\" x2=\"457.6462624430639\" y2=\"205.3060613920522\" stroke-linecap=\"round\" style=\"stroke:green;stroke-width:4\"/><line x1=\"457.6462624430639\" y1=\"205.3060613920522\" x2=\"457.43835075224615\" y2=\"206.28420899278598\" stroke-linecap=\"round\" style=\"stroke:green;stroke-width:4\"/><line x1=\"457.43835075224615\" y1=\"206.28420899278598\" x2=\"457.2133996979023\" y2=\"207.2585790575712\" stroke-linecap=\"round\" style=\"stroke:green;stroke-width:4\"/><line x1=\"457.2133996979023\" y1=\"207.2585790575712\" x2=\"456.9714778023026\" y2=\"208.2288747838472\" stroke-linecap=\"round\" style=\"stroke:green;stroke-width:4\"/><line x1=\"456.9714778023026\" y1=\"208.2288747838472\" x2=\"456.7126587572001\" y2=\"209.19480061013627\" stroke-linecap=\"round\" style=\"stroke:green;stroke-width:4\"/><line x1=\"456.7126587572001\" y1=\"209.19480061013627\" x2=\"456.43702140138305\" y2=\"210.1560623060746\" stroke-linecap=\"round\" style=\"stroke:green;stroke-width:4\"/><line x1=\"456.43702140138305\" y1=\"210.1560623060746\" x2=\"456.14464969666034\" y2=\"211.11236706203763\" stroke-linecap=\"round\" style=\"stroke:green;stroke-width:4\"/><line x1=\"456.14464969666034\" y1=\"211.11236706203763\" x2=\"455.8356327022854\" y2=\"212.0634235783328\" stroke-linecap=\"round\" style=\"stroke:green;stroke-width:4\"/><line x1=\"455.8356327022854\" y1=\"212.0634235783328\" x2=\"455.5100645478283\" y2=\"213.0089421539321\" stroke-linecap=\"round\" style=\"stroke:green;stroke-width:4\"/><line x1=\"455.5100645478283\" y1=\"213.0089421539321\" x2=\"455.1680444045026\" y2=\"213.94863477471802\" stroke-linecap=\"round\" style=\"stroke:green;stroke-width:4\"/><line x1=\"455.1680444045026\" y1=\"213.94863477471802\" x2=\"454.8096764549573\" y2=\"214.88221520121522\" stroke-linecap=\"round\" style=\"stroke:green;stroke-width:4\"/><line x1=\"454.8096764549573\" y1=\"214.88221520121522\" x2=\"454.43506986154136\" y2=\"215.809399055782\" stroke-linecap=\"round\" style=\"stroke:green;stroke-width:4\"/><line x1=\"454.43506986154136\" y1=\"215.809399055782\" x2=\"454.0443387330521\" y2=\"216.72990390923442\" stroke-linecap=\"round\" style=\"stroke:green;stroke-width:4\"/><line x1=\"454.0443387330521\" y1=\"216.72990390923442\" x2=\"453.63760208997627\" y2=\"217.64344936687704\" stroke-linecap=\"round\" style=\"stroke:green;stroke-width:4\"/><line x1=\"453.63760208997627\" y1=\"217.64344936687704\" x2=\"453.2149838282356\" y2=\"218.54975715391367\" stroke-linecap=\"round\" style=\"stroke:green;stroke-width:4\"/><line x1=\"453.2149838282356\" y1=\"218.54975715391367\" x2=\"452.7766126814465\" y2=\"219.44855120021285\" stroke-linecap=\"round\" style=\"stroke:green;stroke-width:4\"/><line x1=\"452.7766126814465\" y1=\"219.44855120021285\" x2=\"452.322622181707\" y2=\"220.3395577244012\" stroke-linecap=\"round\" style=\"stroke:green;stroke-width:4\"/><line x1=\"452.322622181707\" y1=\"220.3395577244012\" x2=\"451.8531506189211\" y2=\"221.22250531726013\" stroke-linecap=\"round\" style=\"stroke:green;stroke-width:4\"/><line x1=\"451.8531506189211\" y1=\"221.22250531726013\" x2=\"451.3683409986748\" y2=\"222.09712502439953\" stroke-linecap=\"round\" style=\"stroke:green;stroke-width:4\"/><line x1=\"451.3683409986748\" y1=\"222.09712502439953\" x2=\"450.8683409986748\" y2=\"222.96315042818398\" stroke-linecap=\"round\" style=\"stroke:green;stroke-width:4\"/><line x1=\"450.8683409986748\" y1=\"222.96315042818398\" x2=\"450.3533029237647\" y2=\"223.8203177288861\" stroke-linecap=\"round\" style=\"stroke:green;stroke-width:4\"/><line x1=\"450.3533029237647\" y1=\"223.8203177288861\" x2=\"449.8233836595315\" y2=\"224.6683658250425\" stroke-linecap=\"round\" style=\"stroke:green;stroke-width:4\"/><line x1=\"449.8233836595315\" y1=\"224.6683658250425\" x2=\"449.27874462451643\" y2=\"225.50703639298794\" stroke-linecap=\"round\" style=\"stroke:green;stroke-width:4\"/><line x1=\"449.27874462451643\" y1=\"225.50703639298794\" x2=\"448.71955172104566\" y2=\"226.336073965543\" stroke-linecap=\"round\" style=\"stroke:green;stroke-width:4\"/><line x1=\"448.71955172104566\" y1=\"226.336073965543\" x2=\"448.1459752846946\" y2=\"227.15522600983198\" stroke-linecap=\"round\" style=\"stroke:green;stroke-width:4\"/><line x1=\"448.1459752846946\" y1=\"227.15522600983198\" x2=\"447.55819003240214\" y2=\"227.96424300420693\" stroke-linecap=\"round\" style=\"stroke:green;stroke-width:4\"/><line x1=\"447.55819003240214\" y1=\"227.96424300420693\" x2=\"446.9563750092501\" y2=\"228.76287851425423\" stroke-linecap=\"round\" style=\"stroke:green;stroke-width:4\"/><line x1=\"446.9563750092501\" y1=\"228.76287851425423\" x2=\"446.34071353392443\" y2=\"229.55088926786095\" stroke-linecap=\"round\" style=\"stroke:green;stroke-width:4\"/><line x1=\"446.34071353392443\" y1=\"229.55088926786095\" x2=\"445.7113931428746\" y2=\"230.32803522931792\" stroke-linecap=\"round\" style=\"stroke:green;stroke-width:4\"/><line x1=\"445.7113931428746\" y1=\"230.32803522931792\" x2=\"445.0686055331881\" y2=\"231.0940796724369\" stroke-linecap=\"round\" style=\"stroke:green;stroke-width:4\"/><line x1=\"445.0686055331881\" y1=\"231.0940796724369\" x2=\"444.41254650419756\" y2=\"231.84878925265966\" stroke-linecap=\"round\" style=\"stroke:green;stroke-width:4\"/><line x1=\"444.41254650419756\" y1=\"231.84878925265966\" x2=\"443.7434158978387\" y2=\"232.59193407813706\" stroke-linecap=\"round\" style=\"stroke:green;stroke-width:4\"/><line x1=\"443.7434158978387\" y1=\"232.59193407813706\" x2=\"443.0614175377762\" y2=\"233.32328777975624\" stroke-linecap=\"round\" style=\"stroke:green;stroke-width:4\"/><line x1=\"443.0614175377762\" y1=\"233.32328777975624\" x2=\"442.3667591673172\" y2=\"234.0426275800949\" stroke-linecap=\"round\" style=\"stroke:green;stroke-width:4\"/><line x1=\"442.3667591673172\" y1=\"234.0426275800949\" x2=\"441.65965238613063\" y2=\"234.74973436128144\" stroke-linecap=\"round\" style=\"stroke:green;stroke-width:4\"/><line x1=\"441.65965238613063\" y1=\"234.74973436128144\" x2=\"440.94031258579196\" y2=\"235.44439273174044\" stroke-linecap=\"round\" style=\"stroke:green;stroke-width:4\"/><line x1=\"440.94031258579196\" y1=\"235.44439273174044\" x2=\"440.2089588841728\" y2=\"236.12639109180293\" stroke-linecap=\"round\" style=\"stroke:green;stroke-width:4\"/><line x1=\"440.2089588841728\" y1=\"236.12639109180293\" x2=\"439.4658140586954\" y2=\"236.7955216981618\" stroke-linecap=\"round\" style=\"stroke:green;stroke-width:4\"/><line x1=\"439.4658140586954\" y1=\"236.7955216981618\" x2=\"438.71110447847263\" y2=\"237.4515807271523\" stroke-linecap=\"round\" style=\"stroke:green;stroke-width:4\"/><line x1=\"438.71110447847263\" y1=\"237.4515807271523\" x2=\"437.94506003535366\" y2=\"238.09436833683884\" stroke-linecap=\"round\" style=\"stroke:green;stroke-width:4\"/><line x1=\"437.94506003535366\" y1=\"238.09436833683884\" x2=\"437.16791407389667\" y2=\"238.72368872788869\" stroke-linecap=\"round\" style=\"stroke:green;stroke-width:4\"/><line x1=\"437.16791407389667\" y1=\"238.72368872788869\" x2=\"436.37990332028994\" y2=\"239.33935020321434\" stroke-linecap=\"round\" style=\"stroke:green;stroke-width:4\"/><line x1=\"436.37990332028994\" y1=\"239.33935020321434\" x2=\"435.58126781024265\" y2=\"239.9411652263664\" stroke-linecap=\"round\" style=\"stroke:green;stroke-width:4\"/><line x1=\"435.58126781024265\" y1=\"239.9411652263664\" x2=\"434.7722508158677\" y2=\"240.52895047865886\" stroke-linecap=\"round\" style=\"stroke:green;stroke-width:4\"/><line x1=\"434.7722508158677\" y1=\"240.52895047865886\" x2=\"433.9530987715787\" y2=\"241.1025269150099\" stroke-linecap=\"round\" style=\"stroke:green;stroke-width:4\"/><line x1=\"433.9530987715787\" y1=\"241.1025269150099\" x2=\"433.1240611990237\" y2=\"241.66171981848063\" stroke-linecap=\"round\" style=\"stroke:green;stroke-width:4\"/><line x1=\"433.1240611990237\" y1=\"241.66171981848063\" x2=\"432.28539063107826\" y2=\"242.20635885349566\" stroke-linecap=\"round\" style=\"stroke:green;stroke-width:4\"/><line x1=\"432.28539063107826\" y1=\"242.20635885349566\" x2=\"431.4373425349218\" y2=\"242.73627811772886\" stroke-linecap=\"round\" style=\"stroke:green;stroke-width:4\"/><line x1=\"431.4373425349218\" y1=\"242.73627811772886\" x2=\"430.5801752342197\" y2=\"243.2513161926389\" stroke-linecap=\"round\" style=\"stroke:green;stroke-width:4\"/><line x1=\"430.5801752342197\" y1=\"243.2513161926389\" x2=\"429.7141498304353\" y2=\"243.7513161926389\" stroke-linecap=\"round\" style=\"stroke:green;stroke-width:4\"/><line x1=\"429.7141498304353\" y1=\"243.7513161926389\" x2=\"428.8395301232959\" y2=\"244.23612581288523\" stroke-linecap=\"round\" style=\"stroke:green;stroke-width:4\"/><line x1=\"428.8395301232959\" y1=\"244.23612581288523\" x2=\"427.95658253043695\" y2=\"244.70559737567112\" stroke-linecap=\"round\" style=\"stroke:green;stroke-width:4\"/><line x1=\"427.95658253043695\" y1=\"244.70559737567112\" x2=\"427.0655760062486\" y2=\"245.15958787541066\" stroke-linecap=\"round\" style=\"stroke:green;stroke-width:4\"/><line x1=\"427.0655760062486\" y1=\"245.15958787541066\" x2=\"426.16678195994945\" y2=\"245.59795902219975\" stroke-linecap=\"round\" style=\"stroke:green;stroke-width:4\"/><line x1=\"426.16678195994945\" y1=\"245.59795902219975\" x2=\"425.2604741729128\" y2=\"246.02057728394044\" stroke-linecap=\"round\" style=\"stroke:green;stroke-width:4\"/><line x1=\"425.2604741729128\" y1=\"246.02057728394044\" x2=\"424.34692871527017\" y2=\"246.42731392701623\" stroke-linecap=\"round\" style=\"stroke:green;stroke-width:4\"/><line x1=\"424.34692871527017\" y1=\"246.42731392701623\" x2=\"423.42642386181774\" y2=\"246.8180450555055\" stroke-linecap=\"round\" style=\"stroke:green;stroke-width:4\"/><line x1=\"423.42642386181774\" y1=\"246.8180450555055\" x2=\"422.49924000725093\" y2=\"247.1926516489214\" stroke-linecap=\"round\" style=\"stroke:green;stroke-width:4\"/><line x1=\"422.49924000725093\" y1=\"247.1926516489214\" x2=\"421.56565958075373\" y2=\"247.55101959846672\" stroke-linecap=\"round\" style=\"stroke:green;stroke-width:4\"/><line x1=\"421.56565958075373\" y1=\"247.55101959846672\" x2=\"420.6259669599678\" y2=\"247.8930397417924\" stroke-linecap=\"round\" style=\"stroke:green;stroke-width:4\"/><line x1=\"420.6259669599678\" y1=\"247.8930397417924\" x2=\"419.6804483843685\" y2=\"248.21860789624955\" stroke-linecap=\"round\" style=\"stroke:green;stroke-width:4\"/><line x1=\"419.6804483843685\" y1=\"248.21860789624955\" x2=\"418.7293918680734\" y2=\"248.5276248906245\" stroke-linecap=\"round\" style=\"stroke:green;stroke-width:4\"/><line x1=\"418.7293918680734\" y1=\"248.5276248906245\" x2=\"417.7730871121103\" y2=\"248.81999659534725\" stroke-linecap=\"round\" style=\"stroke:green;stroke-width:4\"/><line x1=\"417.7730871121103\" y1=\"248.81999659534725\" x2=\"416.811825416172\" y2=\"249.09563395116425\" stroke-linecap=\"round\" style=\"stroke:green;stroke-width:4\"/><line x1=\"416.811825416172\" y1=\"249.09563395116425\" x2=\"415.8458995898829\" y2=\"249.35445299626676\" stroke-linecap=\"round\" style=\"stroke:green;stroke-width:4\"/><line x1=\"415.8458995898829\" y1=\"249.35445299626676\" x2=\"414.8756038636069\" y2=\"249.59637489186642\" stroke-linecap=\"round\" style=\"stroke:green;stroke-width:4\"/><line x1=\"414.8756038636069\" y1=\"249.59637489186642\" x2=\"413.90123379882164\" y2=\"249.8213259462103\" stroke-linecap=\"round\" style=\"stroke:green;stroke-width:4\"/><line x1=\"413.90123379882164\" y1=\"249.8213259462103\" x2=\"412.92308619808784\" y2=\"250.02923763702805\" stroke-linecap=\"round\" style=\"stroke:green;stroke-width:4\"/><line x1=\"412.92308619808784\" y1=\"250.02923763702805\" x2=\"411.9414590146402\" y2=\"250.2200466324046\" stroke-linecap=\"round\" style=\"stroke:green;stroke-width:4\"/><line x1=\"411.9414590146402\" y1=\"250.2200466324046\" x2=\"410.956651261628\" y2=\"250.39369481007154\" stroke-linecap=\"round\" style=\"stroke:green;stroke-width:4\"/><line x1=\"410.956651261628\" y1=\"250.39369481007154\" x2=\"409.96896292103287\" y2=\"250.55012927511177\" stroke-linecap=\"round\" style=\"stroke:green;stroke-width:4\"/><line x1=\"409.96896292103287\" y1=\"250.55012927511177\" x2=\"408.9786948522913\" y2=\"250.68930237607185\" stroke-linecap=\"round\" style=\"stroke:green;stroke-width:4\"/><line x1=\"408.9786948522913\" y1=\"250.68930237607185\" x2=\"407.98614870065\" y2=\"250.811171719477\" stroke-linecap=\"round\" style=\"stroke:green;stroke-width:4\"/><line x1=\"407.98614870065\" y1=\"250.811171719477\" x2=\"406.9916268052817\" y2=\"250.91570018274464\" stroke-linecap=\"round\" style=\"stroke:green;stroke-width:4\"/><line x1=\"406.9916268052817\" y1=\"250.91570018274464\" x2=\"405.99543210718997\" y2=\"251.0028559254923\" stroke-linecap=\"round\" style=\"stroke:green;stroke-width:4\"/><line x1=\"405.99543210718997\" y1=\"251.0028559254923\" x2=\"404.99786805693014\" y2=\"251.07261239923642\" stroke-linecap=\"round\" style=\"stroke:green;stroke-width:4\"/><line x1=\"404.99786805693014\" y1=\"251.07261239923642\" x2=\"403.9992385221756\" y2=\"251.12494835547938\" stroke-linecap=\"round\" style=\"stroke:green;stroke-width:4\"/><line x1=\"403.9992385221756\" y1=\"251.12494835547938\" x2=\"402.99984769515646\" y2=\"251.15984785218188\" stroke-linecap=\"round\" style=\"stroke:green;stroke-width:4\"/><line x1=\"402.99984769515646\" y1=\"251.15984785218188\" x2=\"402.00000000000006\" y2=\"251.17730025861917\" stroke-linecap=\"round\" style=\"stroke:green;stroke-width:4\"/>\n",
              "        \n",
              "      <g visibility=visible transform=\"rotate(180,402.00000000000006,251.17730025861917) translate(402.00000000000006, 251.17730025861917)\">\n",
              "        <circle stroke=\"green\" stroke-width=\"3\" fill=\"transparent\" r=\"12\" cx=\"0\" cy=\"0\"/>\n",
              "        <polygon points=\"0,19 3,16 -3,16\" style=\"fill:green;stroke:green;stroke-width:2\"/>\n",
              "      </g>\n",
              "    \n",
              "      </svg>\n",
              "    "
            ],
            "text/plain": [
              "<IPython.core.display.HTML object>"
            ]
          },
          "metadata": {
            "tags": []
          }
        }
      ]
    },
    {
      "cell_type": "code",
      "metadata": {
        "id": "jX5YKipQGMsF",
        "colab_type": "code",
        "colab": {}
      },
      "source": [
        ""
      ],
      "execution_count": 21,
      "outputs": []
    }
  ]
}